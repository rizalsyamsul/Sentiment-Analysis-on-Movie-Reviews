{
  "cells": [
    {
      "cell_type": "code",
      "execution_count": null,
      "metadata": {
        "id": "rMK-PoKDqwiO"
      },
      "outputs": [],
      "source": [
        "from sklearn.model_selection import train_test_split\n",
        "import gensim\n",
        "from tqdm import tqdm\n",
        "from sklearn.preprocessing import StandardScaler\n",
        "import pandas as pd\n",
        "import numpy as np\n",
        "import re\n",
        "import string\n",
        "import nltk\n",
        "from sklearn.naive_bayes import GaussianNB, MultinomialNB, BernoulliNB, CategoricalNB, ComplementNB\n",
        "from sklearn import metrics\n",
        "from sklearn.metrics import accuracy_score\n",
        "from sklearn.metrics import confusion_matrix\n",
        "from sklearn.metrics import classification_report\n",
        "from sklearn.metrics import f1_score\n",
        "from sklearn.metrics import precision_score\n",
        "from sklearn.metrics import recall_score\n",
        "from sklearn.metrics import hamming_loss\n",
        "\n",
        "import ast"
      ]
    },
    {
      "cell_type": "code",
      "source": [
        "nltk.download('punkt')\n",
        "nltk.download('wordnet')\n",
        "nltk.download('stopwords')\n",
        "nltk.download('averaged_perceptron_tagger')"
      ],
      "metadata": {
        "colab": {
          "base_uri": "https://localhost:8080/"
        },
        "id": "rT4uu8PkoyBt",
        "outputId": "2c523d9b-96fc-4dcb-898d-0321c60b714f"
      },
      "execution_count": null,
      "outputs": [
        {
          "output_type": "stream",
          "name": "stdout",
          "text": [
            "[nltk_data] Downloading package punkt to /root/nltk_data...\n",
            "[nltk_data]   Package punkt is already up-to-date!\n",
            "[nltk_data] Downloading package wordnet to /root/nltk_data...\n",
            "[nltk_data]   Package wordnet is already up-to-date!\n",
            "[nltk_data] Downloading package stopwords to /root/nltk_data...\n",
            "[nltk_data]   Package stopwords is already up-to-date!\n",
            "[nltk_data] Downloading package averaged_perceptron_tagger to\n",
            "[nltk_data]     /root/nltk_data...\n",
            "[nltk_data]   Package averaged_perceptron_tagger is already up-to-\n",
            "[nltk_data]       date!\n"
          ]
        },
        {
          "output_type": "execute_result",
          "data": {
            "text/plain": [
              "True"
            ]
          },
          "metadata": {},
          "execution_count": 2
        }
      ]
    },
    {
      "cell_type": "markdown",
      "metadata": {
        "id": "2oTXiIZLqxDM"
      },
      "source": [
        "#Data"
      ]
    },
    {
      "cell_type": "code",
      "execution_count": null,
      "metadata": {
        "colab": {
          "base_uri": "https://localhost:8080/"
        },
        "id": "hiyfeVGcq5iJ",
        "outputId": "c82e3f19-8c9d-4fca-d764-55f82cf05613"
      },
      "outputs": [
        {
          "output_type": "stream",
          "name": "stdout",
          "text": [
            "Drive already mounted at /content/drive; to attempt to forcibly remount, call drive.mount(\"/content/drive\", force_remount=True).\n"
          ]
        }
      ],
      "source": [
        "from google.colab import drive\n",
        "drive.mount('/content/drive')"
      ]
    },
    {
      "cell_type": "code",
      "execution_count": null,
      "metadata": {
        "colab": {
          "base_uri": "https://localhost:8080/",
          "height": 424
        },
        "id": "5FwvFd88q8hl",
        "outputId": "1050712d-9b7c-4188-f467-4d270082823d"
      },
      "outputs": [
        {
          "output_type": "execute_result",
          "data": {
            "text/plain": [
              "   Unnamed: 0                                     review_content  review_type  \\\n",
              "0         145  as a former middle school teacher of gifted li...            0   \n",
              "1         146  the lightning thief is an admirable kid's fant...            0   \n",
              "2         147                                 ok, but only just.            1   \n",
              "3         148  there's nothing resembling a spark in this fil...            1   \n",
              "4         289  please give is truly a film for our age; it's ...            0   \n",
              "\n",
              "                                           rev_clean  \\\n",
              "0  as a former middle school teacher of gifted li...   \n",
              "1  the lightning thief is an admirable kid s fant...   \n",
              "2                                  ok but only just    \n",
              "3  there s nothing resembling a spark in this fil...   \n",
              "4  please give is truly a film for our age it s d...   \n",
              "\n",
              "                                           rev_token  \\\n",
              "0  ['as', 'a', 'former', 'middle', 'school', 'tea...   \n",
              "1  ['the', 'lightning', 'thief', 'is', 'an', 'adm...   \n",
              "2                      ['ok', 'but', 'only', 'just']   \n",
              "3  ['there', 's', 'nothing', 'resembling', 'a', '...   \n",
              "4  ['please', 'give', 'is', 'truly', 'a', 'film',...   \n",
              "\n",
              "                                        rev_removesw  \\\n",
              "0  ['middle', 'school', 'teacher', 'gifted', 'lit...   \n",
              "1  ['lightning', 'thief', 'admirable', 'kid', 'fa...   \n",
              "2                                                 []   \n",
              "3                    ['resembling', 'spark', 'film']   \n",
              "4  ['film', 'age', 'darkly', 'comic', 'stuff', 'm...   \n",
              "\n",
              "                                            rev_stem  \n",
              "0  ['middl', 'school', 'teacher', 'gift', 'litera...  \n",
              "1     ['lightn', 'thief', 'admir', 'kid', 'fantasi']  \n",
              "2                                                 []  \n",
              "3                       ['resembl', 'spark', 'film']  \n",
              "4  ['film', 'age', 'darkli', 'comic', 'stuff', 'm...  "
            ],
            "text/html": [
              "\n",
              "  <div id=\"df-94b9f0a4-3683-46df-bb6c-c21a480782e5\">\n",
              "    <div class=\"colab-df-container\">\n",
              "      <div>\n",
              "<style scoped>\n",
              "    .dataframe tbody tr th:only-of-type {\n",
              "        vertical-align: middle;\n",
              "    }\n",
              "\n",
              "    .dataframe tbody tr th {\n",
              "        vertical-align: top;\n",
              "    }\n",
              "\n",
              "    .dataframe thead th {\n",
              "        text-align: right;\n",
              "    }\n",
              "</style>\n",
              "<table border=\"1\" class=\"dataframe\">\n",
              "  <thead>\n",
              "    <tr style=\"text-align: right;\">\n",
              "      <th></th>\n",
              "      <th>Unnamed: 0</th>\n",
              "      <th>review_content</th>\n",
              "      <th>review_type</th>\n",
              "      <th>rev_clean</th>\n",
              "      <th>rev_token</th>\n",
              "      <th>rev_removesw</th>\n",
              "      <th>rev_stem</th>\n",
              "    </tr>\n",
              "  </thead>\n",
              "  <tbody>\n",
              "    <tr>\n",
              "      <th>0</th>\n",
              "      <td>145</td>\n",
              "      <td>as a former middle school teacher of gifted li...</td>\n",
              "      <td>0</td>\n",
              "      <td>as a former middle school teacher of gifted li...</td>\n",
              "      <td>['as', 'a', 'former', 'middle', 'school', 'tea...</td>\n",
              "      <td>['middle', 'school', 'teacher', 'gifted', 'lit...</td>\n",
              "      <td>['middl', 'school', 'teacher', 'gift', 'litera...</td>\n",
              "    </tr>\n",
              "    <tr>\n",
              "      <th>1</th>\n",
              "      <td>146</td>\n",
              "      <td>the lightning thief is an admirable kid's fant...</td>\n",
              "      <td>0</td>\n",
              "      <td>the lightning thief is an admirable kid s fant...</td>\n",
              "      <td>['the', 'lightning', 'thief', 'is', 'an', 'adm...</td>\n",
              "      <td>['lightning', 'thief', 'admirable', 'kid', 'fa...</td>\n",
              "      <td>['lightn', 'thief', 'admir', 'kid', 'fantasi']</td>\n",
              "    </tr>\n",
              "    <tr>\n",
              "      <th>2</th>\n",
              "      <td>147</td>\n",
              "      <td>ok, but only just.</td>\n",
              "      <td>1</td>\n",
              "      <td>ok but only just</td>\n",
              "      <td>['ok', 'but', 'only', 'just']</td>\n",
              "      <td>[]</td>\n",
              "      <td>[]</td>\n",
              "    </tr>\n",
              "    <tr>\n",
              "      <th>3</th>\n",
              "      <td>148</td>\n",
              "      <td>there's nothing resembling a spark in this fil...</td>\n",
              "      <td>1</td>\n",
              "      <td>there s nothing resembling a spark in this fil...</td>\n",
              "      <td>['there', 's', 'nothing', 'resembling', 'a', '...</td>\n",
              "      <td>['resembling', 'spark', 'film']</td>\n",
              "      <td>['resembl', 'spark', 'film']</td>\n",
              "    </tr>\n",
              "    <tr>\n",
              "      <th>4</th>\n",
              "      <td>289</td>\n",
              "      <td>please give is truly a film for our age; it's ...</td>\n",
              "      <td>0</td>\n",
              "      <td>please give is truly a film for our age it s d...</td>\n",
              "      <td>['please', 'give', 'is', 'truly', 'a', 'film',...</td>\n",
              "      <td>['film', 'age', 'darkly', 'comic', 'stuff', 'm...</td>\n",
              "      <td>['film', 'age', 'darkli', 'comic', 'stuff', 'm...</td>\n",
              "    </tr>\n",
              "  </tbody>\n",
              "</table>\n",
              "</div>\n",
              "      <button class=\"colab-df-convert\" onclick=\"convertToInteractive('df-94b9f0a4-3683-46df-bb6c-c21a480782e5')\"\n",
              "              title=\"Convert this dataframe to an interactive table.\"\n",
              "              style=\"display:none;\">\n",
              "        \n",
              "  <svg xmlns=\"http://www.w3.org/2000/svg\" height=\"24px\"viewBox=\"0 0 24 24\"\n",
              "       width=\"24px\">\n",
              "    <path d=\"M0 0h24v24H0V0z\" fill=\"none\"/>\n",
              "    <path d=\"M18.56 5.44l.94 2.06.94-2.06 2.06-.94-2.06-.94-.94-2.06-.94 2.06-2.06.94zm-11 1L8.5 8.5l.94-2.06 2.06-.94-2.06-.94L8.5 2.5l-.94 2.06-2.06.94zm10 10l.94 2.06.94-2.06 2.06-.94-2.06-.94-.94-2.06-.94 2.06-2.06.94z\"/><path d=\"M17.41 7.96l-1.37-1.37c-.4-.4-.92-.59-1.43-.59-.52 0-1.04.2-1.43.59L10.3 9.45l-7.72 7.72c-.78.78-.78 2.05 0 2.83L4 21.41c.39.39.9.59 1.41.59.51 0 1.02-.2 1.41-.59l7.78-7.78 2.81-2.81c.8-.78.8-2.07 0-2.86zM5.41 20L4 18.59l7.72-7.72 1.47 1.35L5.41 20z\"/>\n",
              "  </svg>\n",
              "      </button>\n",
              "      \n",
              "  <style>\n",
              "    .colab-df-container {\n",
              "      display:flex;\n",
              "      flex-wrap:wrap;\n",
              "      gap: 12px;\n",
              "    }\n",
              "\n",
              "    .colab-df-convert {\n",
              "      background-color: #E8F0FE;\n",
              "      border: none;\n",
              "      border-radius: 50%;\n",
              "      cursor: pointer;\n",
              "      display: none;\n",
              "      fill: #1967D2;\n",
              "      height: 32px;\n",
              "      padding: 0 0 0 0;\n",
              "      width: 32px;\n",
              "    }\n",
              "\n",
              "    .colab-df-convert:hover {\n",
              "      background-color: #E2EBFA;\n",
              "      box-shadow: 0px 1px 2px rgba(60, 64, 67, 0.3), 0px 1px 3px 1px rgba(60, 64, 67, 0.15);\n",
              "      fill: #174EA6;\n",
              "    }\n",
              "\n",
              "    [theme=dark] .colab-df-convert {\n",
              "      background-color: #3B4455;\n",
              "      fill: #D2E3FC;\n",
              "    }\n",
              "\n",
              "    [theme=dark] .colab-df-convert:hover {\n",
              "      background-color: #434B5C;\n",
              "      box-shadow: 0px 1px 3px 1px rgba(0, 0, 0, 0.15);\n",
              "      filter: drop-shadow(0px 1px 2px rgba(0, 0, 0, 0.3));\n",
              "      fill: #FFFFFF;\n",
              "    }\n",
              "  </style>\n",
              "\n",
              "      <script>\n",
              "        const buttonEl =\n",
              "          document.querySelector('#df-94b9f0a4-3683-46df-bb6c-c21a480782e5 button.colab-df-convert');\n",
              "        buttonEl.style.display =\n",
              "          google.colab.kernel.accessAllowed ? 'block' : 'none';\n",
              "\n",
              "        async function convertToInteractive(key) {\n",
              "          const element = document.querySelector('#df-94b9f0a4-3683-46df-bb6c-c21a480782e5');\n",
              "          const dataTable =\n",
              "            await google.colab.kernel.invokeFunction('convertToInteractive',\n",
              "                                                     [key], {});\n",
              "          if (!dataTable) return;\n",
              "\n",
              "          const docLinkHtml = 'Like what you see? Visit the ' +\n",
              "            '<a target=\"_blank\" href=https://colab.research.google.com/notebooks/data_table.ipynb>data table notebook</a>'\n",
              "            + ' to learn more about interactive tables.';\n",
              "          element.innerHTML = '';\n",
              "          dataTable['output_type'] = 'display_data';\n",
              "          await google.colab.output.renderOutput(dataTable, element);\n",
              "          const docLink = document.createElement('div');\n",
              "          docLink.innerHTML = docLinkHtml;\n",
              "          element.appendChild(docLink);\n",
              "        }\n",
              "      </script>\n",
              "    </div>\n",
              "  </div>\n",
              "  "
            ]
          },
          "metadata": {},
          "execution_count": 42
        }
      ],
      "source": [
        "df = pd.read_csv('drive/My Drive/TUGAS AKHIR/DATASET_2/Final Dataset/data_preprocess.csv')\n",
        "dataword2vec = df[\"review_content\"]\n",
        "df.head()"
      ]
    },
    {
      "cell_type": "code",
      "source": [
        "import seaborn as sns\n",
        "import plotly.express as px\n",
        "fig = px.bar(df.groupby('review_type').size().reset_index(name='count'), \n",
        "             x='review_type', y='count', width=480, height=480, \n",
        "             barmode='group', title='Distribusi label')\n",
        "fig.show(renderer='colab')"
      ],
      "metadata": {
        "colab": {
          "base_uri": "https://localhost:8080/",
          "height": 497
        },
        "id": "rkjgt7mqSbQS",
        "outputId": "c17d6675-5bc5-4cc2-dac6-2b38fe45b279"
      },
      "execution_count": null,
      "outputs": [
        {
          "output_type": "display_data",
          "data": {
            "text/html": [
              "<html>\n",
              "<head><meta charset=\"utf-8\" /></head>\n",
              "<body>\n",
              "    <div>            <script src=\"https://cdnjs.cloudflare.com/ajax/libs/mathjax/2.7.5/MathJax.js?config=TeX-AMS-MML_SVG\"></script><script type=\"text/javascript\">if (window.MathJax) {MathJax.Hub.Config({SVG: {font: \"STIX-Web\"}});}</script>                <script type=\"text/javascript\">window.PlotlyConfig = {MathJaxConfig: 'local'};</script>\n",
              "        <script src=\"https://cdn.plot.ly/plotly-2.8.3.min.js\"></script>                <div id=\"dcfe0ae7-5c5e-4f47-9010-258ad8645385\" class=\"plotly-graph-div\" style=\"height:480px; width:480px;\"></div>            <script type=\"text/javascript\">                                    window.PLOTLYENV=window.PLOTLYENV || {};                                    if (document.getElementById(\"dcfe0ae7-5c5e-4f47-9010-258ad8645385\")) {                    Plotly.newPlot(                        \"dcfe0ae7-5c5e-4f47-9010-258ad8645385\",                        [{\"alignmentgroup\":\"True\",\"hovertemplate\":\"review_type=%{x}<br>count=%{y}<extra></extra>\",\"legendgroup\":\"\",\"marker\":{\"color\":\"#636efa\",\"pattern\":{\"shape\":\"\"}},\"name\":\"\",\"offsetgroup\":\"\",\"orientation\":\"v\",\"showlegend\":false,\"textposition\":\"auto\",\"x\":[0,1],\"xaxis\":\"x\",\"y\":[29015,11756],\"yaxis\":\"y\",\"type\":\"bar\"}],                        {\"template\":{\"data\":{\"bar\":[{\"error_x\":{\"color\":\"#2a3f5f\"},\"error_y\":{\"color\":\"#2a3f5f\"},\"marker\":{\"line\":{\"color\":\"#E5ECF6\",\"width\":0.5},\"pattern\":{\"fillmode\":\"overlay\",\"size\":10,\"solidity\":0.2}},\"type\":\"bar\"}],\"barpolar\":[{\"marker\":{\"line\":{\"color\":\"#E5ECF6\",\"width\":0.5},\"pattern\":{\"fillmode\":\"overlay\",\"size\":10,\"solidity\":0.2}},\"type\":\"barpolar\"}],\"carpet\":[{\"aaxis\":{\"endlinecolor\":\"#2a3f5f\",\"gridcolor\":\"white\",\"linecolor\":\"white\",\"minorgridcolor\":\"white\",\"startlinecolor\":\"#2a3f5f\"},\"baxis\":{\"endlinecolor\":\"#2a3f5f\",\"gridcolor\":\"white\",\"linecolor\":\"white\",\"minorgridcolor\":\"white\",\"startlinecolor\":\"#2a3f5f\"},\"type\":\"carpet\"}],\"choropleth\":[{\"colorbar\":{\"outlinewidth\":0,\"ticks\":\"\"},\"type\":\"choropleth\"}],\"contour\":[{\"colorbar\":{\"outlinewidth\":0,\"ticks\":\"\"},\"colorscale\":[[0.0,\"#0d0887\"],[0.1111111111111111,\"#46039f\"],[0.2222222222222222,\"#7201a8\"],[0.3333333333333333,\"#9c179e\"],[0.4444444444444444,\"#bd3786\"],[0.5555555555555556,\"#d8576b\"],[0.6666666666666666,\"#ed7953\"],[0.7777777777777778,\"#fb9f3a\"],[0.8888888888888888,\"#fdca26\"],[1.0,\"#f0f921\"]],\"type\":\"contour\"}],\"contourcarpet\":[{\"colorbar\":{\"outlinewidth\":0,\"ticks\":\"\"},\"type\":\"contourcarpet\"}],\"heatmap\":[{\"colorbar\":{\"outlinewidth\":0,\"ticks\":\"\"},\"colorscale\":[[0.0,\"#0d0887\"],[0.1111111111111111,\"#46039f\"],[0.2222222222222222,\"#7201a8\"],[0.3333333333333333,\"#9c179e\"],[0.4444444444444444,\"#bd3786\"],[0.5555555555555556,\"#d8576b\"],[0.6666666666666666,\"#ed7953\"],[0.7777777777777778,\"#fb9f3a\"],[0.8888888888888888,\"#fdca26\"],[1.0,\"#f0f921\"]],\"type\":\"heatmap\"}],\"heatmapgl\":[{\"colorbar\":{\"outlinewidth\":0,\"ticks\":\"\"},\"colorscale\":[[0.0,\"#0d0887\"],[0.1111111111111111,\"#46039f\"],[0.2222222222222222,\"#7201a8\"],[0.3333333333333333,\"#9c179e\"],[0.4444444444444444,\"#bd3786\"],[0.5555555555555556,\"#d8576b\"],[0.6666666666666666,\"#ed7953\"],[0.7777777777777778,\"#fb9f3a\"],[0.8888888888888888,\"#fdca26\"],[1.0,\"#f0f921\"]],\"type\":\"heatmapgl\"}],\"histogram\":[{\"marker\":{\"pattern\":{\"fillmode\":\"overlay\",\"size\":10,\"solidity\":0.2}},\"type\":\"histogram\"}],\"histogram2d\":[{\"colorbar\":{\"outlinewidth\":0,\"ticks\":\"\"},\"colorscale\":[[0.0,\"#0d0887\"],[0.1111111111111111,\"#46039f\"],[0.2222222222222222,\"#7201a8\"],[0.3333333333333333,\"#9c179e\"],[0.4444444444444444,\"#bd3786\"],[0.5555555555555556,\"#d8576b\"],[0.6666666666666666,\"#ed7953\"],[0.7777777777777778,\"#fb9f3a\"],[0.8888888888888888,\"#fdca26\"],[1.0,\"#f0f921\"]],\"type\":\"histogram2d\"}],\"histogram2dcontour\":[{\"colorbar\":{\"outlinewidth\":0,\"ticks\":\"\"},\"colorscale\":[[0.0,\"#0d0887\"],[0.1111111111111111,\"#46039f\"],[0.2222222222222222,\"#7201a8\"],[0.3333333333333333,\"#9c179e\"],[0.4444444444444444,\"#bd3786\"],[0.5555555555555556,\"#d8576b\"],[0.6666666666666666,\"#ed7953\"],[0.7777777777777778,\"#fb9f3a\"],[0.8888888888888888,\"#fdca26\"],[1.0,\"#f0f921\"]],\"type\":\"histogram2dcontour\"}],\"mesh3d\":[{\"colorbar\":{\"outlinewidth\":0,\"ticks\":\"\"},\"type\":\"mesh3d\"}],\"parcoords\":[{\"line\":{\"colorbar\":{\"outlinewidth\":0,\"ticks\":\"\"}},\"type\":\"parcoords\"}],\"pie\":[{\"automargin\":true,\"type\":\"pie\"}],\"scatter\":[{\"marker\":{\"colorbar\":{\"outlinewidth\":0,\"ticks\":\"\"}},\"type\":\"scatter\"}],\"scatter3d\":[{\"line\":{\"colorbar\":{\"outlinewidth\":0,\"ticks\":\"\"}},\"marker\":{\"colorbar\":{\"outlinewidth\":0,\"ticks\":\"\"}},\"type\":\"scatter3d\"}],\"scattercarpet\":[{\"marker\":{\"colorbar\":{\"outlinewidth\":0,\"ticks\":\"\"}},\"type\":\"scattercarpet\"}],\"scattergeo\":[{\"marker\":{\"colorbar\":{\"outlinewidth\":0,\"ticks\":\"\"}},\"type\":\"scattergeo\"}],\"scattergl\":[{\"marker\":{\"colorbar\":{\"outlinewidth\":0,\"ticks\":\"\"}},\"type\":\"scattergl\"}],\"scattermapbox\":[{\"marker\":{\"colorbar\":{\"outlinewidth\":0,\"ticks\":\"\"}},\"type\":\"scattermapbox\"}],\"scatterpolar\":[{\"marker\":{\"colorbar\":{\"outlinewidth\":0,\"ticks\":\"\"}},\"type\":\"scatterpolar\"}],\"scatterpolargl\":[{\"marker\":{\"colorbar\":{\"outlinewidth\":0,\"ticks\":\"\"}},\"type\":\"scatterpolargl\"}],\"scatterternary\":[{\"marker\":{\"colorbar\":{\"outlinewidth\":0,\"ticks\":\"\"}},\"type\":\"scatterternary\"}],\"surface\":[{\"colorbar\":{\"outlinewidth\":0,\"ticks\":\"\"},\"colorscale\":[[0.0,\"#0d0887\"],[0.1111111111111111,\"#46039f\"],[0.2222222222222222,\"#7201a8\"],[0.3333333333333333,\"#9c179e\"],[0.4444444444444444,\"#bd3786\"],[0.5555555555555556,\"#d8576b\"],[0.6666666666666666,\"#ed7953\"],[0.7777777777777778,\"#fb9f3a\"],[0.8888888888888888,\"#fdca26\"],[1.0,\"#f0f921\"]],\"type\":\"surface\"}],\"table\":[{\"cells\":{\"fill\":{\"color\":\"#EBF0F8\"},\"line\":{\"color\":\"white\"}},\"header\":{\"fill\":{\"color\":\"#C8D4E3\"},\"line\":{\"color\":\"white\"}},\"type\":\"table\"}]},\"layout\":{\"annotationdefaults\":{\"arrowcolor\":\"#2a3f5f\",\"arrowhead\":0,\"arrowwidth\":1},\"autotypenumbers\":\"strict\",\"coloraxis\":{\"colorbar\":{\"outlinewidth\":0,\"ticks\":\"\"}},\"colorscale\":{\"diverging\":[[0,\"#8e0152\"],[0.1,\"#c51b7d\"],[0.2,\"#de77ae\"],[0.3,\"#f1b6da\"],[0.4,\"#fde0ef\"],[0.5,\"#f7f7f7\"],[0.6,\"#e6f5d0\"],[0.7,\"#b8e186\"],[0.8,\"#7fbc41\"],[0.9,\"#4d9221\"],[1,\"#276419\"]],\"sequential\":[[0.0,\"#0d0887\"],[0.1111111111111111,\"#46039f\"],[0.2222222222222222,\"#7201a8\"],[0.3333333333333333,\"#9c179e\"],[0.4444444444444444,\"#bd3786\"],[0.5555555555555556,\"#d8576b\"],[0.6666666666666666,\"#ed7953\"],[0.7777777777777778,\"#fb9f3a\"],[0.8888888888888888,\"#fdca26\"],[1.0,\"#f0f921\"]],\"sequentialminus\":[[0.0,\"#0d0887\"],[0.1111111111111111,\"#46039f\"],[0.2222222222222222,\"#7201a8\"],[0.3333333333333333,\"#9c179e\"],[0.4444444444444444,\"#bd3786\"],[0.5555555555555556,\"#d8576b\"],[0.6666666666666666,\"#ed7953\"],[0.7777777777777778,\"#fb9f3a\"],[0.8888888888888888,\"#fdca26\"],[1.0,\"#f0f921\"]]},\"colorway\":[\"#636efa\",\"#EF553B\",\"#00cc96\",\"#ab63fa\",\"#FFA15A\",\"#19d3f3\",\"#FF6692\",\"#B6E880\",\"#FF97FF\",\"#FECB52\"],\"font\":{\"color\":\"#2a3f5f\"},\"geo\":{\"bgcolor\":\"white\",\"lakecolor\":\"white\",\"landcolor\":\"#E5ECF6\",\"showlakes\":true,\"showland\":true,\"subunitcolor\":\"white\"},\"hoverlabel\":{\"align\":\"left\"},\"hovermode\":\"closest\",\"mapbox\":{\"style\":\"light\"},\"paper_bgcolor\":\"white\",\"plot_bgcolor\":\"#E5ECF6\",\"polar\":{\"angularaxis\":{\"gridcolor\":\"white\",\"linecolor\":\"white\",\"ticks\":\"\"},\"bgcolor\":\"#E5ECF6\",\"radialaxis\":{\"gridcolor\":\"white\",\"linecolor\":\"white\",\"ticks\":\"\"}},\"scene\":{\"xaxis\":{\"backgroundcolor\":\"#E5ECF6\",\"gridcolor\":\"white\",\"gridwidth\":2,\"linecolor\":\"white\",\"showbackground\":true,\"ticks\":\"\",\"zerolinecolor\":\"white\"},\"yaxis\":{\"backgroundcolor\":\"#E5ECF6\",\"gridcolor\":\"white\",\"gridwidth\":2,\"linecolor\":\"white\",\"showbackground\":true,\"ticks\":\"\",\"zerolinecolor\":\"white\"},\"zaxis\":{\"backgroundcolor\":\"#E5ECF6\",\"gridcolor\":\"white\",\"gridwidth\":2,\"linecolor\":\"white\",\"showbackground\":true,\"ticks\":\"\",\"zerolinecolor\":\"white\"}},\"shapedefaults\":{\"line\":{\"color\":\"#2a3f5f\"}},\"ternary\":{\"aaxis\":{\"gridcolor\":\"white\",\"linecolor\":\"white\",\"ticks\":\"\"},\"baxis\":{\"gridcolor\":\"white\",\"linecolor\":\"white\",\"ticks\":\"\"},\"bgcolor\":\"#E5ECF6\",\"caxis\":{\"gridcolor\":\"white\",\"linecolor\":\"white\",\"ticks\":\"\"}},\"title\":{\"x\":0.05},\"xaxis\":{\"automargin\":true,\"gridcolor\":\"white\",\"linecolor\":\"white\",\"ticks\":\"\",\"title\":{\"standoff\":15},\"zerolinecolor\":\"white\",\"zerolinewidth\":2},\"yaxis\":{\"automargin\":true,\"gridcolor\":\"white\",\"linecolor\":\"white\",\"ticks\":\"\",\"title\":{\"standoff\":15},\"zerolinecolor\":\"white\",\"zerolinewidth\":2}}},\"xaxis\":{\"anchor\":\"y\",\"domain\":[0.0,1.0],\"title\":{\"text\":\"review_type\"}},\"yaxis\":{\"anchor\":\"x\",\"domain\":[0.0,1.0],\"title\":{\"text\":\"count\"}},\"legend\":{\"tracegroupgap\":0},\"title\":{\"text\":\"Distribusi label\"},\"barmode\":\"group\",\"height\":480,\"width\":480},                        {\"responsive\": true}                    ).then(function(){\n",
              "                            \n",
              "var gd = document.getElementById('dcfe0ae7-5c5e-4f47-9010-258ad8645385');\n",
              "var x = new MutationObserver(function (mutations, observer) {{\n",
              "        var display = window.getComputedStyle(gd).display;\n",
              "        if (!display || display === 'none') {{\n",
              "            console.log([gd, 'removed!']);\n",
              "            Plotly.purge(gd);\n",
              "            observer.disconnect();\n",
              "        }}\n",
              "}});\n",
              "\n",
              "// Listen for the removal of the full notebook cells\n",
              "var notebookContainer = gd.closest('#notebook-container');\n",
              "if (notebookContainer) {{\n",
              "    x.observe(notebookContainer, {childList: true});\n",
              "}}\n",
              "\n",
              "// Listen for the clearing of the current output cell\n",
              "var outputEl = gd.closest('.output');\n",
              "if (outputEl) {{\n",
              "    x.observe(outputEl, {childList: true});\n",
              "}}\n",
              "\n",
              "                        })                };                            </script>        </div>\n",
              "</body>\n",
              "</html>"
            ]
          },
          "metadata": {}
        }
      ]
    },
    {
      "cell_type": "code",
      "source": [
        "X = df[['review_content','rev_stem']]\n",
        "y = df['review_type']"
      ],
      "metadata": {
        "id": "vJ1BGdfLS1tl"
      },
      "execution_count": null,
      "outputs": []
    },
    {
      "cell_type": "code",
      "source": [
        "from imblearn.under_sampling import RandomUnderSampler\n",
        "cc = RandomUnderSampler()\n",
        "X_resampled,y_resampled= cc.fit_resample(X,y)"
      ],
      "metadata": {
        "id": "Eq1wOtyPSXI1"
      },
      "execution_count": null,
      "outputs": []
    },
    {
      "cell_type": "code",
      "source": [
        "from collections import Counter"
      ],
      "metadata": {
        "id": "a1mhBsAASXI3"
      },
      "execution_count": null,
      "outputs": []
    },
    {
      "cell_type": "code",
      "source": [
        "print(sorted(Counter(y_resampled).items()))"
      ],
      "metadata": {
        "colab": {
          "base_uri": "https://localhost:8080/"
        },
        "outputId": "2b7a1bda-87d5-42d4-9ea5-dbd53095b064",
        "id": "msrMdwbMSXI4"
      },
      "execution_count": null,
      "outputs": [
        {
          "output_type": "stream",
          "name": "stdout",
          "text": [
            "[(0, 11756), (1, 11756)]\n"
          ]
        }
      ]
    },
    {
      "cell_type": "code",
      "source": [
        "unique, counts = np.unique(y_resampled, return_counts=True)\n",
        "\n",
        "print(unique,counts)"
      ],
      "metadata": {
        "colab": {
          "base_uri": "https://localhost:8080/"
        },
        "outputId": "99ef7718-d3c9-4dcf-f417-4fc38708e1ef",
        "id": "rfK3zT7QSXI5"
      },
      "execution_count": null,
      "outputs": [
        {
          "output_type": "stream",
          "name": "stdout",
          "text": [
            "[0 1] [11756 11756]\n"
          ]
        }
      ]
    },
    {
      "cell_type": "code",
      "source": [
        "df_resample = pd.DataFrame(X_resampled)\n",
        "df_resample = df_resample.join(y_resampled)"
      ],
      "metadata": {
        "id": "ltLm2iHOTFKF"
      },
      "execution_count": null,
      "outputs": []
    },
    {
      "cell_type": "code",
      "source": [
        "df_resample.head()"
      ],
      "metadata": {
        "colab": {
          "base_uri": "https://localhost:8080/",
          "height": 206
        },
        "id": "QIc7HhOJTV0u",
        "outputId": "d6df731c-17da-450f-df98-4ed8c0929b9a"
      },
      "execution_count": null,
      "outputs": [
        {
          "output_type": "execute_result",
          "data": {
            "text/plain": [
              "                                      review_content  \\\n",
              "0  barantini's villain is a genre film but a rath...   \n",
              "1  a romantic musical that does not always hit th...   \n",
              "2  james franco is so deansian, it's scary. the l...   \n",
              "3  there's an excitement to seeing this landscape...   \n",
              "4               good, but should have been better...   \n",
              "\n",
              "                                            rev_stem  review_type  \n",
              "0  ['barantini', 'villain', 'genr', 'film', 'supe...            0  \n",
              "1  ['romant', 'music', 'hit', 'note', 'miss', 'op...            0  \n",
              "2  ['jame', 'franco', 'deansian', 'scari', 'life'...            0  \n",
              "3  ['excit', 'landscap', 'yearn', 'hunger', 'cycl...            0  \n",
              "4                                           ['good']            0  "
            ],
            "text/html": [
              "\n",
              "  <div id=\"df-69d30e7c-0ee4-45f1-bd9b-2f8901b1c7f6\">\n",
              "    <div class=\"colab-df-container\">\n",
              "      <div>\n",
              "<style scoped>\n",
              "    .dataframe tbody tr th:only-of-type {\n",
              "        vertical-align: middle;\n",
              "    }\n",
              "\n",
              "    .dataframe tbody tr th {\n",
              "        vertical-align: top;\n",
              "    }\n",
              "\n",
              "    .dataframe thead th {\n",
              "        text-align: right;\n",
              "    }\n",
              "</style>\n",
              "<table border=\"1\" class=\"dataframe\">\n",
              "  <thead>\n",
              "    <tr style=\"text-align: right;\">\n",
              "      <th></th>\n",
              "      <th>review_content</th>\n",
              "      <th>rev_stem</th>\n",
              "      <th>review_type</th>\n",
              "    </tr>\n",
              "  </thead>\n",
              "  <tbody>\n",
              "    <tr>\n",
              "      <th>0</th>\n",
              "      <td>barantini's villain is a genre film but a rath...</td>\n",
              "      <td>['barantini', 'villain', 'genr', 'film', 'supe...</td>\n",
              "      <td>0</td>\n",
              "    </tr>\n",
              "    <tr>\n",
              "      <th>1</th>\n",
              "      <td>a romantic musical that does not always hit th...</td>\n",
              "      <td>['romant', 'music', 'hit', 'note', 'miss', 'op...</td>\n",
              "      <td>0</td>\n",
              "    </tr>\n",
              "    <tr>\n",
              "      <th>2</th>\n",
              "      <td>james franco is so deansian, it's scary. the l...</td>\n",
              "      <td>['jame', 'franco', 'deansian', 'scari', 'life'...</td>\n",
              "      <td>0</td>\n",
              "    </tr>\n",
              "    <tr>\n",
              "      <th>3</th>\n",
              "      <td>there's an excitement to seeing this landscape...</td>\n",
              "      <td>['excit', 'landscap', 'yearn', 'hunger', 'cycl...</td>\n",
              "      <td>0</td>\n",
              "    </tr>\n",
              "    <tr>\n",
              "      <th>4</th>\n",
              "      <td>good, but should have been better...</td>\n",
              "      <td>['good']</td>\n",
              "      <td>0</td>\n",
              "    </tr>\n",
              "  </tbody>\n",
              "</table>\n",
              "</div>\n",
              "      <button class=\"colab-df-convert\" onclick=\"convertToInteractive('df-69d30e7c-0ee4-45f1-bd9b-2f8901b1c7f6')\"\n",
              "              title=\"Convert this dataframe to an interactive table.\"\n",
              "              style=\"display:none;\">\n",
              "        \n",
              "  <svg xmlns=\"http://www.w3.org/2000/svg\" height=\"24px\"viewBox=\"0 0 24 24\"\n",
              "       width=\"24px\">\n",
              "    <path d=\"M0 0h24v24H0V0z\" fill=\"none\"/>\n",
              "    <path d=\"M18.56 5.44l.94 2.06.94-2.06 2.06-.94-2.06-.94-.94-2.06-.94 2.06-2.06.94zm-11 1L8.5 8.5l.94-2.06 2.06-.94-2.06-.94L8.5 2.5l-.94 2.06-2.06.94zm10 10l.94 2.06.94-2.06 2.06-.94-2.06-.94-.94-2.06-.94 2.06-2.06.94z\"/><path d=\"M17.41 7.96l-1.37-1.37c-.4-.4-.92-.59-1.43-.59-.52 0-1.04.2-1.43.59L10.3 9.45l-7.72 7.72c-.78.78-.78 2.05 0 2.83L4 21.41c.39.39.9.59 1.41.59.51 0 1.02-.2 1.41-.59l7.78-7.78 2.81-2.81c.8-.78.8-2.07 0-2.86zM5.41 20L4 18.59l7.72-7.72 1.47 1.35L5.41 20z\"/>\n",
              "  </svg>\n",
              "      </button>\n",
              "      \n",
              "  <style>\n",
              "    .colab-df-container {\n",
              "      display:flex;\n",
              "      flex-wrap:wrap;\n",
              "      gap: 12px;\n",
              "    }\n",
              "\n",
              "    .colab-df-convert {\n",
              "      background-color: #E8F0FE;\n",
              "      border: none;\n",
              "      border-radius: 50%;\n",
              "      cursor: pointer;\n",
              "      display: none;\n",
              "      fill: #1967D2;\n",
              "      height: 32px;\n",
              "      padding: 0 0 0 0;\n",
              "      width: 32px;\n",
              "    }\n",
              "\n",
              "    .colab-df-convert:hover {\n",
              "      background-color: #E2EBFA;\n",
              "      box-shadow: 0px 1px 2px rgba(60, 64, 67, 0.3), 0px 1px 3px 1px rgba(60, 64, 67, 0.15);\n",
              "      fill: #174EA6;\n",
              "    }\n",
              "\n",
              "    [theme=dark] .colab-df-convert {\n",
              "      background-color: #3B4455;\n",
              "      fill: #D2E3FC;\n",
              "    }\n",
              "\n",
              "    [theme=dark] .colab-df-convert:hover {\n",
              "      background-color: #434B5C;\n",
              "      box-shadow: 0px 1px 3px 1px rgba(0, 0, 0, 0.15);\n",
              "      filter: drop-shadow(0px 1px 2px rgba(0, 0, 0, 0.3));\n",
              "      fill: #FFFFFF;\n",
              "    }\n",
              "  </style>\n",
              "\n",
              "      <script>\n",
              "        const buttonEl =\n",
              "          document.querySelector('#df-69d30e7c-0ee4-45f1-bd9b-2f8901b1c7f6 button.colab-df-convert');\n",
              "        buttonEl.style.display =\n",
              "          google.colab.kernel.accessAllowed ? 'block' : 'none';\n",
              "\n",
              "        async function convertToInteractive(key) {\n",
              "          const element = document.querySelector('#df-69d30e7c-0ee4-45f1-bd9b-2f8901b1c7f6');\n",
              "          const dataTable =\n",
              "            await google.colab.kernel.invokeFunction('convertToInteractive',\n",
              "                                                     [key], {});\n",
              "          if (!dataTable) return;\n",
              "\n",
              "          const docLinkHtml = 'Like what you see? Visit the ' +\n",
              "            '<a target=\"_blank\" href=https://colab.research.google.com/notebooks/data_table.ipynb>data table notebook</a>'\n",
              "            + ' to learn more about interactive tables.';\n",
              "          element.innerHTML = '';\n",
              "          dataTable['output_type'] = 'display_data';\n",
              "          await google.colab.output.renderOutput(dataTable, element);\n",
              "          const docLink = document.createElement('div');\n",
              "          docLink.innerHTML = docLinkHtml;\n",
              "          element.appendChild(docLink);\n",
              "        }\n",
              "      </script>\n",
              "    </div>\n",
              "  </div>\n",
              "  "
            ]
          },
          "metadata": {},
          "execution_count": 54
        }
      ]
    },
    {
      "cell_type": "code",
      "source": [
        "import seaborn as sns\n",
        "import plotly.express as px\n",
        "fig = px.bar(df_resample.groupby('review_type').size().reset_index(name='count'), \n",
        "             x='review_type', y='count', width=480, height=480, \n",
        "             barmode='group', title='Distribusi label')\n",
        "fig.show(renderer='colab')"
      ],
      "metadata": {
        "colab": {
          "base_uri": "https://localhost:8080/",
          "height": 497
        },
        "id": "G2A08qb2TcJv",
        "outputId": "28897ddc-e86b-4c82-d1e1-c3994be87789"
      },
      "execution_count": null,
      "outputs": [
        {
          "output_type": "display_data",
          "data": {
            "text/html": [
              "<html>\n",
              "<head><meta charset=\"utf-8\" /></head>\n",
              "<body>\n",
              "    <div>            <script src=\"https://cdnjs.cloudflare.com/ajax/libs/mathjax/2.7.5/MathJax.js?config=TeX-AMS-MML_SVG\"></script><script type=\"text/javascript\">if (window.MathJax) {MathJax.Hub.Config({SVG: {font: \"STIX-Web\"}});}</script>                <script type=\"text/javascript\">window.PlotlyConfig = {MathJaxConfig: 'local'};</script>\n",
              "        <script src=\"https://cdn.plot.ly/plotly-2.8.3.min.js\"></script>                <div id=\"4bb4850f-e828-4e56-9641-207cdad65010\" class=\"plotly-graph-div\" style=\"height:480px; width:480px;\"></div>            <script type=\"text/javascript\">                                    window.PLOTLYENV=window.PLOTLYENV || {};                                    if (document.getElementById(\"4bb4850f-e828-4e56-9641-207cdad65010\")) {                    Plotly.newPlot(                        \"4bb4850f-e828-4e56-9641-207cdad65010\",                        [{\"alignmentgroup\":\"True\",\"hovertemplate\":\"review_type=%{x}<br>count=%{y}<extra></extra>\",\"legendgroup\":\"\",\"marker\":{\"color\":\"#636efa\",\"pattern\":{\"shape\":\"\"}},\"name\":\"\",\"offsetgroup\":\"\",\"orientation\":\"v\",\"showlegend\":false,\"textposition\":\"auto\",\"x\":[0,1],\"xaxis\":\"x\",\"y\":[11756,11756],\"yaxis\":\"y\",\"type\":\"bar\"}],                        {\"template\":{\"data\":{\"bar\":[{\"error_x\":{\"color\":\"#2a3f5f\"},\"error_y\":{\"color\":\"#2a3f5f\"},\"marker\":{\"line\":{\"color\":\"#E5ECF6\",\"width\":0.5},\"pattern\":{\"fillmode\":\"overlay\",\"size\":10,\"solidity\":0.2}},\"type\":\"bar\"}],\"barpolar\":[{\"marker\":{\"line\":{\"color\":\"#E5ECF6\",\"width\":0.5},\"pattern\":{\"fillmode\":\"overlay\",\"size\":10,\"solidity\":0.2}},\"type\":\"barpolar\"}],\"carpet\":[{\"aaxis\":{\"endlinecolor\":\"#2a3f5f\",\"gridcolor\":\"white\",\"linecolor\":\"white\",\"minorgridcolor\":\"white\",\"startlinecolor\":\"#2a3f5f\"},\"baxis\":{\"endlinecolor\":\"#2a3f5f\",\"gridcolor\":\"white\",\"linecolor\":\"white\",\"minorgridcolor\":\"white\",\"startlinecolor\":\"#2a3f5f\"},\"type\":\"carpet\"}],\"choropleth\":[{\"colorbar\":{\"outlinewidth\":0,\"ticks\":\"\"},\"type\":\"choropleth\"}],\"contour\":[{\"colorbar\":{\"outlinewidth\":0,\"ticks\":\"\"},\"colorscale\":[[0.0,\"#0d0887\"],[0.1111111111111111,\"#46039f\"],[0.2222222222222222,\"#7201a8\"],[0.3333333333333333,\"#9c179e\"],[0.4444444444444444,\"#bd3786\"],[0.5555555555555556,\"#d8576b\"],[0.6666666666666666,\"#ed7953\"],[0.7777777777777778,\"#fb9f3a\"],[0.8888888888888888,\"#fdca26\"],[1.0,\"#f0f921\"]],\"type\":\"contour\"}],\"contourcarpet\":[{\"colorbar\":{\"outlinewidth\":0,\"ticks\":\"\"},\"type\":\"contourcarpet\"}],\"heatmap\":[{\"colorbar\":{\"outlinewidth\":0,\"ticks\":\"\"},\"colorscale\":[[0.0,\"#0d0887\"],[0.1111111111111111,\"#46039f\"],[0.2222222222222222,\"#7201a8\"],[0.3333333333333333,\"#9c179e\"],[0.4444444444444444,\"#bd3786\"],[0.5555555555555556,\"#d8576b\"],[0.6666666666666666,\"#ed7953\"],[0.7777777777777778,\"#fb9f3a\"],[0.8888888888888888,\"#fdca26\"],[1.0,\"#f0f921\"]],\"type\":\"heatmap\"}],\"heatmapgl\":[{\"colorbar\":{\"outlinewidth\":0,\"ticks\":\"\"},\"colorscale\":[[0.0,\"#0d0887\"],[0.1111111111111111,\"#46039f\"],[0.2222222222222222,\"#7201a8\"],[0.3333333333333333,\"#9c179e\"],[0.4444444444444444,\"#bd3786\"],[0.5555555555555556,\"#d8576b\"],[0.6666666666666666,\"#ed7953\"],[0.7777777777777778,\"#fb9f3a\"],[0.8888888888888888,\"#fdca26\"],[1.0,\"#f0f921\"]],\"type\":\"heatmapgl\"}],\"histogram\":[{\"marker\":{\"pattern\":{\"fillmode\":\"overlay\",\"size\":10,\"solidity\":0.2}},\"type\":\"histogram\"}],\"histogram2d\":[{\"colorbar\":{\"outlinewidth\":0,\"ticks\":\"\"},\"colorscale\":[[0.0,\"#0d0887\"],[0.1111111111111111,\"#46039f\"],[0.2222222222222222,\"#7201a8\"],[0.3333333333333333,\"#9c179e\"],[0.4444444444444444,\"#bd3786\"],[0.5555555555555556,\"#d8576b\"],[0.6666666666666666,\"#ed7953\"],[0.7777777777777778,\"#fb9f3a\"],[0.8888888888888888,\"#fdca26\"],[1.0,\"#f0f921\"]],\"type\":\"histogram2d\"}],\"histogram2dcontour\":[{\"colorbar\":{\"outlinewidth\":0,\"ticks\":\"\"},\"colorscale\":[[0.0,\"#0d0887\"],[0.1111111111111111,\"#46039f\"],[0.2222222222222222,\"#7201a8\"],[0.3333333333333333,\"#9c179e\"],[0.4444444444444444,\"#bd3786\"],[0.5555555555555556,\"#d8576b\"],[0.6666666666666666,\"#ed7953\"],[0.7777777777777778,\"#fb9f3a\"],[0.8888888888888888,\"#fdca26\"],[1.0,\"#f0f921\"]],\"type\":\"histogram2dcontour\"}],\"mesh3d\":[{\"colorbar\":{\"outlinewidth\":0,\"ticks\":\"\"},\"type\":\"mesh3d\"}],\"parcoords\":[{\"line\":{\"colorbar\":{\"outlinewidth\":0,\"ticks\":\"\"}},\"type\":\"parcoords\"}],\"pie\":[{\"automargin\":true,\"type\":\"pie\"}],\"scatter\":[{\"marker\":{\"colorbar\":{\"outlinewidth\":0,\"ticks\":\"\"}},\"type\":\"scatter\"}],\"scatter3d\":[{\"line\":{\"colorbar\":{\"outlinewidth\":0,\"ticks\":\"\"}},\"marker\":{\"colorbar\":{\"outlinewidth\":0,\"ticks\":\"\"}},\"type\":\"scatter3d\"}],\"scattercarpet\":[{\"marker\":{\"colorbar\":{\"outlinewidth\":0,\"ticks\":\"\"}},\"type\":\"scattercarpet\"}],\"scattergeo\":[{\"marker\":{\"colorbar\":{\"outlinewidth\":0,\"ticks\":\"\"}},\"type\":\"scattergeo\"}],\"scattergl\":[{\"marker\":{\"colorbar\":{\"outlinewidth\":0,\"ticks\":\"\"}},\"type\":\"scattergl\"}],\"scattermapbox\":[{\"marker\":{\"colorbar\":{\"outlinewidth\":0,\"ticks\":\"\"}},\"type\":\"scattermapbox\"}],\"scatterpolar\":[{\"marker\":{\"colorbar\":{\"outlinewidth\":0,\"ticks\":\"\"}},\"type\":\"scatterpolar\"}],\"scatterpolargl\":[{\"marker\":{\"colorbar\":{\"outlinewidth\":0,\"ticks\":\"\"}},\"type\":\"scatterpolargl\"}],\"scatterternary\":[{\"marker\":{\"colorbar\":{\"outlinewidth\":0,\"ticks\":\"\"}},\"type\":\"scatterternary\"}],\"surface\":[{\"colorbar\":{\"outlinewidth\":0,\"ticks\":\"\"},\"colorscale\":[[0.0,\"#0d0887\"],[0.1111111111111111,\"#46039f\"],[0.2222222222222222,\"#7201a8\"],[0.3333333333333333,\"#9c179e\"],[0.4444444444444444,\"#bd3786\"],[0.5555555555555556,\"#d8576b\"],[0.6666666666666666,\"#ed7953\"],[0.7777777777777778,\"#fb9f3a\"],[0.8888888888888888,\"#fdca26\"],[1.0,\"#f0f921\"]],\"type\":\"surface\"}],\"table\":[{\"cells\":{\"fill\":{\"color\":\"#EBF0F8\"},\"line\":{\"color\":\"white\"}},\"header\":{\"fill\":{\"color\":\"#C8D4E3\"},\"line\":{\"color\":\"white\"}},\"type\":\"table\"}]},\"layout\":{\"annotationdefaults\":{\"arrowcolor\":\"#2a3f5f\",\"arrowhead\":0,\"arrowwidth\":1},\"autotypenumbers\":\"strict\",\"coloraxis\":{\"colorbar\":{\"outlinewidth\":0,\"ticks\":\"\"}},\"colorscale\":{\"diverging\":[[0,\"#8e0152\"],[0.1,\"#c51b7d\"],[0.2,\"#de77ae\"],[0.3,\"#f1b6da\"],[0.4,\"#fde0ef\"],[0.5,\"#f7f7f7\"],[0.6,\"#e6f5d0\"],[0.7,\"#b8e186\"],[0.8,\"#7fbc41\"],[0.9,\"#4d9221\"],[1,\"#276419\"]],\"sequential\":[[0.0,\"#0d0887\"],[0.1111111111111111,\"#46039f\"],[0.2222222222222222,\"#7201a8\"],[0.3333333333333333,\"#9c179e\"],[0.4444444444444444,\"#bd3786\"],[0.5555555555555556,\"#d8576b\"],[0.6666666666666666,\"#ed7953\"],[0.7777777777777778,\"#fb9f3a\"],[0.8888888888888888,\"#fdca26\"],[1.0,\"#f0f921\"]],\"sequentialminus\":[[0.0,\"#0d0887\"],[0.1111111111111111,\"#46039f\"],[0.2222222222222222,\"#7201a8\"],[0.3333333333333333,\"#9c179e\"],[0.4444444444444444,\"#bd3786\"],[0.5555555555555556,\"#d8576b\"],[0.6666666666666666,\"#ed7953\"],[0.7777777777777778,\"#fb9f3a\"],[0.8888888888888888,\"#fdca26\"],[1.0,\"#f0f921\"]]},\"colorway\":[\"#636efa\",\"#EF553B\",\"#00cc96\",\"#ab63fa\",\"#FFA15A\",\"#19d3f3\",\"#FF6692\",\"#B6E880\",\"#FF97FF\",\"#FECB52\"],\"font\":{\"color\":\"#2a3f5f\"},\"geo\":{\"bgcolor\":\"white\",\"lakecolor\":\"white\",\"landcolor\":\"#E5ECF6\",\"showlakes\":true,\"showland\":true,\"subunitcolor\":\"white\"},\"hoverlabel\":{\"align\":\"left\"},\"hovermode\":\"closest\",\"mapbox\":{\"style\":\"light\"},\"paper_bgcolor\":\"white\",\"plot_bgcolor\":\"#E5ECF6\",\"polar\":{\"angularaxis\":{\"gridcolor\":\"white\",\"linecolor\":\"white\",\"ticks\":\"\"},\"bgcolor\":\"#E5ECF6\",\"radialaxis\":{\"gridcolor\":\"white\",\"linecolor\":\"white\",\"ticks\":\"\"}},\"scene\":{\"xaxis\":{\"backgroundcolor\":\"#E5ECF6\",\"gridcolor\":\"white\",\"gridwidth\":2,\"linecolor\":\"white\",\"showbackground\":true,\"ticks\":\"\",\"zerolinecolor\":\"white\"},\"yaxis\":{\"backgroundcolor\":\"#E5ECF6\",\"gridcolor\":\"white\",\"gridwidth\":2,\"linecolor\":\"white\",\"showbackground\":true,\"ticks\":\"\",\"zerolinecolor\":\"white\"},\"zaxis\":{\"backgroundcolor\":\"#E5ECF6\",\"gridcolor\":\"white\",\"gridwidth\":2,\"linecolor\":\"white\",\"showbackground\":true,\"ticks\":\"\",\"zerolinecolor\":\"white\"}},\"shapedefaults\":{\"line\":{\"color\":\"#2a3f5f\"}},\"ternary\":{\"aaxis\":{\"gridcolor\":\"white\",\"linecolor\":\"white\",\"ticks\":\"\"},\"baxis\":{\"gridcolor\":\"white\",\"linecolor\":\"white\",\"ticks\":\"\"},\"bgcolor\":\"#E5ECF6\",\"caxis\":{\"gridcolor\":\"white\",\"linecolor\":\"white\",\"ticks\":\"\"}},\"title\":{\"x\":0.05},\"xaxis\":{\"automargin\":true,\"gridcolor\":\"white\",\"linecolor\":\"white\",\"ticks\":\"\",\"title\":{\"standoff\":15},\"zerolinecolor\":\"white\",\"zerolinewidth\":2},\"yaxis\":{\"automargin\":true,\"gridcolor\":\"white\",\"linecolor\":\"white\",\"ticks\":\"\",\"title\":{\"standoff\":15},\"zerolinecolor\":\"white\",\"zerolinewidth\":2}}},\"xaxis\":{\"anchor\":\"y\",\"domain\":[0.0,1.0],\"title\":{\"text\":\"review_type\"}},\"yaxis\":{\"anchor\":\"x\",\"domain\":[0.0,1.0],\"title\":{\"text\":\"count\"}},\"legend\":{\"tracegroupgap\":0},\"title\":{\"text\":\"Distribusi label\"},\"barmode\":\"group\",\"height\":480,\"width\":480},                        {\"responsive\": true}                    ).then(function(){\n",
              "                            \n",
              "var gd = document.getElementById('4bb4850f-e828-4e56-9641-207cdad65010');\n",
              "var x = new MutationObserver(function (mutations, observer) {{\n",
              "        var display = window.getComputedStyle(gd).display;\n",
              "        if (!display || display === 'none') {{\n",
              "            console.log([gd, 'removed!']);\n",
              "            Plotly.purge(gd);\n",
              "            observer.disconnect();\n",
              "        }}\n",
              "}});\n",
              "\n",
              "// Listen for the removal of the full notebook cells\n",
              "var notebookContainer = gd.closest('#notebook-container');\n",
              "if (notebookContainer) {{\n",
              "    x.observe(notebookContainer, {childList: true});\n",
              "}}\n",
              "\n",
              "// Listen for the clearing of the current output cell\n",
              "var outputEl = gd.closest('.output');\n",
              "if (outputEl) {{\n",
              "    x.observe(outputEl, {childList: true});\n",
              "}}\n",
              "\n",
              "                        })                };                            </script>        </div>\n",
              "</body>\n",
              "</html>"
            ]
          },
          "metadata": {}
        }
      ]
    },
    {
      "cell_type": "code",
      "source": [
        "#df_resample.to_csv('drive/My Drive/TUGAS AKHIR/DATASET_2/Final Dataset/data_resample.csv')"
      ],
      "metadata": {
        "id": "UgzH4D_mX7im"
      },
      "execution_count": null,
      "outputs": []
    },
    {
      "cell_type": "code",
      "source": [
        "df = pd.read_csv('drive/My Drive/TUGAS AKHIR/DATASET_2/Final Dataset/data_resample.csv')\n",
        "df.head()"
      ],
      "metadata": {
        "colab": {
          "base_uri": "https://localhost:8080/",
          "height": 206
        },
        "id": "RMMxz3tjXob9",
        "outputId": "e2037e69-b30f-4447-c4e3-8b7493251cdd"
      },
      "execution_count": null,
      "outputs": [
        {
          "output_type": "execute_result",
          "data": {
            "text/plain": [
              "   Unnamed: 0                                     review_content  \\\n",
              "0           0  barantini's villain is a genre film but a rath...   \n",
              "1           1  a romantic musical that does not always hit th...   \n",
              "2           2  james franco is so deansian, it's scary. the l...   \n",
              "3           3  there's an excitement to seeing this landscape...   \n",
              "4           4               good, but should have been better...   \n",
              "\n",
              "                                            rev_stem  review_type  \n",
              "0  ['barantini', 'villain', 'genr', 'film', 'supe...            0  \n",
              "1  ['romant', 'music', 'hit', 'note', 'miss', 'op...            0  \n",
              "2  ['jame', 'franco', 'deansian', 'scari', 'life'...            0  \n",
              "3  ['excit', 'landscap', 'yearn', 'hunger', 'cycl...            0  \n",
              "4                                           ['good']            0  "
            ],
            "text/html": [
              "\n",
              "  <div id=\"df-8f50bb86-57b5-4e09-b61c-ad73441b0a32\">\n",
              "    <div class=\"colab-df-container\">\n",
              "      <div>\n",
              "<style scoped>\n",
              "    .dataframe tbody tr th:only-of-type {\n",
              "        vertical-align: middle;\n",
              "    }\n",
              "\n",
              "    .dataframe tbody tr th {\n",
              "        vertical-align: top;\n",
              "    }\n",
              "\n",
              "    .dataframe thead th {\n",
              "        text-align: right;\n",
              "    }\n",
              "</style>\n",
              "<table border=\"1\" class=\"dataframe\">\n",
              "  <thead>\n",
              "    <tr style=\"text-align: right;\">\n",
              "      <th></th>\n",
              "      <th>Unnamed: 0</th>\n",
              "      <th>review_content</th>\n",
              "      <th>rev_stem</th>\n",
              "      <th>review_type</th>\n",
              "    </tr>\n",
              "  </thead>\n",
              "  <tbody>\n",
              "    <tr>\n",
              "      <th>0</th>\n",
              "      <td>0</td>\n",
              "      <td>barantini's villain is a genre film but a rath...</td>\n",
              "      <td>['barantini', 'villain', 'genr', 'film', 'supe...</td>\n",
              "      <td>0</td>\n",
              "    </tr>\n",
              "    <tr>\n",
              "      <th>1</th>\n",
              "      <td>1</td>\n",
              "      <td>a romantic musical that does not always hit th...</td>\n",
              "      <td>['romant', 'music', 'hit', 'note', 'miss', 'op...</td>\n",
              "      <td>0</td>\n",
              "    </tr>\n",
              "    <tr>\n",
              "      <th>2</th>\n",
              "      <td>2</td>\n",
              "      <td>james franco is so deansian, it's scary. the l...</td>\n",
              "      <td>['jame', 'franco', 'deansian', 'scari', 'life'...</td>\n",
              "      <td>0</td>\n",
              "    </tr>\n",
              "    <tr>\n",
              "      <th>3</th>\n",
              "      <td>3</td>\n",
              "      <td>there's an excitement to seeing this landscape...</td>\n",
              "      <td>['excit', 'landscap', 'yearn', 'hunger', 'cycl...</td>\n",
              "      <td>0</td>\n",
              "    </tr>\n",
              "    <tr>\n",
              "      <th>4</th>\n",
              "      <td>4</td>\n",
              "      <td>good, but should have been better...</td>\n",
              "      <td>['good']</td>\n",
              "      <td>0</td>\n",
              "    </tr>\n",
              "  </tbody>\n",
              "</table>\n",
              "</div>\n",
              "      <button class=\"colab-df-convert\" onclick=\"convertToInteractive('df-8f50bb86-57b5-4e09-b61c-ad73441b0a32')\"\n",
              "              title=\"Convert this dataframe to an interactive table.\"\n",
              "              style=\"display:none;\">\n",
              "        \n",
              "  <svg xmlns=\"http://www.w3.org/2000/svg\" height=\"24px\"viewBox=\"0 0 24 24\"\n",
              "       width=\"24px\">\n",
              "    <path d=\"M0 0h24v24H0V0z\" fill=\"none\"/>\n",
              "    <path d=\"M18.56 5.44l.94 2.06.94-2.06 2.06-.94-2.06-.94-.94-2.06-.94 2.06-2.06.94zm-11 1L8.5 8.5l.94-2.06 2.06-.94-2.06-.94L8.5 2.5l-.94 2.06-2.06.94zm10 10l.94 2.06.94-2.06 2.06-.94-2.06-.94-.94-2.06-.94 2.06-2.06.94z\"/><path d=\"M17.41 7.96l-1.37-1.37c-.4-.4-.92-.59-1.43-.59-.52 0-1.04.2-1.43.59L10.3 9.45l-7.72 7.72c-.78.78-.78 2.05 0 2.83L4 21.41c.39.39.9.59 1.41.59.51 0 1.02-.2 1.41-.59l7.78-7.78 2.81-2.81c.8-.78.8-2.07 0-2.86zM5.41 20L4 18.59l7.72-7.72 1.47 1.35L5.41 20z\"/>\n",
              "  </svg>\n",
              "      </button>\n",
              "      \n",
              "  <style>\n",
              "    .colab-df-container {\n",
              "      display:flex;\n",
              "      flex-wrap:wrap;\n",
              "      gap: 12px;\n",
              "    }\n",
              "\n",
              "    .colab-df-convert {\n",
              "      background-color: #E8F0FE;\n",
              "      border: none;\n",
              "      border-radius: 50%;\n",
              "      cursor: pointer;\n",
              "      display: none;\n",
              "      fill: #1967D2;\n",
              "      height: 32px;\n",
              "      padding: 0 0 0 0;\n",
              "      width: 32px;\n",
              "    }\n",
              "\n",
              "    .colab-df-convert:hover {\n",
              "      background-color: #E2EBFA;\n",
              "      box-shadow: 0px 1px 2px rgba(60, 64, 67, 0.3), 0px 1px 3px 1px rgba(60, 64, 67, 0.15);\n",
              "      fill: #174EA6;\n",
              "    }\n",
              "\n",
              "    [theme=dark] .colab-df-convert {\n",
              "      background-color: #3B4455;\n",
              "      fill: #D2E3FC;\n",
              "    }\n",
              "\n",
              "    [theme=dark] .colab-df-convert:hover {\n",
              "      background-color: #434B5C;\n",
              "      box-shadow: 0px 1px 3px 1px rgba(0, 0, 0, 0.15);\n",
              "      filter: drop-shadow(0px 1px 2px rgba(0, 0, 0, 0.3));\n",
              "      fill: #FFFFFF;\n",
              "    }\n",
              "  </style>\n",
              "\n",
              "      <script>\n",
              "        const buttonEl =\n",
              "          document.querySelector('#df-8f50bb86-57b5-4e09-b61c-ad73441b0a32 button.colab-df-convert');\n",
              "        buttonEl.style.display =\n",
              "          google.colab.kernel.accessAllowed ? 'block' : 'none';\n",
              "\n",
              "        async function convertToInteractive(key) {\n",
              "          const element = document.querySelector('#df-8f50bb86-57b5-4e09-b61c-ad73441b0a32');\n",
              "          const dataTable =\n",
              "            await google.colab.kernel.invokeFunction('convertToInteractive',\n",
              "                                                     [key], {});\n",
              "          if (!dataTable) return;\n",
              "\n",
              "          const docLinkHtml = 'Like what you see? Visit the ' +\n",
              "            '<a target=\"_blank\" href=https://colab.research.google.com/notebooks/data_table.ipynb>data table notebook</a>'\n",
              "            + ' to learn more about interactive tables.';\n",
              "          element.innerHTML = '';\n",
              "          dataTable['output_type'] = 'display_data';\n",
              "          await google.colab.output.renderOutput(dataTable, element);\n",
              "          const docLink = document.createElement('div');\n",
              "          docLink.innerHTML = docLinkHtml;\n",
              "          element.appendChild(docLink);\n",
              "        }\n",
              "      </script>\n",
              "    </div>\n",
              "  </div>\n",
              "  "
            ]
          },
          "metadata": {},
          "execution_count": 57
        }
      ]
    },
    {
      "cell_type": "code",
      "source": [
        "print('Sentiment : ', df.groupby(['review_type'])['review_type'].count())"
      ],
      "metadata": {
        "colab": {
          "base_uri": "https://localhost:8080/"
        },
        "id": "3W1gchrXhzWT",
        "outputId": "c32f6686-1c56-4edc-fc59-9715ef91fbfa"
      },
      "execution_count": null,
      "outputs": [
        {
          "output_type": "stream",
          "name": "stdout",
          "text": [
            "Sentiment :  review_type\n",
            "0    11756\n",
            "1    11754\n",
            "Name: review_type, dtype: int64\n"
          ]
        }
      ]
    },
    {
      "cell_type": "code",
      "execution_count": null,
      "metadata": {
        "id": "7ssq978c63Kf"
      },
      "outputs": [],
      "source": [
        "#masukkan kata ke dalam list soalnya kalo ga pake ini, dia datanya perkata untuk di pake data LDA\n",
        "def convert_text_list(texts): \n",
        "    texts = ast.literal_eval(texts)\n",
        "    return [text for text in texts]\n",
        "def listToString(s):  \n",
        "    \n",
        "    # initialize an empty string \n",
        "    str1 = \" \" \n",
        "    \n",
        "    # return string   \n",
        "    return (str1.join(s)) "
      ]
    },
    {
      "cell_type": "code",
      "execution_count": null,
      "metadata": {
        "id": "NPWU3Il4630Q"
      },
      "outputs": [],
      "source": [
        "df[\"rev_list\"] = df['rev_stem'].apply(convert_text_list) #with stemming\n",
        "df[\"rev_kalimat\"] = df[\"rev_list\"].apply(listToString)"
      ]
    },
    {
      "cell_type": "code",
      "execution_count": null,
      "metadata": {
        "colab": {
          "base_uri": "https://localhost:8080/",
          "height": 354
        },
        "id": "Y4mniK5s7I__",
        "outputId": "0e66789f-8854-46a5-bd82-50dcc704e934"
      },
      "outputs": [
        {
          "output_type": "execute_result",
          "data": {
            "text/plain": [
              "   Unnamed: 0                                     review_content  \\\n",
              "0           0  barantini's villain is a genre film but a rath...   \n",
              "1           1  a romantic musical that does not always hit th...   \n",
              "2           2  james franco is so deansian, it's scary. the l...   \n",
              "3           3  there's an excitement to seeing this landscape...   \n",
              "4           4               good, but should have been better...   \n",
              "\n",
              "                                            rev_stem  review_type  \\\n",
              "0  ['barantini', 'villain', 'genr', 'film', 'supe...            0   \n",
              "1  ['romant', 'music', 'hit', 'note', 'miss', 'op...            0   \n",
              "2  ['jame', 'franco', 'deansian', 'scari', 'life'...            0   \n",
              "3  ['excit', 'landscap', 'yearn', 'hunger', 'cycl...            0   \n",
              "4                                           ['good']            0   \n",
              "\n",
              "                                            rev_list  \\\n",
              "0  [barantini, villain, genr, film, superior, man...   \n",
              "1         [romant, music, hit, note, miss, opportun]   \n",
              "2  [jame, franco, deansian, scari, life, stori, r...   \n",
              "3  [excit, landscap, yearn, hunger, cyclic, rage,...   \n",
              "4                                             [good]   \n",
              "\n",
              "                                         rev_kalimat  \n",
              "0  barantini villain genr film superior manipul s...  \n",
              "1                romant music hit note miss opportun  \n",
              "2  jame franco deansian scari life stori rebel sh...  \n",
              "3  excit landscap yearn hunger cyclic rage treat ...  \n",
              "4                                               good  "
            ],
            "text/html": [
              "\n",
              "  <div id=\"df-679f2bbc-9730-4d33-868f-e577e26965ba\">\n",
              "    <div class=\"colab-df-container\">\n",
              "      <div>\n",
              "<style scoped>\n",
              "    .dataframe tbody tr th:only-of-type {\n",
              "        vertical-align: middle;\n",
              "    }\n",
              "\n",
              "    .dataframe tbody tr th {\n",
              "        vertical-align: top;\n",
              "    }\n",
              "\n",
              "    .dataframe thead th {\n",
              "        text-align: right;\n",
              "    }\n",
              "</style>\n",
              "<table border=\"1\" class=\"dataframe\">\n",
              "  <thead>\n",
              "    <tr style=\"text-align: right;\">\n",
              "      <th></th>\n",
              "      <th>Unnamed: 0</th>\n",
              "      <th>review_content</th>\n",
              "      <th>rev_stem</th>\n",
              "      <th>review_type</th>\n",
              "      <th>rev_list</th>\n",
              "      <th>rev_kalimat</th>\n",
              "    </tr>\n",
              "  </thead>\n",
              "  <tbody>\n",
              "    <tr>\n",
              "      <th>0</th>\n",
              "      <td>0</td>\n",
              "      <td>barantini's villain is a genre film but a rath...</td>\n",
              "      <td>['barantini', 'villain', 'genr', 'film', 'supe...</td>\n",
              "      <td>0</td>\n",
              "      <td>[barantini, villain, genr, film, superior, man...</td>\n",
              "      <td>barantini villain genr film superior manipul s...</td>\n",
              "    </tr>\n",
              "    <tr>\n",
              "      <th>1</th>\n",
              "      <td>1</td>\n",
              "      <td>a romantic musical that does not always hit th...</td>\n",
              "      <td>['romant', 'music', 'hit', 'note', 'miss', 'op...</td>\n",
              "      <td>0</td>\n",
              "      <td>[romant, music, hit, note, miss, opportun]</td>\n",
              "      <td>romant music hit note miss opportun</td>\n",
              "    </tr>\n",
              "    <tr>\n",
              "      <th>2</th>\n",
              "      <td>2</td>\n",
              "      <td>james franco is so deansian, it's scary. the l...</td>\n",
              "      <td>['jame', 'franco', 'deansian', 'scari', 'life'...</td>\n",
              "      <td>0</td>\n",
              "      <td>[jame, franco, deansian, scari, life, stori, r...</td>\n",
              "      <td>jame franco deansian scari life stori rebel sh...</td>\n",
              "    </tr>\n",
              "    <tr>\n",
              "      <th>3</th>\n",
              "      <td>3</td>\n",
              "      <td>there's an excitement to seeing this landscape...</td>\n",
              "      <td>['excit', 'landscap', 'yearn', 'hunger', 'cycl...</td>\n",
              "      <td>0</td>\n",
              "      <td>[excit, landscap, yearn, hunger, cyclic, rage,...</td>\n",
              "      <td>excit landscap yearn hunger cyclic rage treat ...</td>\n",
              "    </tr>\n",
              "    <tr>\n",
              "      <th>4</th>\n",
              "      <td>4</td>\n",
              "      <td>good, but should have been better...</td>\n",
              "      <td>['good']</td>\n",
              "      <td>0</td>\n",
              "      <td>[good]</td>\n",
              "      <td>good</td>\n",
              "    </tr>\n",
              "  </tbody>\n",
              "</table>\n",
              "</div>\n",
              "      <button class=\"colab-df-convert\" onclick=\"convertToInteractive('df-679f2bbc-9730-4d33-868f-e577e26965ba')\"\n",
              "              title=\"Convert this dataframe to an interactive table.\"\n",
              "              style=\"display:none;\">\n",
              "        \n",
              "  <svg xmlns=\"http://www.w3.org/2000/svg\" height=\"24px\"viewBox=\"0 0 24 24\"\n",
              "       width=\"24px\">\n",
              "    <path d=\"M0 0h24v24H0V0z\" fill=\"none\"/>\n",
              "    <path d=\"M18.56 5.44l.94 2.06.94-2.06 2.06-.94-2.06-.94-.94-2.06-.94 2.06-2.06.94zm-11 1L8.5 8.5l.94-2.06 2.06-.94-2.06-.94L8.5 2.5l-.94 2.06-2.06.94zm10 10l.94 2.06.94-2.06 2.06-.94-2.06-.94-.94-2.06-.94 2.06-2.06.94z\"/><path d=\"M17.41 7.96l-1.37-1.37c-.4-.4-.92-.59-1.43-.59-.52 0-1.04.2-1.43.59L10.3 9.45l-7.72 7.72c-.78.78-.78 2.05 0 2.83L4 21.41c.39.39.9.59 1.41.59.51 0 1.02-.2 1.41-.59l7.78-7.78 2.81-2.81c.8-.78.8-2.07 0-2.86zM5.41 20L4 18.59l7.72-7.72 1.47 1.35L5.41 20z\"/>\n",
              "  </svg>\n",
              "      </button>\n",
              "      \n",
              "  <style>\n",
              "    .colab-df-container {\n",
              "      display:flex;\n",
              "      flex-wrap:wrap;\n",
              "      gap: 12px;\n",
              "    }\n",
              "\n",
              "    .colab-df-convert {\n",
              "      background-color: #E8F0FE;\n",
              "      border: none;\n",
              "      border-radius: 50%;\n",
              "      cursor: pointer;\n",
              "      display: none;\n",
              "      fill: #1967D2;\n",
              "      height: 32px;\n",
              "      padding: 0 0 0 0;\n",
              "      width: 32px;\n",
              "    }\n",
              "\n",
              "    .colab-df-convert:hover {\n",
              "      background-color: #E2EBFA;\n",
              "      box-shadow: 0px 1px 2px rgba(60, 64, 67, 0.3), 0px 1px 3px 1px rgba(60, 64, 67, 0.15);\n",
              "      fill: #174EA6;\n",
              "    }\n",
              "\n",
              "    [theme=dark] .colab-df-convert {\n",
              "      background-color: #3B4455;\n",
              "      fill: #D2E3FC;\n",
              "    }\n",
              "\n",
              "    [theme=dark] .colab-df-convert:hover {\n",
              "      background-color: #434B5C;\n",
              "      box-shadow: 0px 1px 3px 1px rgba(0, 0, 0, 0.15);\n",
              "      filter: drop-shadow(0px 1px 2px rgba(0, 0, 0, 0.3));\n",
              "      fill: #FFFFFF;\n",
              "    }\n",
              "  </style>\n",
              "\n",
              "      <script>\n",
              "        const buttonEl =\n",
              "          document.querySelector('#df-679f2bbc-9730-4d33-868f-e577e26965ba button.colab-df-convert');\n",
              "        buttonEl.style.display =\n",
              "          google.colab.kernel.accessAllowed ? 'block' : 'none';\n",
              "\n",
              "        async function convertToInteractive(key) {\n",
              "          const element = document.querySelector('#df-679f2bbc-9730-4d33-868f-e577e26965ba');\n",
              "          const dataTable =\n",
              "            await google.colab.kernel.invokeFunction('convertToInteractive',\n",
              "                                                     [key], {});\n",
              "          if (!dataTable) return;\n",
              "\n",
              "          const docLinkHtml = 'Like what you see? Visit the ' +\n",
              "            '<a target=\"_blank\" href=https://colab.research.google.com/notebooks/data_table.ipynb>data table notebook</a>'\n",
              "            + ' to learn more about interactive tables.';\n",
              "          element.innerHTML = '';\n",
              "          dataTable['output_type'] = 'display_data';\n",
              "          await google.colab.output.renderOutput(dataTable, element);\n",
              "          const docLink = document.createElement('div');\n",
              "          docLink.innerHTML = docLinkHtml;\n",
              "          element.appendChild(docLink);\n",
              "        }\n",
              "      </script>\n",
              "    </div>\n",
              "  </div>\n",
              "  "
            ]
          },
          "metadata": {},
          "execution_count": 60
        }
      ],
      "source": [
        "df.head()"
      ]
    },
    {
      "cell_type": "code",
      "source": [
        "df.isna().sum()"
      ],
      "metadata": {
        "colab": {
          "base_uri": "https://localhost:8080/"
        },
        "id": "bFRQv_qwW58p",
        "outputId": "986e2506-7c58-4e62-b74e-50fb744265d4"
      },
      "execution_count": null,
      "outputs": [
        {
          "output_type": "execute_result",
          "data": {
            "text/plain": [
              "Unnamed: 0        0\n",
              "review_content    2\n",
              "rev_stem          0\n",
              "review_type       0\n",
              "rev_list          0\n",
              "rev_kalimat       0\n",
              "dtype: int64"
            ]
          },
          "metadata": {},
          "execution_count": 61
        }
      ]
    },
    {
      "cell_type": "code",
      "source": [
        "df = df.dropna()"
      ],
      "metadata": {
        "id": "JjOj0X3DW97c"
      },
      "execution_count": null,
      "outputs": []
    },
    {
      "cell_type": "code",
      "source": [
        "df.isna().sum()"
      ],
      "metadata": {
        "colab": {
          "base_uri": "https://localhost:8080/"
        },
        "id": "I8cV2NriXCf6",
        "outputId": "56fec06f-0325-4066-e7bf-dce43991bf64"
      },
      "execution_count": null,
      "outputs": [
        {
          "output_type": "execute_result",
          "data": {
            "text/plain": [
              "Unnamed: 0        0\n",
              "review_content    0\n",
              "rev_stem          0\n",
              "review_type       0\n",
              "rev_list          0\n",
              "rev_kalimat       0\n",
              "dtype: int64"
            ]
          },
          "metadata": {},
          "execution_count": 63
        }
      ]
    },
    {
      "cell_type": "code",
      "source": [
        "df.info()"
      ],
      "metadata": {
        "colab": {
          "base_uri": "https://localhost:8080/"
        },
        "id": "-beWiGIkYoJL",
        "outputId": "2f2b6f4c-8b91-4bb9-f81a-3c7ade1577f8"
      },
      "execution_count": null,
      "outputs": [
        {
          "output_type": "stream",
          "name": "stdout",
          "text": [
            "<class 'pandas.core.frame.DataFrame'>\n",
            "Int64Index: 23510 entries, 0 to 23511\n",
            "Data columns (total 6 columns):\n",
            " #   Column          Non-Null Count  Dtype \n",
            "---  ------          --------------  ----- \n",
            " 0   Unnamed: 0      23510 non-null  int64 \n",
            " 1   review_content  23510 non-null  object\n",
            " 2   rev_stem        23510 non-null  object\n",
            " 3   review_type     23510 non-null  int64 \n",
            " 4   rev_list        23510 non-null  object\n",
            " 5   rev_kalimat     23510 non-null  object\n",
            "dtypes: int64(2), object(4)\n",
            "memory usage: 1.3+ MB\n"
          ]
        }
      ]
    },
    {
      "cell_type": "markdown",
      "source": [
        "Split data"
      ],
      "metadata": {
        "id": "Pd5FPf0HX-uZ"
      }
    },
    {
      "cell_type": "code",
      "source": [
        "from sklearn.model_selection import train_test_split\n",
        "import numpy as np\n",
        "\n",
        "def splitData(df):\n",
        "    X_train, X_test, y_train, y_test = train_test_split(df[['review_content','rev_list','rev_kalimat']], df['review_type'], test_size = 0.3, random_state= 42, shuffle = True)\n",
        "\n",
        "    df_train = pd.DataFrame(y_train)  \n",
        "    df_train = df_train.join(X_train)\n",
        "\n",
        "    df_test = pd.DataFrame(y_test)\n",
        "    df_test = df_test.join(X_test)\n",
        "\n",
        "    return df_train, df_test"
      ],
      "metadata": {
        "id": "QYCra_4vgWmF"
      },
      "execution_count": null,
      "outputs": []
    },
    {
      "cell_type": "code",
      "source": [
        "data_train, data_test = splitData(df)"
      ],
      "metadata": {
        "id": "QdB2ou7Wg8j_"
      },
      "execution_count": null,
      "outputs": []
    },
    {
      "cell_type": "code",
      "source": [
        "data_train"
      ],
      "metadata": {
        "colab": {
          "base_uri": "https://localhost:8080/",
          "height": 641
        },
        "id": "jvz4Tk9LaEGq",
        "outputId": "128abcd2-7892-4265-ffec-2c294fc407c3"
      },
      "execution_count": null,
      "outputs": [
        {
          "output_type": "execute_result",
          "data": {
            "text/plain": [
              "       review_type                                     review_content  \\\n",
              "21091            1  the biggest problem is the jumbled and hackney...   \n",
              "18183            1  the film tries to cover the logic gaps with co...   \n",
              "3795             0  this is a sublime romantic comedy that spins o...   \n",
              "22590            1  unfortunately, it all builds to a last reel th...   \n",
              "1280             0  sombre and sensitive, hittman's film offers a ...   \n",
              "...            ...                                                ...   \n",
              "11964            1     ...an absolutely interminable piece of work...   \n",
              "21577            1  with a promising title taken from edgar allan ...   \n",
              "5390             0  amusing and unusual film about the bond betwee...   \n",
              "860              0  uncut gems is driven by a solid performance by...   \n",
              "15795            1  wwii haunted house story has violence, gore, a...   \n",
              "\n",
              "                                                rev_list  \\\n",
              "21091  [biggest, problem, jumbl, hackney, screenplay,...   \n",
              "18183  [film, cover, logic, gap, comedi, joke, bad, w...   \n",
              "3795   [sublim, romant, comedi, spin, wilder, favouri...   \n",
              "22590  [build, reel, rail, strenuou, bit, action, fli...   \n",
              "1280   [sombr, sensit, hittman, film, offer, sear, ou...   \n",
              "...                                                  ...   \n",
              "11964                    [absolut, intermin, piec, work]   \n",
              "21577  [promis, titl, edgar, allan, poe, poem, haunt,...   \n",
              "5390            [amus, unusu, film, bond, titl, charact]   \n",
              "860    [uncut, gem, driven, solid, perform, adam, san...   \n",
              "15795   [wwii, haunt, hous, stori, violenc, gore, swear]   \n",
              "\n",
              "                                             rev_kalimat  \n",
              "21091  biggest problem jumbl hackney screenplay regar...  \n",
              "18183  film cover logic gap comedi joke bad worsen ex...  \n",
              "3795   sublim romant comedi spin wilder favourit them...  \n",
              "22590  build reel rail strenuou bit action flick sill...  \n",
              "1280   sombr sensit hittman film offer sear outrag in...  \n",
              "...                                                  ...  \n",
              "11964                         absolut intermin piec work  \n",
              "21577  promis titl edgar allan poe poem haunt palac m...  \n",
              "5390                   amus unusu film bond titl charact  \n",
              "860    uncut gem driven solid perform adam sandler en...  \n",
              "15795           wwii haunt hous stori violenc gore swear  \n",
              "\n",
              "[16457 rows x 4 columns]"
            ],
            "text/html": [
              "\n",
              "  <div id=\"df-4f91aada-e304-4816-8a5f-bb538be3ae73\">\n",
              "    <div class=\"colab-df-container\">\n",
              "      <div>\n",
              "<style scoped>\n",
              "    .dataframe tbody tr th:only-of-type {\n",
              "        vertical-align: middle;\n",
              "    }\n",
              "\n",
              "    .dataframe tbody tr th {\n",
              "        vertical-align: top;\n",
              "    }\n",
              "\n",
              "    .dataframe thead th {\n",
              "        text-align: right;\n",
              "    }\n",
              "</style>\n",
              "<table border=\"1\" class=\"dataframe\">\n",
              "  <thead>\n",
              "    <tr style=\"text-align: right;\">\n",
              "      <th></th>\n",
              "      <th>review_type</th>\n",
              "      <th>review_content</th>\n",
              "      <th>rev_list</th>\n",
              "      <th>rev_kalimat</th>\n",
              "    </tr>\n",
              "  </thead>\n",
              "  <tbody>\n",
              "    <tr>\n",
              "      <th>21091</th>\n",
              "      <td>1</td>\n",
              "      <td>the biggest problem is the jumbled and hackney...</td>\n",
              "      <td>[biggest, problem, jumbl, hackney, screenplay,...</td>\n",
              "      <td>biggest problem jumbl hackney screenplay regar...</td>\n",
              "    </tr>\n",
              "    <tr>\n",
              "      <th>18183</th>\n",
              "      <td>1</td>\n",
              "      <td>the film tries to cover the logic gaps with co...</td>\n",
              "      <td>[film, cover, logic, gap, comedi, joke, bad, w...</td>\n",
              "      <td>film cover logic gap comedi joke bad worsen ex...</td>\n",
              "    </tr>\n",
              "    <tr>\n",
              "      <th>3795</th>\n",
              "      <td>0</td>\n",
              "      <td>this is a sublime romantic comedy that spins o...</td>\n",
              "      <td>[sublim, romant, comedi, spin, wilder, favouri...</td>\n",
              "      <td>sublim romant comedi spin wilder favourit them...</td>\n",
              "    </tr>\n",
              "    <tr>\n",
              "      <th>22590</th>\n",
              "      <td>1</td>\n",
              "      <td>unfortunately, it all builds to a last reel th...</td>\n",
              "      <td>[build, reel, rail, strenuou, bit, action, fli...</td>\n",
              "      <td>build reel rail strenuou bit action flick sill...</td>\n",
              "    </tr>\n",
              "    <tr>\n",
              "      <th>1280</th>\n",
              "      <td>0</td>\n",
              "      <td>sombre and sensitive, hittman's film offers a ...</td>\n",
              "      <td>[sombr, sensit, hittman, film, offer, sear, ou...</td>\n",
              "      <td>sombr sensit hittman film offer sear outrag in...</td>\n",
              "    </tr>\n",
              "    <tr>\n",
              "      <th>...</th>\n",
              "      <td>...</td>\n",
              "      <td>...</td>\n",
              "      <td>...</td>\n",
              "      <td>...</td>\n",
              "    </tr>\n",
              "    <tr>\n",
              "      <th>11964</th>\n",
              "      <td>1</td>\n",
              "      <td>...an absolutely interminable piece of work...</td>\n",
              "      <td>[absolut, intermin, piec, work]</td>\n",
              "      <td>absolut intermin piec work</td>\n",
              "    </tr>\n",
              "    <tr>\n",
              "      <th>21577</th>\n",
              "      <td>1</td>\n",
              "      <td>with a promising title taken from edgar allan ...</td>\n",
              "      <td>[promis, titl, edgar, allan, poe, poem, haunt,...</td>\n",
              "      <td>promis titl edgar allan poe poem haunt palac m...</td>\n",
              "    </tr>\n",
              "    <tr>\n",
              "      <th>5390</th>\n",
              "      <td>0</td>\n",
              "      <td>amusing and unusual film about the bond betwee...</td>\n",
              "      <td>[amus, unusu, film, bond, titl, charact]</td>\n",
              "      <td>amus unusu film bond titl charact</td>\n",
              "    </tr>\n",
              "    <tr>\n",
              "      <th>860</th>\n",
              "      <td>0</td>\n",
              "      <td>uncut gems is driven by a solid performance by...</td>\n",
              "      <td>[uncut, gem, driven, solid, perform, adam, san...</td>\n",
              "      <td>uncut gem driven solid perform adam sandler en...</td>\n",
              "    </tr>\n",
              "    <tr>\n",
              "      <th>15795</th>\n",
              "      <td>1</td>\n",
              "      <td>wwii haunted house story has violence, gore, a...</td>\n",
              "      <td>[wwii, haunt, hous, stori, violenc, gore, swear]</td>\n",
              "      <td>wwii haunt hous stori violenc gore swear</td>\n",
              "    </tr>\n",
              "  </tbody>\n",
              "</table>\n",
              "<p>16457 rows × 4 columns</p>\n",
              "</div>\n",
              "      <button class=\"colab-df-convert\" onclick=\"convertToInteractive('df-4f91aada-e304-4816-8a5f-bb538be3ae73')\"\n",
              "              title=\"Convert this dataframe to an interactive table.\"\n",
              "              style=\"display:none;\">\n",
              "        \n",
              "  <svg xmlns=\"http://www.w3.org/2000/svg\" height=\"24px\"viewBox=\"0 0 24 24\"\n",
              "       width=\"24px\">\n",
              "    <path d=\"M0 0h24v24H0V0z\" fill=\"none\"/>\n",
              "    <path d=\"M18.56 5.44l.94 2.06.94-2.06 2.06-.94-2.06-.94-.94-2.06-.94 2.06-2.06.94zm-11 1L8.5 8.5l.94-2.06 2.06-.94-2.06-.94L8.5 2.5l-.94 2.06-2.06.94zm10 10l.94 2.06.94-2.06 2.06-.94-2.06-.94-.94-2.06-.94 2.06-2.06.94z\"/><path d=\"M17.41 7.96l-1.37-1.37c-.4-.4-.92-.59-1.43-.59-.52 0-1.04.2-1.43.59L10.3 9.45l-7.72 7.72c-.78.78-.78 2.05 0 2.83L4 21.41c.39.39.9.59 1.41.59.51 0 1.02-.2 1.41-.59l7.78-7.78 2.81-2.81c.8-.78.8-2.07 0-2.86zM5.41 20L4 18.59l7.72-7.72 1.47 1.35L5.41 20z\"/>\n",
              "  </svg>\n",
              "      </button>\n",
              "      \n",
              "  <style>\n",
              "    .colab-df-container {\n",
              "      display:flex;\n",
              "      flex-wrap:wrap;\n",
              "      gap: 12px;\n",
              "    }\n",
              "\n",
              "    .colab-df-convert {\n",
              "      background-color: #E8F0FE;\n",
              "      border: none;\n",
              "      border-radius: 50%;\n",
              "      cursor: pointer;\n",
              "      display: none;\n",
              "      fill: #1967D2;\n",
              "      height: 32px;\n",
              "      padding: 0 0 0 0;\n",
              "      width: 32px;\n",
              "    }\n",
              "\n",
              "    .colab-df-convert:hover {\n",
              "      background-color: #E2EBFA;\n",
              "      box-shadow: 0px 1px 2px rgba(60, 64, 67, 0.3), 0px 1px 3px 1px rgba(60, 64, 67, 0.15);\n",
              "      fill: #174EA6;\n",
              "    }\n",
              "\n",
              "    [theme=dark] .colab-df-convert {\n",
              "      background-color: #3B4455;\n",
              "      fill: #D2E3FC;\n",
              "    }\n",
              "\n",
              "    [theme=dark] .colab-df-convert:hover {\n",
              "      background-color: #434B5C;\n",
              "      box-shadow: 0px 1px 3px 1px rgba(0, 0, 0, 0.15);\n",
              "      filter: drop-shadow(0px 1px 2px rgba(0, 0, 0, 0.3));\n",
              "      fill: #FFFFFF;\n",
              "    }\n",
              "  </style>\n",
              "\n",
              "      <script>\n",
              "        const buttonEl =\n",
              "          document.querySelector('#df-4f91aada-e304-4816-8a5f-bb538be3ae73 button.colab-df-convert');\n",
              "        buttonEl.style.display =\n",
              "          google.colab.kernel.accessAllowed ? 'block' : 'none';\n",
              "\n",
              "        async function convertToInteractive(key) {\n",
              "          const element = document.querySelector('#df-4f91aada-e304-4816-8a5f-bb538be3ae73');\n",
              "          const dataTable =\n",
              "            await google.colab.kernel.invokeFunction('convertToInteractive',\n",
              "                                                     [key], {});\n",
              "          if (!dataTable) return;\n",
              "\n",
              "          const docLinkHtml = 'Like what you see? Visit the ' +\n",
              "            '<a target=\"_blank\" href=https://colab.research.google.com/notebooks/data_table.ipynb>data table notebook</a>'\n",
              "            + ' to learn more about interactive tables.';\n",
              "          element.innerHTML = '';\n",
              "          dataTable['output_type'] = 'display_data';\n",
              "          await google.colab.output.renderOutput(dataTable, element);\n",
              "          const docLink = document.createElement('div');\n",
              "          docLink.innerHTML = docLinkHtml;\n",
              "          element.appendChild(docLink);\n",
              "        }\n",
              "      </script>\n",
              "    </div>\n",
              "  </div>\n",
              "  "
            ]
          },
          "metadata": {},
          "execution_count": 67
        }
      ]
    },
    {
      "cell_type": "code",
      "source": [
        "data_train.to_csv('drive/My Drive/TUGAS AKHIR/DATASET_2/Final Dataset/data_train.csv')"
      ],
      "metadata": {
        "id": "Qx4vM20ZZ42J"
      },
      "execution_count": null,
      "outputs": []
    },
    {
      "cell_type": "code",
      "source": [
        "data_test.to_csv('drive/My Drive/TUGAS AKHIR/DATASET_2/Final Dataset/data_test.csv')"
      ],
      "metadata": {
        "id": "55o8l6aKmHF9"
      },
      "execution_count": null,
      "outputs": []
    },
    {
      "cell_type": "code",
      "source": [
        "print('Jumlah Data :', len(data_train))\n",
        "print('Sentiment : ', data_train.groupby(['review_type'])['review_type'].count())"
      ],
      "metadata": {
        "colab": {
          "base_uri": "https://localhost:8080/"
        },
        "id": "a2zNQOmohKg_",
        "outputId": "a8ae3f03-2841-491b-c183-05e0f8c11648"
      },
      "execution_count": null,
      "outputs": [
        {
          "output_type": "stream",
          "name": "stdout",
          "text": [
            "Jumlah Data : 16457\n",
            "Sentiment :  review_type\n",
            "0    8228\n",
            "1    8229\n",
            "Name: review_type, dtype: int64\n"
          ]
        }
      ]
    },
    {
      "cell_type": "code",
      "source": [
        "print('Jumlah Data :', len(data_test))\n",
        "print('Sentiment : ', data_test.groupby(['review_type'])['review_type'].count())"
      ],
      "metadata": {
        "colab": {
          "base_uri": "https://localhost:8080/"
        },
        "id": "5ncrlF28hSoW",
        "outputId": "d2d549ee-3f36-4d41-fb7e-ead4def96594"
      },
      "execution_count": null,
      "outputs": [
        {
          "output_type": "stream",
          "name": "stdout",
          "text": [
            "Jumlah Data : 7053\n",
            "Sentiment :  review_type\n",
            "0    3528\n",
            "1    3525\n",
            "Name: review_type, dtype: int64\n"
          ]
        }
      ]
    },
    {
      "cell_type": "markdown",
      "metadata": {
        "id": "B4Da4VGl61KN"
      },
      "source": [
        "#Word2Vec"
      ]
    },
    {
      "cell_type": "markdown",
      "source": [
        "##Train"
      ],
      "metadata": {
        "id": "NERu3JUA6r0N"
      }
    },
    {
      "cell_type": "code",
      "execution_count": null,
      "metadata": {
        "colab": {
          "base_uri": "https://localhost:8080/"
        },
        "id": "wvnvLiDK9oUx",
        "outputId": "955fcdda-c306-4532-e6fc-d13012a0b77a"
      },
      "outputs": [
        {
          "output_type": "stream",
          "name": "stdout",
          "text": [
            "[nltk_data] Downloading package punkt to /root/nltk_data...\n",
            "[nltk_data]   Package punkt is already up-to-date!\n"
          ]
        }
      ],
      "source": [
        "import pandas as pd\n",
        "import numpy as np\n",
        "\n",
        "# w2v\n",
        "import joblib\n",
        "import ast\n",
        "import nltk\n",
        "nltk.download('punkt')\n",
        "import gensim\n",
        "from gensim.models import Word2Vec \n",
        "import itertools\n",
        "from nltk.tokenize import word_tokenize\n",
        "from sklearn.metrics import confusion_matrix"
      ]
    },
    {
      "cell_type": "code",
      "execution_count": null,
      "metadata": {
        "id": "hCVNkNPe7LPx"
      },
      "outputs": [],
      "source": [
        "Corpus_voc = [] \n",
        "temp = []\n",
        "# iterate through each sentence in the file \n",
        "for i in dataword2vec: \n",
        "  temp = [] \n",
        "  # tokenize the sentence into words \n",
        "  for j in word_tokenize(str(i)): \n",
        "      temp.append(j.lower()) \n",
        "  Corpus_voc.append(temp)"
      ]
    },
    {
      "cell_type": "code",
      "execution_count": null,
      "metadata": {
        "id": "__WeG-wT7Nsc"
      },
      "outputs": [],
      "source": [
        "data_train['rev_list'] = list(map(lambda sentences:\n",
        "                                         list(map(nltk.word_tokenize, sentences)),\n",
        "                                         data_train.rev_list))  # tokenize sentences"
      ]
    },
    {
      "cell_type": "code",
      "execution_count": null,
      "metadata": {
        "id": "YxZp8Vlf7YmB"
      },
      "outputs": [],
      "source": [
        "modelskip = Word2Vec(Corpus_voc, min_count = 1 , alpha = 0.1 , size=300, window=5, sg=1)"
      ]
    },
    {
      "cell_type": "code",
      "execution_count": null,
      "metadata": {
        "id": "tvrGLK2A7al5"
      },
      "outputs": [],
      "source": [
        "joblib.dump(modelskip, '/content/drive/My Drive/TUGAS AKHIR/TA/Code/word2vecskip.jl')\n",
        "skipgram = joblib.load('/content/drive/My Drive/TUGAS AKHIR/TA/Code/word2vecskip.jl')"
      ]
    },
    {
      "cell_type": "code",
      "execution_count": null,
      "metadata": {
        "id": "10hz0V0u7fw_"
      },
      "outputs": [],
      "source": [
        "def get_w2v_features(w2v_model, sentence_group):\n",
        "    words = np.concatenate(sentence_group)  # words in text\n",
        "    index2word_set = set(w2v_model.wv.vocab.keys())  # words known to model\n",
        "    \n",
        "    featureVec = np.zeros(w2v_model.vector_size, dtype=\"float32\")\n",
        "    \n",
        "    # Initialize a counter for number of words in a review\n",
        "    nwords = 0\n",
        "    # Loop over each word in the comment and, if it is in the model's vocabulary, add its feature vector to the total\n",
        "    for word in words:\n",
        "        if word in index2word_set: \n",
        "            featureVec = np.add(featureVec, w2v_model[word])\n",
        "            nwords += 1.\n",
        "\n",
        "    # Divide the result by the number of words to get the average\n",
        "    if nwords > 0:\n",
        "        featureVec = np.divide(featureVec, nwords)\n",
        "    return featureVec\n",
        "\n",
        "#mengambil arti dari semua vektor kata yang ada pada kalimat untuk mendapatkan representasi vektor "
      ]
    },
    {
      "cell_type": "code",
      "source": [
        "data_train"
      ],
      "metadata": {
        "colab": {
          "base_uri": "https://localhost:8080/",
          "height": 641
        },
        "id": "GrnrwMUjZzwe",
        "outputId": "77a041f8-7836-4838-dc31-fbbcd8a39066"
      },
      "execution_count": null,
      "outputs": [
        {
          "output_type": "execute_result",
          "data": {
            "text/plain": [
              "       review_type                                     review_content  \\\n",
              "14475            1  there is quite a bit to dark places that appea...   \n",
              "18185            1  the film tries to cover the logic gaps with co...   \n",
              "3795             0  scorsese never lets us forget he's an outsider...   \n",
              "14280            1  what starts out as a promising comic thriller ...   \n",
              "1280             0  the stakes are low and there's just enough sla...   \n",
              "...            ...                                                ...   \n",
              "11965            1  the ten commandments may have been impressive ...   \n",
              "21578            1  not as weird or fun as it sounds, the delibera...   \n",
              "5391             0  rian johnson kept the mood of the movie rather...   \n",
              "860              0  high life is a story so simple it loops back t...   \n",
              "15796            1  the final revelation here ... is as prepostero...   \n",
              "\n",
              "                                                rev_list  \\\n",
              "14475         [bit, dark, place, appear, market, surfac]   \n",
              "18185  [film, cover, logic, gap, comedi, joke, bad, w...   \n",
              "3795   [scorses, forget, outsid, tipto, materi, afrai...   \n",
              "14280  [start, promis, comic, thriller, deflat, clear...   \n",
              "1280   [stake, low, slapstick, tomfooleri, thing, ent...   \n",
              "...                                                  ...   \n",
              "11965  [command, impress, time, film, horribl, fail, ...   \n",
              "21578  [weird, fun, sound, deliber, pace, film, dabbl...   \n",
              "5391   [rian, johnson, mood, movi, light, seemingli, ...   \n",
              "860    [high, life, stori, simpl, loop, profound, foc...   \n",
              "15796       [final, revel, preposter, rest, movi, gener]   \n",
              "\n",
              "                                             rev_kalimat  \n",
              "14475                bit dark place appear market surfac  \n",
              "18185  film cover logic gap comedi joke bad worsen ex...  \n",
              "3795   scorses forget outsid tipto materi afraid bump...  \n",
              "14280      start promis comic thriller deflat clear gore  \n",
              "1280      stake low slapstick tomfooleri thing entertain  \n",
              "...                                                  ...  \n",
              "11965  command impress time film horribl fail attempt...  \n",
              "21578  weird fun sound deliber pace film dabbl atmosp...  \n",
              "5391   rian johnson mood movi light seemingli frivol ...  \n",
              "860    high life stori simpl loop profound focus char...  \n",
              "15796              final revel preposter rest movi gener  \n",
              "\n",
              "[16457 rows x 4 columns]"
            ],
            "text/html": [
              "\n",
              "  <div id=\"df-abb62bb3-3614-431f-8813-cc8a0164c225\">\n",
              "    <div class=\"colab-df-container\">\n",
              "      <div>\n",
              "<style scoped>\n",
              "    .dataframe tbody tr th:only-of-type {\n",
              "        vertical-align: middle;\n",
              "    }\n",
              "\n",
              "    .dataframe tbody tr th {\n",
              "        vertical-align: top;\n",
              "    }\n",
              "\n",
              "    .dataframe thead th {\n",
              "        text-align: right;\n",
              "    }\n",
              "</style>\n",
              "<table border=\"1\" class=\"dataframe\">\n",
              "  <thead>\n",
              "    <tr style=\"text-align: right;\">\n",
              "      <th></th>\n",
              "      <th>review_type</th>\n",
              "      <th>review_content</th>\n",
              "      <th>rev_list</th>\n",
              "      <th>rev_kalimat</th>\n",
              "    </tr>\n",
              "  </thead>\n",
              "  <tbody>\n",
              "    <tr>\n",
              "      <th>14475</th>\n",
              "      <td>1</td>\n",
              "      <td>there is quite a bit to dark places that appea...</td>\n",
              "      <td>[bit, dark, place, appear, market, surfac]</td>\n",
              "      <td>bit dark place appear market surfac</td>\n",
              "    </tr>\n",
              "    <tr>\n",
              "      <th>18185</th>\n",
              "      <td>1</td>\n",
              "      <td>the film tries to cover the logic gaps with co...</td>\n",
              "      <td>[film, cover, logic, gap, comedi, joke, bad, w...</td>\n",
              "      <td>film cover logic gap comedi joke bad worsen ex...</td>\n",
              "    </tr>\n",
              "    <tr>\n",
              "      <th>3795</th>\n",
              "      <td>0</td>\n",
              "      <td>scorsese never lets us forget he's an outsider...</td>\n",
              "      <td>[scorses, forget, outsid, tipto, materi, afrai...</td>\n",
              "      <td>scorses forget outsid tipto materi afraid bump...</td>\n",
              "    </tr>\n",
              "    <tr>\n",
              "      <th>14280</th>\n",
              "      <td>1</td>\n",
              "      <td>what starts out as a promising comic thriller ...</td>\n",
              "      <td>[start, promis, comic, thriller, deflat, clear...</td>\n",
              "      <td>start promis comic thriller deflat clear gore</td>\n",
              "    </tr>\n",
              "    <tr>\n",
              "      <th>1280</th>\n",
              "      <td>0</td>\n",
              "      <td>the stakes are low and there's just enough sla...</td>\n",
              "      <td>[stake, low, slapstick, tomfooleri, thing, ent...</td>\n",
              "      <td>stake low slapstick tomfooleri thing entertain</td>\n",
              "    </tr>\n",
              "    <tr>\n",
              "      <th>...</th>\n",
              "      <td>...</td>\n",
              "      <td>...</td>\n",
              "      <td>...</td>\n",
              "      <td>...</td>\n",
              "    </tr>\n",
              "    <tr>\n",
              "      <th>11965</th>\n",
              "      <td>1</td>\n",
              "      <td>the ten commandments may have been impressive ...</td>\n",
              "      <td>[command, impress, time, film, horribl, fail, ...</td>\n",
              "      <td>command impress time film horribl fail attempt...</td>\n",
              "    </tr>\n",
              "    <tr>\n",
              "      <th>21578</th>\n",
              "      <td>1</td>\n",
              "      <td>not as weird or fun as it sounds, the delibera...</td>\n",
              "      <td>[weird, fun, sound, deliber, pace, film, dabbl...</td>\n",
              "      <td>weird fun sound deliber pace film dabbl atmosp...</td>\n",
              "    </tr>\n",
              "    <tr>\n",
              "      <th>5391</th>\n",
              "      <td>0</td>\n",
              "      <td>rian johnson kept the mood of the movie rather...</td>\n",
              "      <td>[rian, johnson, mood, movi, light, seemingli, ...</td>\n",
              "      <td>rian johnson mood movi light seemingli frivol ...</td>\n",
              "    </tr>\n",
              "    <tr>\n",
              "      <th>860</th>\n",
              "      <td>0</td>\n",
              "      <td>high life is a story so simple it loops back t...</td>\n",
              "      <td>[high, life, stori, simpl, loop, profound, foc...</td>\n",
              "      <td>high life stori simpl loop profound focus char...</td>\n",
              "    </tr>\n",
              "    <tr>\n",
              "      <th>15796</th>\n",
              "      <td>1</td>\n",
              "      <td>the final revelation here ... is as prepostero...</td>\n",
              "      <td>[final, revel, preposter, rest, movi, gener]</td>\n",
              "      <td>final revel preposter rest movi gener</td>\n",
              "    </tr>\n",
              "  </tbody>\n",
              "</table>\n",
              "<p>16457 rows × 4 columns</p>\n",
              "</div>\n",
              "      <button class=\"colab-df-convert\" onclick=\"convertToInteractive('df-abb62bb3-3614-431f-8813-cc8a0164c225')\"\n",
              "              title=\"Convert this dataframe to an interactive table.\"\n",
              "              style=\"display:none;\">\n",
              "        \n",
              "  <svg xmlns=\"http://www.w3.org/2000/svg\" height=\"24px\"viewBox=\"0 0 24 24\"\n",
              "       width=\"24px\">\n",
              "    <path d=\"M0 0h24v24H0V0z\" fill=\"none\"/>\n",
              "    <path d=\"M18.56 5.44l.94 2.06.94-2.06 2.06-.94-2.06-.94-.94-2.06-.94 2.06-2.06.94zm-11 1L8.5 8.5l.94-2.06 2.06-.94-2.06-.94L8.5 2.5l-.94 2.06-2.06.94zm10 10l.94 2.06.94-2.06 2.06-.94-2.06-.94-.94-2.06-.94 2.06-2.06.94z\"/><path d=\"M17.41 7.96l-1.37-1.37c-.4-.4-.92-.59-1.43-.59-.52 0-1.04.2-1.43.59L10.3 9.45l-7.72 7.72c-.78.78-.78 2.05 0 2.83L4 21.41c.39.39.9.59 1.41.59.51 0 1.02-.2 1.41-.59l7.78-7.78 2.81-2.81c.8-.78.8-2.07 0-2.86zM5.41 20L4 18.59l7.72-7.72 1.47 1.35L5.41 20z\"/>\n",
              "  </svg>\n",
              "      </button>\n",
              "      \n",
              "  <style>\n",
              "    .colab-df-container {\n",
              "      display:flex;\n",
              "      flex-wrap:wrap;\n",
              "      gap: 12px;\n",
              "    }\n",
              "\n",
              "    .colab-df-convert {\n",
              "      background-color: #E8F0FE;\n",
              "      border: none;\n",
              "      border-radius: 50%;\n",
              "      cursor: pointer;\n",
              "      display: none;\n",
              "      fill: #1967D2;\n",
              "      height: 32px;\n",
              "      padding: 0 0 0 0;\n",
              "      width: 32px;\n",
              "    }\n",
              "\n",
              "    .colab-df-convert:hover {\n",
              "      background-color: #E2EBFA;\n",
              "      box-shadow: 0px 1px 2px rgba(60, 64, 67, 0.3), 0px 1px 3px 1px rgba(60, 64, 67, 0.15);\n",
              "      fill: #174EA6;\n",
              "    }\n",
              "\n",
              "    [theme=dark] .colab-df-convert {\n",
              "      background-color: #3B4455;\n",
              "      fill: #D2E3FC;\n",
              "    }\n",
              "\n",
              "    [theme=dark] .colab-df-convert:hover {\n",
              "      background-color: #434B5C;\n",
              "      box-shadow: 0px 1px 3px 1px rgba(0, 0, 0, 0.15);\n",
              "      filter: drop-shadow(0px 1px 2px rgba(0, 0, 0, 0.3));\n",
              "      fill: #FFFFFF;\n",
              "    }\n",
              "  </style>\n",
              "\n",
              "      <script>\n",
              "        const buttonEl =\n",
              "          document.querySelector('#df-abb62bb3-3614-431f-8813-cc8a0164c225 button.colab-df-convert');\n",
              "        buttonEl.style.display =\n",
              "          google.colab.kernel.accessAllowed ? 'block' : 'none';\n",
              "\n",
              "        async function convertToInteractive(key) {\n",
              "          const element = document.querySelector('#df-abb62bb3-3614-431f-8813-cc8a0164c225');\n",
              "          const dataTable =\n",
              "            await google.colab.kernel.invokeFunction('convertToInteractive',\n",
              "                                                     [key], {});\n",
              "          if (!dataTable) return;\n",
              "\n",
              "          const docLinkHtml = 'Like what you see? Visit the ' +\n",
              "            '<a target=\"_blank\" href=https://colab.research.google.com/notebooks/data_table.ipynb>data table notebook</a>'\n",
              "            + ' to learn more about interactive tables.';\n",
              "          element.innerHTML = '';\n",
              "          dataTable['output_type'] = 'display_data';\n",
              "          await google.colab.output.renderOutput(dataTable, element);\n",
              "          const docLink = document.createElement('div');\n",
              "          docLink.innerHTML = docLinkHtml;\n",
              "          element.appendChild(docLink);\n",
              "        }\n",
              "      </script>\n",
              "    </div>\n",
              "  </div>\n",
              "  "
            ]
          },
          "metadata": {},
          "execution_count": 26
        }
      ]
    },
    {
      "cell_type": "code",
      "source": [
        "# memberi nomor index\n",
        "index_kosong = []\n",
        "for i in range(len(data_train.rev_list)):\n",
        "  if len(data_train.rev_list.iloc[i]) == 0:\n",
        "    index_kosong.append(i)"
      ],
      "metadata": {
        "id": "99-Y1lhzgKAG"
      },
      "execution_count": null,
      "outputs": []
    },
    {
      "cell_type": "code",
      "source": [
        "# drop index yang masih kosong \n",
        "data_train = data_train.drop(data_train.index[index_kosong])"
      ],
      "metadata": {
        "id": "VHjkcWhsgLWN"
      },
      "execution_count": null,
      "outputs": []
    },
    {
      "cell_type": "code",
      "source": [
        "data_train"
      ],
      "metadata": {
        "colab": {
          "base_uri": "https://localhost:8080/",
          "height": 641
        },
        "id": "eXvE9spRgTAl",
        "outputId": "f1887d01-4ffe-4cb4-f745-661f0ca74646"
      },
      "execution_count": null,
      "outputs": [
        {
          "output_type": "execute_result",
          "data": {
            "text/plain": [
              "       review_type                                     review_content  \\\n",
              "21091            1  the biggest problem is the jumbled and hackney...   \n",
              "18183            1  the film tries to cover the logic gaps with co...   \n",
              "3795             0  this is a sublime romantic comedy that spins o...   \n",
              "22590            1  unfortunately, it all builds to a last reel th...   \n",
              "1280             0  sombre and sensitive, hittman's film offers a ...   \n",
              "...            ...                                                ...   \n",
              "11964            1     ...an absolutely interminable piece of work...   \n",
              "21577            1  with a promising title taken from edgar allan ...   \n",
              "5390             0  amusing and unusual film about the bond betwee...   \n",
              "860              0  uncut gems is driven by a solid performance by...   \n",
              "15795            1  wwii haunted house story has violence, gore, a...   \n",
              "\n",
              "                                                rev_list  \\\n",
              "21091  [[biggest], [problem], [jumbl], [hackney], [sc...   \n",
              "18183  [[film], [cover], [logic], [gap], [comedi], [j...   \n",
              "3795   [[sublim], [romant], [comedi], [spin], [wilder...   \n",
              "22590  [[build], [reel], [rail], [strenuou], [bit], [...   \n",
              "1280   [[sombr], [sensit], [hittman], [film], [offer]...   \n",
              "...                                                  ...   \n",
              "11964            [[absolut], [intermin], [piec], [work]]   \n",
              "21577  [[promis], [titl], [edgar], [allan], [poe], [p...   \n",
              "5390   [[amus], [unusu], [film], [bond], [titl], [cha...   \n",
              "860    [[uncut], [gem], [driven], [solid], [perform],...   \n",
              "15795  [[wwii], [haunt], [hous], [stori], [violenc], ...   \n",
              "\n",
              "                                             rev_kalimat  \n",
              "21091  biggest problem jumbl hackney screenplay regar...  \n",
              "18183  film cover logic gap comedi joke bad worsen ex...  \n",
              "3795   sublim romant comedi spin wilder favourit them...  \n",
              "22590  build reel rail strenuou bit action flick sill...  \n",
              "1280   sombr sensit hittman film offer sear outrag in...  \n",
              "...                                                  ...  \n",
              "11964                         absolut intermin piec work  \n",
              "21577  promis titl edgar allan poe poem haunt palac m...  \n",
              "5390                   amus unusu film bond titl charact  \n",
              "860    uncut gem driven solid perform adam sandler en...  \n",
              "15795           wwii haunt hous stori violenc gore swear  \n",
              "\n",
              "[16441 rows x 4 columns]"
            ],
            "text/html": [
              "\n",
              "  <div id=\"df-0da4f387-18c3-4299-9feb-83558d5632ab\">\n",
              "    <div class=\"colab-df-container\">\n",
              "      <div>\n",
              "<style scoped>\n",
              "    .dataframe tbody tr th:only-of-type {\n",
              "        vertical-align: middle;\n",
              "    }\n",
              "\n",
              "    .dataframe tbody tr th {\n",
              "        vertical-align: top;\n",
              "    }\n",
              "\n",
              "    .dataframe thead th {\n",
              "        text-align: right;\n",
              "    }\n",
              "</style>\n",
              "<table border=\"1\" class=\"dataframe\">\n",
              "  <thead>\n",
              "    <tr style=\"text-align: right;\">\n",
              "      <th></th>\n",
              "      <th>review_type</th>\n",
              "      <th>review_content</th>\n",
              "      <th>rev_list</th>\n",
              "      <th>rev_kalimat</th>\n",
              "    </tr>\n",
              "  </thead>\n",
              "  <tbody>\n",
              "    <tr>\n",
              "      <th>21091</th>\n",
              "      <td>1</td>\n",
              "      <td>the biggest problem is the jumbled and hackney...</td>\n",
              "      <td>[[biggest], [problem], [jumbl], [hackney], [sc...</td>\n",
              "      <td>biggest problem jumbl hackney screenplay regar...</td>\n",
              "    </tr>\n",
              "    <tr>\n",
              "      <th>18183</th>\n",
              "      <td>1</td>\n",
              "      <td>the film tries to cover the logic gaps with co...</td>\n",
              "      <td>[[film], [cover], [logic], [gap], [comedi], [j...</td>\n",
              "      <td>film cover logic gap comedi joke bad worsen ex...</td>\n",
              "    </tr>\n",
              "    <tr>\n",
              "      <th>3795</th>\n",
              "      <td>0</td>\n",
              "      <td>this is a sublime romantic comedy that spins o...</td>\n",
              "      <td>[[sublim], [romant], [comedi], [spin], [wilder...</td>\n",
              "      <td>sublim romant comedi spin wilder favourit them...</td>\n",
              "    </tr>\n",
              "    <tr>\n",
              "      <th>22590</th>\n",
              "      <td>1</td>\n",
              "      <td>unfortunately, it all builds to a last reel th...</td>\n",
              "      <td>[[build], [reel], [rail], [strenuou], [bit], [...</td>\n",
              "      <td>build reel rail strenuou bit action flick sill...</td>\n",
              "    </tr>\n",
              "    <tr>\n",
              "      <th>1280</th>\n",
              "      <td>0</td>\n",
              "      <td>sombre and sensitive, hittman's film offers a ...</td>\n",
              "      <td>[[sombr], [sensit], [hittman], [film], [offer]...</td>\n",
              "      <td>sombr sensit hittman film offer sear outrag in...</td>\n",
              "    </tr>\n",
              "    <tr>\n",
              "      <th>...</th>\n",
              "      <td>...</td>\n",
              "      <td>...</td>\n",
              "      <td>...</td>\n",
              "      <td>...</td>\n",
              "    </tr>\n",
              "    <tr>\n",
              "      <th>11964</th>\n",
              "      <td>1</td>\n",
              "      <td>...an absolutely interminable piece of work...</td>\n",
              "      <td>[[absolut], [intermin], [piec], [work]]</td>\n",
              "      <td>absolut intermin piec work</td>\n",
              "    </tr>\n",
              "    <tr>\n",
              "      <th>21577</th>\n",
              "      <td>1</td>\n",
              "      <td>with a promising title taken from edgar allan ...</td>\n",
              "      <td>[[promis], [titl], [edgar], [allan], [poe], [p...</td>\n",
              "      <td>promis titl edgar allan poe poem haunt palac m...</td>\n",
              "    </tr>\n",
              "    <tr>\n",
              "      <th>5390</th>\n",
              "      <td>0</td>\n",
              "      <td>amusing and unusual film about the bond betwee...</td>\n",
              "      <td>[[amus], [unusu], [film], [bond], [titl], [cha...</td>\n",
              "      <td>amus unusu film bond titl charact</td>\n",
              "    </tr>\n",
              "    <tr>\n",
              "      <th>860</th>\n",
              "      <td>0</td>\n",
              "      <td>uncut gems is driven by a solid performance by...</td>\n",
              "      <td>[[uncut], [gem], [driven], [solid], [perform],...</td>\n",
              "      <td>uncut gem driven solid perform adam sandler en...</td>\n",
              "    </tr>\n",
              "    <tr>\n",
              "      <th>15795</th>\n",
              "      <td>1</td>\n",
              "      <td>wwii haunted house story has violence, gore, a...</td>\n",
              "      <td>[[wwii], [haunt], [hous], [stori], [violenc], ...</td>\n",
              "      <td>wwii haunt hous stori violenc gore swear</td>\n",
              "    </tr>\n",
              "  </tbody>\n",
              "</table>\n",
              "<p>16441 rows × 4 columns</p>\n",
              "</div>\n",
              "      <button class=\"colab-df-convert\" onclick=\"convertToInteractive('df-0da4f387-18c3-4299-9feb-83558d5632ab')\"\n",
              "              title=\"Convert this dataframe to an interactive table.\"\n",
              "              style=\"display:none;\">\n",
              "        \n",
              "  <svg xmlns=\"http://www.w3.org/2000/svg\" height=\"24px\"viewBox=\"0 0 24 24\"\n",
              "       width=\"24px\">\n",
              "    <path d=\"M0 0h24v24H0V0z\" fill=\"none\"/>\n",
              "    <path d=\"M18.56 5.44l.94 2.06.94-2.06 2.06-.94-2.06-.94-.94-2.06-.94 2.06-2.06.94zm-11 1L8.5 8.5l.94-2.06 2.06-.94-2.06-.94L8.5 2.5l-.94 2.06-2.06.94zm10 10l.94 2.06.94-2.06 2.06-.94-2.06-.94-.94-2.06-.94 2.06-2.06.94z\"/><path d=\"M17.41 7.96l-1.37-1.37c-.4-.4-.92-.59-1.43-.59-.52 0-1.04.2-1.43.59L10.3 9.45l-7.72 7.72c-.78.78-.78 2.05 0 2.83L4 21.41c.39.39.9.59 1.41.59.51 0 1.02-.2 1.41-.59l7.78-7.78 2.81-2.81c.8-.78.8-2.07 0-2.86zM5.41 20L4 18.59l7.72-7.72 1.47 1.35L5.41 20z\"/>\n",
              "  </svg>\n",
              "      </button>\n",
              "      \n",
              "  <style>\n",
              "    .colab-df-container {\n",
              "      display:flex;\n",
              "      flex-wrap:wrap;\n",
              "      gap: 12px;\n",
              "    }\n",
              "\n",
              "    .colab-df-convert {\n",
              "      background-color: #E8F0FE;\n",
              "      border: none;\n",
              "      border-radius: 50%;\n",
              "      cursor: pointer;\n",
              "      display: none;\n",
              "      fill: #1967D2;\n",
              "      height: 32px;\n",
              "      padding: 0 0 0 0;\n",
              "      width: 32px;\n",
              "    }\n",
              "\n",
              "    .colab-df-convert:hover {\n",
              "      background-color: #E2EBFA;\n",
              "      box-shadow: 0px 1px 2px rgba(60, 64, 67, 0.3), 0px 1px 3px 1px rgba(60, 64, 67, 0.15);\n",
              "      fill: #174EA6;\n",
              "    }\n",
              "\n",
              "    [theme=dark] .colab-df-convert {\n",
              "      background-color: #3B4455;\n",
              "      fill: #D2E3FC;\n",
              "    }\n",
              "\n",
              "    [theme=dark] .colab-df-convert:hover {\n",
              "      background-color: #434B5C;\n",
              "      box-shadow: 0px 1px 3px 1px rgba(0, 0, 0, 0.15);\n",
              "      filter: drop-shadow(0px 1px 2px rgba(0, 0, 0, 0.3));\n",
              "      fill: #FFFFFF;\n",
              "    }\n",
              "  </style>\n",
              "\n",
              "      <script>\n",
              "        const buttonEl =\n",
              "          document.querySelector('#df-0da4f387-18c3-4299-9feb-83558d5632ab button.colab-df-convert');\n",
              "        buttonEl.style.display =\n",
              "          google.colab.kernel.accessAllowed ? 'block' : 'none';\n",
              "\n",
              "        async function convertToInteractive(key) {\n",
              "          const element = document.querySelector('#df-0da4f387-18c3-4299-9feb-83558d5632ab');\n",
              "          const dataTable =\n",
              "            await google.colab.kernel.invokeFunction('convertToInteractive',\n",
              "                                                     [key], {});\n",
              "          if (!dataTable) return;\n",
              "\n",
              "          const docLinkHtml = 'Like what you see? Visit the ' +\n",
              "            '<a target=\"_blank\" href=https://colab.research.google.com/notebooks/data_table.ipynb>data table notebook</a>'\n",
              "            + ' to learn more about interactive tables.';\n",
              "          element.innerHTML = '';\n",
              "          dataTable['output_type'] = 'display_data';\n",
              "          await google.colab.output.renderOutput(dataTable, element);\n",
              "          const docLink = document.createElement('div');\n",
              "          docLink.innerHTML = docLinkHtml;\n",
              "          element.appendChild(docLink);\n",
              "        }\n",
              "      </script>\n",
              "    </div>\n",
              "  </div>\n",
              "  "
            ]
          },
          "metadata": {},
          "execution_count": 81
        }
      ]
    },
    {
      "cell_type": "code",
      "execution_count": null,
      "metadata": {
        "id": "sDd2kqAD7_TY"
      },
      "outputs": [],
      "source": [
        "data_train['w2v_features_skip'] = list(map(lambda sen_group:\n",
        "                                      get_w2v_features(modelskip, sen_group),\n",
        "                                      data_train.rev_list))"
      ]
    },
    {
      "cell_type": "code",
      "execution_count": null,
      "metadata": {
        "id": "_Jvb9xgQ8FU1",
        "colab": {
          "base_uri": "https://localhost:8080/"
        },
        "outputId": "de6d14b4-17a3-4d7f-a370-47511c871f1e"
      },
      "outputs": [
        {
          "output_type": "stream",
          "name": "stdout",
          "text": [
            "(16441, 300)\n"
          ]
        }
      ],
      "source": [
        "feature = [x for x in data_train['w2v_features_skip'].transpose()]\n",
        "word2vec_with_stop_features_train = np.asarray(feature)\n",
        "\n",
        "print(word2vec_with_stop_features_train.shape)"
      ]
    },
    {
      "cell_type": "code",
      "source": [
        "X_train = word2vec_with_stop_features_train"
      ],
      "metadata": {
        "id": "DGdA1_If66Nl"
      },
      "execution_count": null,
      "outputs": []
    },
    {
      "cell_type": "code",
      "source": [
        "data_train"
      ],
      "metadata": {
        "id": "ank2psa8dGFb",
        "colab": {
          "base_uri": "https://localhost:8080/",
          "height": 641
        },
        "outputId": "1b38e215-58b5-4d52-f686-efecbece5b6e"
      },
      "execution_count": null,
      "outputs": [
        {
          "output_type": "execute_result",
          "data": {
            "text/plain": [
              "       review_type                                     review_content  \\\n",
              "21091            1  the biggest problem is the jumbled and hackney...   \n",
              "18183            1  the film tries to cover the logic gaps with co...   \n",
              "3795             0  this is a sublime romantic comedy that spins o...   \n",
              "22590            1  unfortunately, it all builds to a last reel th...   \n",
              "1280             0  sombre and sensitive, hittman's film offers a ...   \n",
              "...            ...                                                ...   \n",
              "11964            1     ...an absolutely interminable piece of work...   \n",
              "21577            1  with a promising title taken from edgar allan ...   \n",
              "5390             0  amusing and unusual film about the bond betwee...   \n",
              "860              0  uncut gems is driven by a solid performance by...   \n",
              "15795            1  wwii haunted house story has violence, gore, a...   \n",
              "\n",
              "                                                rev_list  \\\n",
              "21091  [[biggest], [problem], [jumbl], [hackney], [sc...   \n",
              "18183  [[film], [cover], [logic], [gap], [comedi], [j...   \n",
              "3795   [[sublim], [romant], [comedi], [spin], [wilder...   \n",
              "22590  [[build], [reel], [rail], [strenuou], [bit], [...   \n",
              "1280   [[sombr], [sensit], [hittman], [film], [offer]...   \n",
              "...                                                  ...   \n",
              "11964            [[absolut], [intermin], [piec], [work]]   \n",
              "21577  [[promis], [titl], [edgar], [allan], [poe], [p...   \n",
              "5390   [[amus], [unusu], [film], [bond], [titl], [cha...   \n",
              "860    [[uncut], [gem], [driven], [solid], [perform],...   \n",
              "15795  [[wwii], [haunt], [hous], [stori], [violenc], ...   \n",
              "\n",
              "                                             rev_kalimat  \\\n",
              "21091  biggest problem jumbl hackney screenplay regar...   \n",
              "18183  film cover logic gap comedi joke bad worsen ex...   \n",
              "3795   sublim romant comedi spin wilder favourit them...   \n",
              "22590  build reel rail strenuou bit action flick sill...   \n",
              "1280   sombr sensit hittman film offer sear outrag in...   \n",
              "...                                                  ...   \n",
              "11964                         absolut intermin piec work   \n",
              "21577  promis titl edgar allan poe poem haunt palac m...   \n",
              "5390                   amus unusu film bond titl charact   \n",
              "860    uncut gem driven solid perform adam sandler en...   \n",
              "15795           wwii haunt hous stori violenc gore swear   \n",
              "\n",
              "                                       w2v_features_skip  \n",
              "21091  [0.07902622, -0.11094307, -0.016993998, -0.175...  \n",
              "18183  [0.052281983, 0.011325347, -0.2667158, 0.00600...  \n",
              "3795   [0.0054527204, -0.064933434, -0.15791309, 0.06...  \n",
              "22590  [0.0742638, -0.07038974, -0.06606511, 0.015170...  \n",
              "1280   [-0.028482953, 0.020645753, -0.1147002, 0.0677...  \n",
              "...                                                  ...  \n",
              "11964  [-0.1621368, -0.3000759, -0.08028856, 0.312388...  \n",
              "21577  [0.02332063, 0.0002150517, -0.10808051, -0.091...  \n",
              "5390   [0.115980774, 0.054358747, -0.16859347, -0.001...  \n",
              "860    [0.047598656, -0.07960564, -0.06566135, -0.022...  \n",
              "15795  [0.057775438, -0.07204746, -0.04551898, -0.082...  \n",
              "\n",
              "[16441 rows x 5 columns]"
            ],
            "text/html": [
              "\n",
              "  <div id=\"df-83225e9e-a7a1-4301-8b22-522802f8e7e9\">\n",
              "    <div class=\"colab-df-container\">\n",
              "      <div>\n",
              "<style scoped>\n",
              "    .dataframe tbody tr th:only-of-type {\n",
              "        vertical-align: middle;\n",
              "    }\n",
              "\n",
              "    .dataframe tbody tr th {\n",
              "        vertical-align: top;\n",
              "    }\n",
              "\n",
              "    .dataframe thead th {\n",
              "        text-align: right;\n",
              "    }\n",
              "</style>\n",
              "<table border=\"1\" class=\"dataframe\">\n",
              "  <thead>\n",
              "    <tr style=\"text-align: right;\">\n",
              "      <th></th>\n",
              "      <th>review_type</th>\n",
              "      <th>review_content</th>\n",
              "      <th>rev_list</th>\n",
              "      <th>rev_kalimat</th>\n",
              "      <th>w2v_features_skip</th>\n",
              "    </tr>\n",
              "  </thead>\n",
              "  <tbody>\n",
              "    <tr>\n",
              "      <th>21091</th>\n",
              "      <td>1</td>\n",
              "      <td>the biggest problem is the jumbled and hackney...</td>\n",
              "      <td>[[biggest], [problem], [jumbl], [hackney], [sc...</td>\n",
              "      <td>biggest problem jumbl hackney screenplay regar...</td>\n",
              "      <td>[0.07902622, -0.11094307, -0.016993998, -0.175...</td>\n",
              "    </tr>\n",
              "    <tr>\n",
              "      <th>18183</th>\n",
              "      <td>1</td>\n",
              "      <td>the film tries to cover the logic gaps with co...</td>\n",
              "      <td>[[film], [cover], [logic], [gap], [comedi], [j...</td>\n",
              "      <td>film cover logic gap comedi joke bad worsen ex...</td>\n",
              "      <td>[0.052281983, 0.011325347, -0.2667158, 0.00600...</td>\n",
              "    </tr>\n",
              "    <tr>\n",
              "      <th>3795</th>\n",
              "      <td>0</td>\n",
              "      <td>this is a sublime romantic comedy that spins o...</td>\n",
              "      <td>[[sublim], [romant], [comedi], [spin], [wilder...</td>\n",
              "      <td>sublim romant comedi spin wilder favourit them...</td>\n",
              "      <td>[0.0054527204, -0.064933434, -0.15791309, 0.06...</td>\n",
              "    </tr>\n",
              "    <tr>\n",
              "      <th>22590</th>\n",
              "      <td>1</td>\n",
              "      <td>unfortunately, it all builds to a last reel th...</td>\n",
              "      <td>[[build], [reel], [rail], [strenuou], [bit], [...</td>\n",
              "      <td>build reel rail strenuou bit action flick sill...</td>\n",
              "      <td>[0.0742638, -0.07038974, -0.06606511, 0.015170...</td>\n",
              "    </tr>\n",
              "    <tr>\n",
              "      <th>1280</th>\n",
              "      <td>0</td>\n",
              "      <td>sombre and sensitive, hittman's film offers a ...</td>\n",
              "      <td>[[sombr], [sensit], [hittman], [film], [offer]...</td>\n",
              "      <td>sombr sensit hittman film offer sear outrag in...</td>\n",
              "      <td>[-0.028482953, 0.020645753, -0.1147002, 0.0677...</td>\n",
              "    </tr>\n",
              "    <tr>\n",
              "      <th>...</th>\n",
              "      <td>...</td>\n",
              "      <td>...</td>\n",
              "      <td>...</td>\n",
              "      <td>...</td>\n",
              "      <td>...</td>\n",
              "    </tr>\n",
              "    <tr>\n",
              "      <th>11964</th>\n",
              "      <td>1</td>\n",
              "      <td>...an absolutely interminable piece of work...</td>\n",
              "      <td>[[absolut], [intermin], [piec], [work]]</td>\n",
              "      <td>absolut intermin piec work</td>\n",
              "      <td>[-0.1621368, -0.3000759, -0.08028856, 0.312388...</td>\n",
              "    </tr>\n",
              "    <tr>\n",
              "      <th>21577</th>\n",
              "      <td>1</td>\n",
              "      <td>with a promising title taken from edgar allan ...</td>\n",
              "      <td>[[promis], [titl], [edgar], [allan], [poe], [p...</td>\n",
              "      <td>promis titl edgar allan poe poem haunt palac m...</td>\n",
              "      <td>[0.02332063, 0.0002150517, -0.10808051, -0.091...</td>\n",
              "    </tr>\n",
              "    <tr>\n",
              "      <th>5390</th>\n",
              "      <td>0</td>\n",
              "      <td>amusing and unusual film about the bond betwee...</td>\n",
              "      <td>[[amus], [unusu], [film], [bond], [titl], [cha...</td>\n",
              "      <td>amus unusu film bond titl charact</td>\n",
              "      <td>[0.115980774, 0.054358747, -0.16859347, -0.001...</td>\n",
              "    </tr>\n",
              "    <tr>\n",
              "      <th>860</th>\n",
              "      <td>0</td>\n",
              "      <td>uncut gems is driven by a solid performance by...</td>\n",
              "      <td>[[uncut], [gem], [driven], [solid], [perform],...</td>\n",
              "      <td>uncut gem driven solid perform adam sandler en...</td>\n",
              "      <td>[0.047598656, -0.07960564, -0.06566135, -0.022...</td>\n",
              "    </tr>\n",
              "    <tr>\n",
              "      <th>15795</th>\n",
              "      <td>1</td>\n",
              "      <td>wwii haunted house story has violence, gore, a...</td>\n",
              "      <td>[[wwii], [haunt], [hous], [stori], [violenc], ...</td>\n",
              "      <td>wwii haunt hous stori violenc gore swear</td>\n",
              "      <td>[0.057775438, -0.07204746, -0.04551898, -0.082...</td>\n",
              "    </tr>\n",
              "  </tbody>\n",
              "</table>\n",
              "<p>16441 rows × 5 columns</p>\n",
              "</div>\n",
              "      <button class=\"colab-df-convert\" onclick=\"convertToInteractive('df-83225e9e-a7a1-4301-8b22-522802f8e7e9')\"\n",
              "              title=\"Convert this dataframe to an interactive table.\"\n",
              "              style=\"display:none;\">\n",
              "        \n",
              "  <svg xmlns=\"http://www.w3.org/2000/svg\" height=\"24px\"viewBox=\"0 0 24 24\"\n",
              "       width=\"24px\">\n",
              "    <path d=\"M0 0h24v24H0V0z\" fill=\"none\"/>\n",
              "    <path d=\"M18.56 5.44l.94 2.06.94-2.06 2.06-.94-2.06-.94-.94-2.06-.94 2.06-2.06.94zm-11 1L8.5 8.5l.94-2.06 2.06-.94-2.06-.94L8.5 2.5l-.94 2.06-2.06.94zm10 10l.94 2.06.94-2.06 2.06-.94-2.06-.94-.94-2.06-.94 2.06-2.06.94z\"/><path d=\"M17.41 7.96l-1.37-1.37c-.4-.4-.92-.59-1.43-.59-.52 0-1.04.2-1.43.59L10.3 9.45l-7.72 7.72c-.78.78-.78 2.05 0 2.83L4 21.41c.39.39.9.59 1.41.59.51 0 1.02-.2 1.41-.59l7.78-7.78 2.81-2.81c.8-.78.8-2.07 0-2.86zM5.41 20L4 18.59l7.72-7.72 1.47 1.35L5.41 20z\"/>\n",
              "  </svg>\n",
              "      </button>\n",
              "      \n",
              "  <style>\n",
              "    .colab-df-container {\n",
              "      display:flex;\n",
              "      flex-wrap:wrap;\n",
              "      gap: 12px;\n",
              "    }\n",
              "\n",
              "    .colab-df-convert {\n",
              "      background-color: #E8F0FE;\n",
              "      border: none;\n",
              "      border-radius: 50%;\n",
              "      cursor: pointer;\n",
              "      display: none;\n",
              "      fill: #1967D2;\n",
              "      height: 32px;\n",
              "      padding: 0 0 0 0;\n",
              "      width: 32px;\n",
              "    }\n",
              "\n",
              "    .colab-df-convert:hover {\n",
              "      background-color: #E2EBFA;\n",
              "      box-shadow: 0px 1px 2px rgba(60, 64, 67, 0.3), 0px 1px 3px 1px rgba(60, 64, 67, 0.15);\n",
              "      fill: #174EA6;\n",
              "    }\n",
              "\n",
              "    [theme=dark] .colab-df-convert {\n",
              "      background-color: #3B4455;\n",
              "      fill: #D2E3FC;\n",
              "    }\n",
              "\n",
              "    [theme=dark] .colab-df-convert:hover {\n",
              "      background-color: #434B5C;\n",
              "      box-shadow: 0px 1px 3px 1px rgba(0, 0, 0, 0.15);\n",
              "      filter: drop-shadow(0px 1px 2px rgba(0, 0, 0, 0.3));\n",
              "      fill: #FFFFFF;\n",
              "    }\n",
              "  </style>\n",
              "\n",
              "      <script>\n",
              "        const buttonEl =\n",
              "          document.querySelector('#df-83225e9e-a7a1-4301-8b22-522802f8e7e9 button.colab-df-convert');\n",
              "        buttonEl.style.display =\n",
              "          google.colab.kernel.accessAllowed ? 'block' : 'none';\n",
              "\n",
              "        async function convertToInteractive(key) {\n",
              "          const element = document.querySelector('#df-83225e9e-a7a1-4301-8b22-522802f8e7e9');\n",
              "          const dataTable =\n",
              "            await google.colab.kernel.invokeFunction('convertToInteractive',\n",
              "                                                     [key], {});\n",
              "          if (!dataTable) return;\n",
              "\n",
              "          const docLinkHtml = 'Like what you see? Visit the ' +\n",
              "            '<a target=\"_blank\" href=https://colab.research.google.com/notebooks/data_table.ipynb>data table notebook</a>'\n",
              "            + ' to learn more about interactive tables.';\n",
              "          element.innerHTML = '';\n",
              "          dataTable['output_type'] = 'display_data';\n",
              "          await google.colab.output.renderOutput(dataTable, element);\n",
              "          const docLink = document.createElement('div');\n",
              "          docLink.innerHTML = docLinkHtml;\n",
              "          element.appendChild(docLink);\n",
              "        }\n",
              "      </script>\n",
              "    </div>\n",
              "  </div>\n",
              "  "
            ]
          },
          "metadata": {},
          "execution_count": 85
        }
      ]
    },
    {
      "cell_type": "markdown",
      "source": [
        "##Test"
      ],
      "metadata": {
        "id": "Ftj3ntU27WXP"
      }
    },
    {
      "cell_type": "code",
      "execution_count": null,
      "metadata": {
        "id": "qUsIaiYr7fKU"
      },
      "outputs": [],
      "source": [
        "data_test['rev_list'] = list(map(lambda sentences:\n",
        "                                         list(map(nltk.word_tokenize, sentences)),\n",
        "                                         data_test.rev_list))  # tokenize sentences"
      ]
    },
    {
      "cell_type": "code",
      "source": [
        "# memberi nomor index\n",
        "index_kosong = []\n",
        "for i in range(len(data_test.rev_list)):\n",
        "  if len(data_test.rev_list.iloc[i]) == 0:\n",
        "    index_kosong.append(i)"
      ],
      "metadata": {
        "id": "d531_69Ogp7o"
      },
      "execution_count": null,
      "outputs": []
    },
    {
      "cell_type": "code",
      "source": [
        "# drop index yang masih kosong \n",
        "data_test = data_test.drop(data_test.index[index_kosong])"
      ],
      "metadata": {
        "id": "dzfgVsTcdOOM"
      },
      "execution_count": null,
      "outputs": []
    },
    {
      "cell_type": "code",
      "execution_count": null,
      "metadata": {
        "id": "WajX0mT67fKV"
      },
      "outputs": [],
      "source": [
        "data_test['w2v_features_skip'] = list(map(lambda sen_group:\n",
        "                                      get_w2v_features(modelskip, sen_group),\n",
        "                                      data_test.rev_list))"
      ]
    },
    {
      "cell_type": "code",
      "execution_count": null,
      "metadata": {
        "id": "moiws9P17fKV",
        "colab": {
          "base_uri": "https://localhost:8080/"
        },
        "outputId": "40805e08-8f49-4b87-b847-dd077395c5eb"
      },
      "outputs": [
        {
          "output_type": "stream",
          "name": "stdout",
          "text": [
            "(7048, 300)\n"
          ]
        }
      ],
      "source": [
        "feature = [x for x in data_test['w2v_features_skip'].transpose()]\n",
        "word2vec_with_stop_features_test = np.asarray(feature)\n",
        "\n",
        "print(word2vec_with_stop_features_test.shape)"
      ]
    },
    {
      "cell_type": "code",
      "source": [
        "X_test = word2vec_with_stop_features_test"
      ],
      "metadata": {
        "id": "84_h3JKT7fKW"
      },
      "execution_count": null,
      "outputs": []
    },
    {
      "cell_type": "code",
      "source": [
        "data_test"
      ],
      "metadata": {
        "id": "aaUzjLH4dWe3",
        "colab": {
          "base_uri": "https://localhost:8080/",
          "height": 641
        },
        "outputId": "f2b18a90-b373-49ae-f539-5d21d5543ec7"
      },
      "execution_count": null,
      "outputs": [
        {
          "output_type": "execute_result",
          "data": {
            "text/plain": [
              "       review_type                                     review_content  \\\n",
              "9658             0                widows is an instant crime classic.   \n",
              "9946             0  if the next bad boys flicks can be as smart, f...   \n",
              "17212            1                                    poor amy adams.   \n",
              "8886             0         i found it really campy and silly and fun.   \n",
              "18356            1  it mostly juggles its inspirations instead, an...   \n",
              "...            ...                                                ...   \n",
              "15026            1  throughout his career as an actor, elvis presl...   \n",
              "4245             0  \"blue story\" is very much a blast of something...   \n",
              "2310             0  beautifully storyboarded, each frame looks lik...   \n",
              "16596            1  even by the relatively low bar of the previous...   \n",
              "7567             0  it's an enjoyable movie full of explosive acti...   \n",
              "\n",
              "                                                rev_list  \\\n",
              "9658            [[widow], [instant], [crime], [classic]]   \n",
              "9946   [[bad], [boy], [flick], [smart], [funni], [emo...   \n",
              "17212                            [[poor], [ami], [adam]]   \n",
              "8886                           [[campi], [silli], [fun]]   \n",
              "18356  [[juggl], [inspir], [central], [conceit], [tra...   \n",
              "...                                                  ...   \n",
              "15026  [[career], [actor], [elvi], [presley], [involv...   \n",
              "4245   [[blue], [stori], [blast], [tens], [rapman], [...   \n",
              "2310   [[beauti], [storyboard], [frame], [illustr], [...   \n",
              "16596  [[low], [bar], [previou], [film], [fall], [sho...   \n",
              "7567   [[enjoy], [movi], [explos], [action], [excel],...   \n",
              "\n",
              "                                             rev_kalimat  \\\n",
              "9658                         widow instant crime classic   \n",
              "9946      bad boy flick smart funni emot happi wait year   \n",
              "17212                                      poor ami adam   \n",
              "8886                                     campi silli fun   \n",
              "18356  juggl inspir central conceit trashili fun comp...   \n",
              "...                                                  ...   \n",
              "15026  career actor elvi presley involv cinemat atroc...   \n",
              "4245   blue stori blast tens rapman scene boil life c...   \n",
              "2310   beauti storyboard frame illustr written childr...   \n",
              "16596  low bar previou film fall short guess book cas...   \n",
              "7567   enjoy movi explos action excel entri charact i...   \n",
              "\n",
              "                                       w2v_features_skip  \n",
              "9658   [-0.02011139, 0.16980423, -0.21588689, -0.0757...  \n",
              "9946   [-0.032406345, 0.024870163, -0.10458815, 0.045...  \n",
              "17212  [0.1377494, -0.0791139, -0.13724047, -0.135527...  \n",
              "8886   [-0.2516516, 0.27788475, -0.2466187, 0.2294941...  \n",
              "18356  [-0.11715224, -0.052920707, -0.124827966, 0.07...  \n",
              "...                                                  ...  \n",
              "15026  [-0.043926843, -0.042537432, -0.060564943, -0....  \n",
              "4245   [-0.0048245043, -0.021238593, -0.19684377, -0....  \n",
              "2310   [0.037959952, -0.06477052, 0.11009729, -0.1421...  \n",
              "16596  [-0.076478794, 0.0073017827, -0.14866151, -0.0...  \n",
              "7567   [0.05154263, 0.0034666352, -0.18847679, -0.026...  \n",
              "\n",
              "[7048 rows x 5 columns]"
            ],
            "text/html": [
              "\n",
              "  <div id=\"df-8926884e-104b-4570-be23-693aa1b54faa\">\n",
              "    <div class=\"colab-df-container\">\n",
              "      <div>\n",
              "<style scoped>\n",
              "    .dataframe tbody tr th:only-of-type {\n",
              "        vertical-align: middle;\n",
              "    }\n",
              "\n",
              "    .dataframe tbody tr th {\n",
              "        vertical-align: top;\n",
              "    }\n",
              "\n",
              "    .dataframe thead th {\n",
              "        text-align: right;\n",
              "    }\n",
              "</style>\n",
              "<table border=\"1\" class=\"dataframe\">\n",
              "  <thead>\n",
              "    <tr style=\"text-align: right;\">\n",
              "      <th></th>\n",
              "      <th>review_type</th>\n",
              "      <th>review_content</th>\n",
              "      <th>rev_list</th>\n",
              "      <th>rev_kalimat</th>\n",
              "      <th>w2v_features_skip</th>\n",
              "    </tr>\n",
              "  </thead>\n",
              "  <tbody>\n",
              "    <tr>\n",
              "      <th>9658</th>\n",
              "      <td>0</td>\n",
              "      <td>widows is an instant crime classic.</td>\n",
              "      <td>[[widow], [instant], [crime], [classic]]</td>\n",
              "      <td>widow instant crime classic</td>\n",
              "      <td>[-0.02011139, 0.16980423, -0.21588689, -0.0757...</td>\n",
              "    </tr>\n",
              "    <tr>\n",
              "      <th>9946</th>\n",
              "      <td>0</td>\n",
              "      <td>if the next bad boys flicks can be as smart, f...</td>\n",
              "      <td>[[bad], [boy], [flick], [smart], [funni], [emo...</td>\n",
              "      <td>bad boy flick smart funni emot happi wait year</td>\n",
              "      <td>[-0.032406345, 0.024870163, -0.10458815, 0.045...</td>\n",
              "    </tr>\n",
              "    <tr>\n",
              "      <th>17212</th>\n",
              "      <td>1</td>\n",
              "      <td>poor amy adams.</td>\n",
              "      <td>[[poor], [ami], [adam]]</td>\n",
              "      <td>poor ami adam</td>\n",
              "      <td>[0.1377494, -0.0791139, -0.13724047, -0.135527...</td>\n",
              "    </tr>\n",
              "    <tr>\n",
              "      <th>8886</th>\n",
              "      <td>0</td>\n",
              "      <td>i found it really campy and silly and fun.</td>\n",
              "      <td>[[campi], [silli], [fun]]</td>\n",
              "      <td>campi silli fun</td>\n",
              "      <td>[-0.2516516, 0.27788475, -0.2466187, 0.2294941...</td>\n",
              "    </tr>\n",
              "    <tr>\n",
              "      <th>18356</th>\n",
              "      <td>1</td>\n",
              "      <td>it mostly juggles its inspirations instead, an...</td>\n",
              "      <td>[[juggl], [inspir], [central], [conceit], [tra...</td>\n",
              "      <td>juggl inspir central conceit trashili fun comp...</td>\n",
              "      <td>[-0.11715224, -0.052920707, -0.124827966, 0.07...</td>\n",
              "    </tr>\n",
              "    <tr>\n",
              "      <th>...</th>\n",
              "      <td>...</td>\n",
              "      <td>...</td>\n",
              "      <td>...</td>\n",
              "      <td>...</td>\n",
              "      <td>...</td>\n",
              "    </tr>\n",
              "    <tr>\n",
              "      <th>15026</th>\n",
              "      <td>1</td>\n",
              "      <td>throughout his career as an actor, elvis presl...</td>\n",
              "      <td>[[career], [actor], [elvi], [presley], [involv...</td>\n",
              "      <td>career actor elvi presley involv cinemat atroc...</td>\n",
              "      <td>[-0.043926843, -0.042537432, -0.060564943, -0....</td>\n",
              "    </tr>\n",
              "    <tr>\n",
              "      <th>4245</th>\n",
              "      <td>0</td>\n",
              "      <td>\"blue story\" is very much a blast of something...</td>\n",
              "      <td>[[blue], [stori], [blast], [tens], [rapman], [...</td>\n",
              "      <td>blue stori blast tens rapman scene boil life c...</td>\n",
              "      <td>[-0.0048245043, -0.021238593, -0.19684377, -0....</td>\n",
              "    </tr>\n",
              "    <tr>\n",
              "      <th>2310</th>\n",
              "      <td>0</td>\n",
              "      <td>beautifully storyboarded, each frame looks lik...</td>\n",
              "      <td>[[beauti], [storyboard], [frame], [illustr], [...</td>\n",
              "      <td>beauti storyboard frame illustr written childr...</td>\n",
              "      <td>[0.037959952, -0.06477052, 0.11009729, -0.1421...</td>\n",
              "    </tr>\n",
              "    <tr>\n",
              "      <th>16596</th>\n",
              "      <td>1</td>\n",
              "      <td>even by the relatively low bar of the previous...</td>\n",
              "      <td>[[low], [bar], [previou], [film], [fall], [sho...</td>\n",
              "      <td>low bar previou film fall short guess book cas...</td>\n",
              "      <td>[-0.076478794, 0.0073017827, -0.14866151, -0.0...</td>\n",
              "    </tr>\n",
              "    <tr>\n",
              "      <th>7567</th>\n",
              "      <td>0</td>\n",
              "      <td>it's an enjoyable movie full of explosive acti...</td>\n",
              "      <td>[[enjoy], [movi], [explos], [action], [excel],...</td>\n",
              "      <td>enjoy movi explos action excel entri charact i...</td>\n",
              "      <td>[0.05154263, 0.0034666352, -0.18847679, -0.026...</td>\n",
              "    </tr>\n",
              "  </tbody>\n",
              "</table>\n",
              "<p>7048 rows × 5 columns</p>\n",
              "</div>\n",
              "      <button class=\"colab-df-convert\" onclick=\"convertToInteractive('df-8926884e-104b-4570-be23-693aa1b54faa')\"\n",
              "              title=\"Convert this dataframe to an interactive table.\"\n",
              "              style=\"display:none;\">\n",
              "        \n",
              "  <svg xmlns=\"http://www.w3.org/2000/svg\" height=\"24px\"viewBox=\"0 0 24 24\"\n",
              "       width=\"24px\">\n",
              "    <path d=\"M0 0h24v24H0V0z\" fill=\"none\"/>\n",
              "    <path d=\"M18.56 5.44l.94 2.06.94-2.06 2.06-.94-2.06-.94-.94-2.06-.94 2.06-2.06.94zm-11 1L8.5 8.5l.94-2.06 2.06-.94-2.06-.94L8.5 2.5l-.94 2.06-2.06.94zm10 10l.94 2.06.94-2.06 2.06-.94-2.06-.94-.94-2.06-.94 2.06-2.06.94z\"/><path d=\"M17.41 7.96l-1.37-1.37c-.4-.4-.92-.59-1.43-.59-.52 0-1.04.2-1.43.59L10.3 9.45l-7.72 7.72c-.78.78-.78 2.05 0 2.83L4 21.41c.39.39.9.59 1.41.59.51 0 1.02-.2 1.41-.59l7.78-7.78 2.81-2.81c.8-.78.8-2.07 0-2.86zM5.41 20L4 18.59l7.72-7.72 1.47 1.35L5.41 20z\"/>\n",
              "  </svg>\n",
              "      </button>\n",
              "      \n",
              "  <style>\n",
              "    .colab-df-container {\n",
              "      display:flex;\n",
              "      flex-wrap:wrap;\n",
              "      gap: 12px;\n",
              "    }\n",
              "\n",
              "    .colab-df-convert {\n",
              "      background-color: #E8F0FE;\n",
              "      border: none;\n",
              "      border-radius: 50%;\n",
              "      cursor: pointer;\n",
              "      display: none;\n",
              "      fill: #1967D2;\n",
              "      height: 32px;\n",
              "      padding: 0 0 0 0;\n",
              "      width: 32px;\n",
              "    }\n",
              "\n",
              "    .colab-df-convert:hover {\n",
              "      background-color: #E2EBFA;\n",
              "      box-shadow: 0px 1px 2px rgba(60, 64, 67, 0.3), 0px 1px 3px 1px rgba(60, 64, 67, 0.15);\n",
              "      fill: #174EA6;\n",
              "    }\n",
              "\n",
              "    [theme=dark] .colab-df-convert {\n",
              "      background-color: #3B4455;\n",
              "      fill: #D2E3FC;\n",
              "    }\n",
              "\n",
              "    [theme=dark] .colab-df-convert:hover {\n",
              "      background-color: #434B5C;\n",
              "      box-shadow: 0px 1px 3px 1px rgba(0, 0, 0, 0.15);\n",
              "      filter: drop-shadow(0px 1px 2px rgba(0, 0, 0, 0.3));\n",
              "      fill: #FFFFFF;\n",
              "    }\n",
              "  </style>\n",
              "\n",
              "      <script>\n",
              "        const buttonEl =\n",
              "          document.querySelector('#df-8926884e-104b-4570-be23-693aa1b54faa button.colab-df-convert');\n",
              "        buttonEl.style.display =\n",
              "          google.colab.kernel.accessAllowed ? 'block' : 'none';\n",
              "\n",
              "        async function convertToInteractive(key) {\n",
              "          const element = document.querySelector('#df-8926884e-104b-4570-be23-693aa1b54faa');\n",
              "          const dataTable =\n",
              "            await google.colab.kernel.invokeFunction('convertToInteractive',\n",
              "                                                     [key], {});\n",
              "          if (!dataTable) return;\n",
              "\n",
              "          const docLinkHtml = 'Like what you see? Visit the ' +\n",
              "            '<a target=\"_blank\" href=https://colab.research.google.com/notebooks/data_table.ipynb>data table notebook</a>'\n",
              "            + ' to learn more about interactive tables.';\n",
              "          element.innerHTML = '';\n",
              "          dataTable['output_type'] = 'display_data';\n",
              "          await google.colab.output.renderOutput(dataTable, element);\n",
              "          const docLink = document.createElement('div');\n",
              "          docLink.innerHTML = docLinkHtml;\n",
              "          element.appendChild(docLink);\n",
              "        }\n",
              "      </script>\n",
              "    </div>\n",
              "  </div>\n",
              "  "
            ]
          },
          "metadata": {},
          "execution_count": 92
        }
      ]
    },
    {
      "cell_type": "markdown",
      "metadata": {
        "id": "Dhd23xh5qzX8"
      },
      "source": [
        "#NB"
      ]
    },
    {
      "cell_type": "markdown",
      "metadata": {
        "id": "xT4lfVPksQ11"
      },
      "source": [
        "##Gaussian"
      ]
    },
    {
      "cell_type": "code",
      "source": [
        "y_train = data_train['review_type']\n",
        "y_test = data_test['review_type']"
      ],
      "metadata": {
        "id": "tWJSF57smc18"
      },
      "execution_count": null,
      "outputs": []
    },
    {
      "cell_type": "code",
      "execution_count": null,
      "metadata": {
        "id": "S3PNA5F7q1rx",
        "colab": {
          "base_uri": "https://localhost:8080/"
        },
        "outputId": "c66ec762-c21b-4213-fcc7-cf7e888e987b"
      },
      "outputs": [
        {
          "output_type": "execute_result",
          "data": {
            "text/plain": [
              "array([0, 1, 1, ..., 0, 0, 0])"
            ]
          },
          "metadata": {},
          "execution_count": 94
        }
      ],
      "source": [
        "model = GaussianNB()\n",
        "model.fit(X_train, y_train)\n",
        "pred = model.predict(X_train) #prediksi train\n",
        "Y_pred = model.predict(X_test) #prediksi test\n",
        "Y_pred\n"
      ]
    },
    {
      "cell_type": "markdown",
      "metadata": {
        "id": "U4yQSLWWsTOz"
      },
      "source": [
        "### Evaluation"
      ]
    },
    {
      "cell_type": "code",
      "execution_count": null,
      "metadata": {
        "id": "vUEXDbwEsVoG",
        "colab": {
          "base_uri": "https://localhost:8080/"
        },
        "outputId": "b59b8b50-32dc-471c-8311-2f77c6edac84"
      },
      "outputs": [
        {
          "output_type": "stream",
          "name": "stdout",
          "text": [
            "Accuracy: 60.30079455164585 %\n",
            "Precision:  64.22126324048646 %\n",
            "Recall:  46.466080045415836 %\n",
            "F1 Score:  53.91963109354414 %\n"
          ]
        }
      ],
      "source": [
        "print(\"Accuracy:\", accuracy_score(y_test, Y_pred)*100, \"%\")\n",
        "print(\"Precision: \", precision_score(y_test, Y_pred)*100, \"%\")\n",
        "print(\"Recall: \", recall_score(y_test, Y_pred)*100, \"%\")\n",
        "print(\"F1 Score: \", f1_score(y_test, Y_pred)*100, \"%\")"
      ]
    },
    {
      "cell_type": "code",
      "source": [
        "print(\"Confusion Matrix\")\n",
        "print(confusion_matrix(y_test, Y_pred))\n",
        "tn, fp, fn, tp = confusion_matrix(y_test, Y_pred).ravel()\n",
        "print('TN: ', tn)\n",
        "print('FP: ', fp)\n",
        "print('FN: ', fn)\n",
        "print('TP: ', tp)"
      ],
      "metadata": {
        "id": "MG3dtJb8NU1h",
        "colab": {
          "base_uri": "https://localhost:8080/"
        },
        "outputId": "a8392ed2-259a-48e6-9b20-2f1c1c54bf06"
      },
      "execution_count": null,
      "outputs": [
        {
          "output_type": "stream",
          "name": "stdout",
          "text": [
            "Confusion Matrix\n",
            "[[2613  912]\n",
            " [1886 1637]]\n",
            "TN:  2613\n",
            "FP:  912\n",
            "FN:  1886\n",
            "TP:  1637\n"
          ]
        }
      ]
    },
    {
      "cell_type": "code",
      "source": [
        "print(\"Classification report\")\n",
        "print(classification_report(y_test, Y_pred))"
      ],
      "metadata": {
        "id": "XVtLHEeuKzQk",
        "colab": {
          "base_uri": "https://localhost:8080/"
        },
        "outputId": "a431e0d7-9d77-42a6-b354-c75e0e46b260"
      },
      "execution_count": null,
      "outputs": [
        {
          "output_type": "stream",
          "name": "stdout",
          "text": [
            "Classification report\n",
            "              precision    recall  f1-score   support\n",
            "\n",
            "           0       0.58      0.74      0.65      3525\n",
            "           1       0.64      0.46      0.54      3523\n",
            "\n",
            "    accuracy                           0.60      7048\n",
            "   macro avg       0.61      0.60      0.60      7048\n",
            "weighted avg       0.61      0.60      0.60      7048\n",
            "\n"
          ]
        }
      ]
    },
    {
      "cell_type": "markdown",
      "source": [
        "### Export data"
      ],
      "metadata": {
        "id": "ibaBS3cvO8-7"
      }
    },
    {
      "cell_type": "code",
      "source": [
        "data_train_gaus = data_train.assign(sentiment_pred = pred)"
      ],
      "metadata": {
        "id": "vUU78N7LO8-8"
      },
      "execution_count": null,
      "outputs": []
    },
    {
      "cell_type": "code",
      "source": [
        "data_train_gaus.to_csv('drive/My Drive/TUGAS AKHIR/DATASET_2/Final Dataset/data_train_gaussian_300_pred.csv')"
      ],
      "metadata": {
        "id": "1Y1XPGhNO8-8"
      },
      "execution_count": null,
      "outputs": []
    },
    {
      "cell_type": "code",
      "source": [
        "data_test_gaus = data_test.assign(sentiment_pred = Y_pred)"
      ],
      "metadata": {
        "id": "B0vQfHNzO8-8"
      },
      "execution_count": null,
      "outputs": []
    },
    {
      "cell_type": "code",
      "source": [
        "data_test_gaus.to_csv('drive/My Drive/TUGAS AKHIR/DATASET_2/Final Dataset/data_test_gaussian_300_pred.csv')"
      ],
      "metadata": {
        "id": "0q32dwIKO8-8"
      },
      "execution_count": null,
      "outputs": []
    },
    {
      "cell_type": "markdown",
      "metadata": {
        "id": "VT7AXHIkshTK"
      },
      "source": [
        "##Multinomial"
      ]
    },
    {
      "cell_type": "code",
      "execution_count": null,
      "metadata": {
        "id": "p7vkTK4_ttKq"
      },
      "outputs": [],
      "source": [
        "from sklearn.preprocessing import MinMaxScaler\n",
        "\n",
        "scaler = MinMaxScaler()\n",
        "X_train_multinomial = scaler.fit_transform(X_train)\n",
        "X_test_multinomial = scaler.fit_transform(X_test)"
      ]
    },
    {
      "cell_type": "code",
      "execution_count": null,
      "metadata": {
        "id": "l_BE9qlQshTL",
        "colab": {
          "base_uri": "https://localhost:8080/"
        },
        "outputId": "37e9a904-b816-4a69-b991-9d48326cfe4f"
      },
      "outputs": [
        {
          "output_type": "execute_result",
          "data": {
            "text/plain": [
              "array([0, 1, 1, ..., 0, 1, 0])"
            ]
          },
          "metadata": {},
          "execution_count": 101
        }
      ],
      "source": [
        "model_multinomial = MultinomialNB()\n",
        "model_multinomial.fit(X_train_multinomial, y_train)\n",
        "pred_multinomial = model_multinomial.predict(X_train_multinomial) #prediksi train\n",
        "Y_pred_multinomial = model_multinomial.predict(X_test_multinomial) #prediksi test\n",
        "Y_pred_multinomial"
      ]
    },
    {
      "cell_type": "markdown",
      "metadata": {
        "id": "FIn0L7mMshTL"
      },
      "source": [
        "### Evaluation"
      ]
    },
    {
      "cell_type": "code",
      "execution_count": null,
      "metadata": {
        "id": "w7Pu0cBZP8Ia",
        "colab": {
          "base_uri": "https://localhost:8080/"
        },
        "outputId": "678c0b35-f606-47c5-9610-52dfcc604ff9"
      },
      "outputs": [
        {
          "output_type": "stream",
          "name": "stdout",
          "text": [
            "Accuracy: 64.48637911464246 %\n",
            "Precision:  75.57673019057172 %\n",
            "Recall:  42.776043145046835 %\n",
            "F1 Score:  54.63114011237992 %\n"
          ]
        }
      ],
      "source": [
        "print(\"Accuracy:\", accuracy_score(y_test, Y_pred_multinomial)*100, \"%\")\n",
        "print(\"Precision: \", precision_score(y_test, Y_pred_multinomial)*100, \"%\")\n",
        "print(\"Recall: \", recall_score(y_test, Y_pred_multinomial)*100, \"%\")\n",
        "print(\"F1 Score: \", f1_score(y_test, Y_pred_multinomial)*100, \"%\")"
      ]
    },
    {
      "cell_type": "code",
      "source": [
        "print(\"Confusion Matrix\")\n",
        "print(confusion_matrix(y_test, Y_pred_multinomial))\n",
        "tn, fp, fn, tp = confusion_matrix(y_test, Y_pred_multinomial).ravel()\n",
        "print('TN: ', tn)\n",
        "print('FP: ', fp)\n",
        "print('FN: ', fn)\n",
        "print('TP: ', tp)"
      ],
      "metadata": {
        "id": "6_IXt28_P8Ib",
        "colab": {
          "base_uri": "https://localhost:8080/"
        },
        "outputId": "dd13bb7a-4e0f-4b20-c1b0-84e782c44707"
      },
      "execution_count": null,
      "outputs": [
        {
          "output_type": "stream",
          "name": "stdout",
          "text": [
            "Confusion Matrix\n",
            "[[3038  487]\n",
            " [2016 1507]]\n",
            "TN:  3038\n",
            "FP:  487\n",
            "FN:  2016\n",
            "TP:  1507\n"
          ]
        }
      ]
    },
    {
      "cell_type": "code",
      "source": [
        "print(\"Classification report\")\n",
        "print(classification_report(y_test, Y_pred_multinomial))"
      ],
      "metadata": {
        "id": "FPi_pVijP8Ib",
        "colab": {
          "base_uri": "https://localhost:8080/"
        },
        "outputId": "53fa562a-ecde-4a1c-d802-dc552a33250a"
      },
      "execution_count": null,
      "outputs": [
        {
          "output_type": "stream",
          "name": "stdout",
          "text": [
            "Classification report\n",
            "              precision    recall  f1-score   support\n",
            "\n",
            "           0       0.60      0.86      0.71      3525\n",
            "           1       0.76      0.43      0.55      3523\n",
            "\n",
            "    accuracy                           0.64      7048\n",
            "   macro avg       0.68      0.64      0.63      7048\n",
            "weighted avg       0.68      0.64      0.63      7048\n",
            "\n"
          ]
        }
      ]
    },
    {
      "cell_type": "markdown",
      "source": [
        "### Export data"
      ],
      "metadata": {
        "id": "eY6uSPtQVrny"
      }
    },
    {
      "cell_type": "code",
      "source": [
        "data_train_multi = data_train.assign(sentiment_pred = pred_multinomial)"
      ],
      "metadata": {
        "id": "rxeji0PBYEYh"
      },
      "execution_count": null,
      "outputs": []
    },
    {
      "cell_type": "code",
      "source": [
        "data_train_multi.to_csv('drive/My Drive/TUGAS AKHIR/DATASET_2/Final Dataset/data_train_multinomial_300_pred.csv')"
      ],
      "metadata": {
        "id": "Hb3BNJQEYEYi"
      },
      "execution_count": null,
      "outputs": []
    },
    {
      "cell_type": "code",
      "source": [
        "data_test_multi = data_test.assign(sentiment_pred = Y_pred_multinomial)"
      ],
      "metadata": {
        "id": "LqqCB6TbYEYi"
      },
      "execution_count": null,
      "outputs": []
    },
    {
      "cell_type": "code",
      "source": [
        "data_test_multi.to_csv('drive/My Drive/TUGAS AKHIR/DATASET_2/Final Dataset/data_test_multinomial_300_pred.csv')"
      ],
      "metadata": {
        "id": "d5RZAg-xYEYi"
      },
      "execution_count": null,
      "outputs": []
    },
    {
      "cell_type": "markdown",
      "source": [
        "#Dimensi 100"
      ],
      "metadata": {
        "id": "caZyPvJkSGBZ"
      }
    },
    {
      "cell_type": "code",
      "source": [
        "data_train2 = pd.read_csv('drive/My Drive/TUGAS AKHIR/DATASET_2/Final Dataset/data_train.csv')\n",
        "data_train2.head()"
      ],
      "metadata": {
        "id": "65_46-p7SKeK",
        "colab": {
          "base_uri": "https://localhost:8080/",
          "height": 641
        },
        "outputId": "ee8d0965-7a7c-40d8-a87d-7ed8031d1d1c"
      },
      "execution_count": null,
      "outputs": [
        {
          "output_type": "execute_result",
          "data": {
            "text/plain": [
              "       review_type                                     review_content  \\\n",
              "21091            1  the biggest problem is the jumbled and hackney...   \n",
              "18183            1  the film tries to cover the logic gaps with co...   \n",
              "3795             0  this is a sublime romantic comedy that spins o...   \n",
              "22590            1  unfortunately, it all builds to a last reel th...   \n",
              "1280             0  sombre and sensitive, hittman's film offers a ...   \n",
              "...            ...                                                ...   \n",
              "11964            1     ...an absolutely interminable piece of work...   \n",
              "21577            1  with a promising title taken from edgar allan ...   \n",
              "5390             0  amusing and unusual film about the bond betwee...   \n",
              "860              0  uncut gems is driven by a solid performance by...   \n",
              "15795            1  wwii haunted house story has violence, gore, a...   \n",
              "\n",
              "                                                rev_list  \\\n",
              "21091  [biggest, problem, jumbl, hackney, screenplay,...   \n",
              "18183  [film, cover, logic, gap, comedi, joke, bad, w...   \n",
              "3795   [sublim, romant, comedi, spin, wilder, favouri...   \n",
              "22590  [build, reel, rail, strenuou, bit, action, fli...   \n",
              "1280   [sombr, sensit, hittman, film, offer, sear, ou...   \n",
              "...                                                  ...   \n",
              "11964                    [absolut, intermin, piec, work]   \n",
              "21577  [promis, titl, edgar, allan, poe, poem, haunt,...   \n",
              "5390            [amus, unusu, film, bond, titl, charact]   \n",
              "860    [uncut, gem, driven, solid, perform, adam, san...   \n",
              "15795   [wwii, haunt, hous, stori, violenc, gore, swear]   \n",
              "\n",
              "                                             rev_kalimat  \n",
              "21091  biggest problem jumbl hackney screenplay regar...  \n",
              "18183  film cover logic gap comedi joke bad worsen ex...  \n",
              "3795   sublim romant comedi spin wilder favourit them...  \n",
              "22590  build reel rail strenuou bit action flick sill...  \n",
              "1280   sombr sensit hittman film offer sear outrag in...  \n",
              "...                                                  ...  \n",
              "11964                         absolut intermin piec work  \n",
              "21577  promis titl edgar allan poe poem haunt palac m...  \n",
              "5390                   amus unusu film bond titl charact  \n",
              "860    uncut gem driven solid perform adam sandler en...  \n",
              "15795           wwii haunt hous stori violenc gore swear  \n",
              "\n",
              "[16457 rows x 4 columns]"
            ],
            "text/html": [
              "\n",
              "  <div id=\"df-4818981e-6ddc-4487-8822-baa6c059d2ed\">\n",
              "    <div class=\"colab-df-container\">\n",
              "      <div>\n",
              "<style scoped>\n",
              "    .dataframe tbody tr th:only-of-type {\n",
              "        vertical-align: middle;\n",
              "    }\n",
              "\n",
              "    .dataframe tbody tr th {\n",
              "        vertical-align: top;\n",
              "    }\n",
              "\n",
              "    .dataframe thead th {\n",
              "        text-align: right;\n",
              "    }\n",
              "</style>\n",
              "<table border=\"1\" class=\"dataframe\">\n",
              "  <thead>\n",
              "    <tr style=\"text-align: right;\">\n",
              "      <th></th>\n",
              "      <th>review_type</th>\n",
              "      <th>review_content</th>\n",
              "      <th>rev_list</th>\n",
              "      <th>rev_kalimat</th>\n",
              "    </tr>\n",
              "  </thead>\n",
              "  <tbody>\n",
              "    <tr>\n",
              "      <th>21091</th>\n",
              "      <td>1</td>\n",
              "      <td>the biggest problem is the jumbled and hackney...</td>\n",
              "      <td>[biggest, problem, jumbl, hackney, screenplay,...</td>\n",
              "      <td>biggest problem jumbl hackney screenplay regar...</td>\n",
              "    </tr>\n",
              "    <tr>\n",
              "      <th>18183</th>\n",
              "      <td>1</td>\n",
              "      <td>the film tries to cover the logic gaps with co...</td>\n",
              "      <td>[film, cover, logic, gap, comedi, joke, bad, w...</td>\n",
              "      <td>film cover logic gap comedi joke bad worsen ex...</td>\n",
              "    </tr>\n",
              "    <tr>\n",
              "      <th>3795</th>\n",
              "      <td>0</td>\n",
              "      <td>this is a sublime romantic comedy that spins o...</td>\n",
              "      <td>[sublim, romant, comedi, spin, wilder, favouri...</td>\n",
              "      <td>sublim romant comedi spin wilder favourit them...</td>\n",
              "    </tr>\n",
              "    <tr>\n",
              "      <th>22590</th>\n",
              "      <td>1</td>\n",
              "      <td>unfortunately, it all builds to a last reel th...</td>\n",
              "      <td>[build, reel, rail, strenuou, bit, action, fli...</td>\n",
              "      <td>build reel rail strenuou bit action flick sill...</td>\n",
              "    </tr>\n",
              "    <tr>\n",
              "      <th>1280</th>\n",
              "      <td>0</td>\n",
              "      <td>sombre and sensitive, hittman's film offers a ...</td>\n",
              "      <td>[sombr, sensit, hittman, film, offer, sear, ou...</td>\n",
              "      <td>sombr sensit hittman film offer sear outrag in...</td>\n",
              "    </tr>\n",
              "    <tr>\n",
              "      <th>...</th>\n",
              "      <td>...</td>\n",
              "      <td>...</td>\n",
              "      <td>...</td>\n",
              "      <td>...</td>\n",
              "    </tr>\n",
              "    <tr>\n",
              "      <th>11964</th>\n",
              "      <td>1</td>\n",
              "      <td>...an absolutely interminable piece of work...</td>\n",
              "      <td>[absolut, intermin, piec, work]</td>\n",
              "      <td>absolut intermin piec work</td>\n",
              "    </tr>\n",
              "    <tr>\n",
              "      <th>21577</th>\n",
              "      <td>1</td>\n",
              "      <td>with a promising title taken from edgar allan ...</td>\n",
              "      <td>[promis, titl, edgar, allan, poe, poem, haunt,...</td>\n",
              "      <td>promis titl edgar allan poe poem haunt palac m...</td>\n",
              "    </tr>\n",
              "    <tr>\n",
              "      <th>5390</th>\n",
              "      <td>0</td>\n",
              "      <td>amusing and unusual film about the bond betwee...</td>\n",
              "      <td>[amus, unusu, film, bond, titl, charact]</td>\n",
              "      <td>amus unusu film bond titl charact</td>\n",
              "    </tr>\n",
              "    <tr>\n",
              "      <th>860</th>\n",
              "      <td>0</td>\n",
              "      <td>uncut gems is driven by a solid performance by...</td>\n",
              "      <td>[uncut, gem, driven, solid, perform, adam, san...</td>\n",
              "      <td>uncut gem driven solid perform adam sandler en...</td>\n",
              "    </tr>\n",
              "    <tr>\n",
              "      <th>15795</th>\n",
              "      <td>1</td>\n",
              "      <td>wwii haunted house story has violence, gore, a...</td>\n",
              "      <td>[wwii, haunt, hous, stori, violenc, gore, swear]</td>\n",
              "      <td>wwii haunt hous stori violenc gore swear</td>\n",
              "    </tr>\n",
              "  </tbody>\n",
              "</table>\n",
              "<p>16457 rows × 4 columns</p>\n",
              "</div>\n",
              "      <button class=\"colab-df-convert\" onclick=\"convertToInteractive('df-4818981e-6ddc-4487-8822-baa6c059d2ed')\"\n",
              "              title=\"Convert this dataframe to an interactive table.\"\n",
              "              style=\"display:none;\">\n",
              "        \n",
              "  <svg xmlns=\"http://www.w3.org/2000/svg\" height=\"24px\"viewBox=\"0 0 24 24\"\n",
              "       width=\"24px\">\n",
              "    <path d=\"M0 0h24v24H0V0z\" fill=\"none\"/>\n",
              "    <path d=\"M18.56 5.44l.94 2.06.94-2.06 2.06-.94-2.06-.94-.94-2.06-.94 2.06-2.06.94zm-11 1L8.5 8.5l.94-2.06 2.06-.94-2.06-.94L8.5 2.5l-.94 2.06-2.06.94zm10 10l.94 2.06.94-2.06 2.06-.94-2.06-.94-.94-2.06-.94 2.06-2.06.94z\"/><path d=\"M17.41 7.96l-1.37-1.37c-.4-.4-.92-.59-1.43-.59-.52 0-1.04.2-1.43.59L10.3 9.45l-7.72 7.72c-.78.78-.78 2.05 0 2.83L4 21.41c.39.39.9.59 1.41.59.51 0 1.02-.2 1.41-.59l7.78-7.78 2.81-2.81c.8-.78.8-2.07 0-2.86zM5.41 20L4 18.59l7.72-7.72 1.47 1.35L5.41 20z\"/>\n",
              "  </svg>\n",
              "      </button>\n",
              "      \n",
              "  <style>\n",
              "    .colab-df-container {\n",
              "      display:flex;\n",
              "      flex-wrap:wrap;\n",
              "      gap: 12px;\n",
              "    }\n",
              "\n",
              "    .colab-df-convert {\n",
              "      background-color: #E8F0FE;\n",
              "      border: none;\n",
              "      border-radius: 50%;\n",
              "      cursor: pointer;\n",
              "      display: none;\n",
              "      fill: #1967D2;\n",
              "      height: 32px;\n",
              "      padding: 0 0 0 0;\n",
              "      width: 32px;\n",
              "    }\n",
              "\n",
              "    .colab-df-convert:hover {\n",
              "      background-color: #E2EBFA;\n",
              "      box-shadow: 0px 1px 2px rgba(60, 64, 67, 0.3), 0px 1px 3px 1px rgba(60, 64, 67, 0.15);\n",
              "      fill: #174EA6;\n",
              "    }\n",
              "\n",
              "    [theme=dark] .colab-df-convert {\n",
              "      background-color: #3B4455;\n",
              "      fill: #D2E3FC;\n",
              "    }\n",
              "\n",
              "    [theme=dark] .colab-df-convert:hover {\n",
              "      background-color: #434B5C;\n",
              "      box-shadow: 0px 1px 3px 1px rgba(0, 0, 0, 0.15);\n",
              "      filter: drop-shadow(0px 1px 2px rgba(0, 0, 0, 0.3));\n",
              "      fill: #FFFFFF;\n",
              "    }\n",
              "  </style>\n",
              "\n",
              "      <script>\n",
              "        const buttonEl =\n",
              "          document.querySelector('#df-4818981e-6ddc-4487-8822-baa6c059d2ed button.colab-df-convert');\n",
              "        buttonEl.style.display =\n",
              "          google.colab.kernel.accessAllowed ? 'block' : 'none';\n",
              "\n",
              "        async function convertToInteractive(key) {\n",
              "          const element = document.querySelector('#df-4818981e-6ddc-4487-8822-baa6c059d2ed');\n",
              "          const dataTable =\n",
              "            await google.colab.kernel.invokeFunction('convertToInteractive',\n",
              "                                                     [key], {});\n",
              "          if (!dataTable) return;\n",
              "\n",
              "          const docLinkHtml = 'Like what you see? Visit the ' +\n",
              "            '<a target=\"_blank\" href=https://colab.research.google.com/notebooks/data_table.ipynb>data table notebook</a>'\n",
              "            + ' to learn more about interactive tables.';\n",
              "          element.innerHTML = '';\n",
              "          dataTable['output_type'] = 'display_data';\n",
              "          await google.colab.output.renderOutput(dataTable, element);\n",
              "          const docLink = document.createElement('div');\n",
              "          docLink.innerHTML = docLinkHtml;\n",
              "          element.appendChild(docLink);\n",
              "        }\n",
              "      </script>\n",
              "    </div>\n",
              "  </div>\n",
              "  "
            ]
          },
          "metadata": {},
          "execution_count": 105
        }
      ]
    },
    {
      "cell_type": "code",
      "source": [
        "print('Jumlah Data :', len(data_train2))\n",
        "print('Sentiment : ', data_train2.groupby(['review_type'])['review_type'].count())"
      ],
      "metadata": {
        "id": "Wm-jK2ZKSfTz",
        "colab": {
          "base_uri": "https://localhost:8080/"
        },
        "outputId": "83b68fb0-9b64-4455-b4d9-62d0cb4afe34"
      },
      "execution_count": null,
      "outputs": [
        {
          "output_type": "stream",
          "name": "stdout",
          "text": [
            "Jumlah Data : 16457\n",
            "Sentiment :  review_type\n",
            "0    8228\n",
            "1    8229\n",
            "Name: review_type, dtype: int64\n"
          ]
        }
      ]
    },
    {
      "cell_type": "code",
      "source": [
        "data_test2 = pd.read_csv('drive/My Drive/TUGAS AKHIR/DATASET_2/Final Dataset/data_test.csv')\n",
        "data_test2.head()"
      ],
      "metadata": {
        "id": "dDSwrhezNeph"
      },
      "execution_count": null,
      "outputs": []
    },
    {
      "cell_type": "code",
      "source": [
        "print('Jumlah Data :', len(data_test2))\n",
        "print('Sentiment : ', data_test2.groupby(['review_type'])['review_type'].count())"
      ],
      "metadata": {
        "id": "3Fnxc3XESfTz",
        "colab": {
          "base_uri": "https://localhost:8080/"
        },
        "outputId": "f68fcb94-93f5-489b-cdaf-dc5e3af19630"
      },
      "execution_count": null,
      "outputs": [
        {
          "output_type": "stream",
          "name": "stdout",
          "text": [
            "Jumlah Data : 7053\n",
            "Sentiment :  review_type\n",
            "0    3528\n",
            "1    3525\n",
            "Name: review_type, dtype: int64\n"
          ]
        }
      ]
    },
    {
      "cell_type": "markdown",
      "source": [
        "##W2V Train"
      ],
      "metadata": {
        "id": "zehBO08bQuLC"
      }
    },
    {
      "cell_type": "code",
      "execution_count": null,
      "metadata": {
        "id": "jS9NZ9tNQuLD"
      },
      "outputs": [],
      "source": [
        "Corpus_voc = [] \n",
        "temp = []\n",
        "# iterate through each sentence in the file \n",
        "for i in dataword2vec: \n",
        "  temp = [] \n",
        "  # tokenize the sentence into words \n",
        "  for j in word_tokenize(str(i)): \n",
        "      temp.append(j.lower()) \n",
        "  Corpus_voc.append(temp)"
      ]
    },
    {
      "cell_type": "code",
      "execution_count": null,
      "metadata": {
        "id": "tsL9RlhvQuLD"
      },
      "outputs": [],
      "source": [
        "data_train2['rev_list'] = list(map(lambda sentences:\n",
        "                                         list(map(nltk.word_tokenize, sentences)),\n",
        "                                         data_train2.rev_list))  # tokenize sentences"
      ]
    },
    {
      "cell_type": "code",
      "execution_count": null,
      "metadata": {
        "id": "wZoynNZIQuLD"
      },
      "outputs": [],
      "source": [
        "modelskip2 = Word2Vec(Corpus_voc, min_count = 1 , alpha = 0.1 , size=100, window=5, sg=1)"
      ]
    },
    {
      "cell_type": "code",
      "execution_count": null,
      "metadata": {
        "id": "jASysihUQuLD"
      },
      "outputs": [],
      "source": [
        "joblib.dump(modelskip2, '/content/drive/My Drive/TUGAS AKHIR/TA/Code/word2vecskip.jl')\n",
        "skipgram = joblib.load('/content/drive/My Drive/TUGAS AKHIR/TA/Code/word2vecskip.jl')"
      ]
    },
    {
      "cell_type": "code",
      "execution_count": null,
      "metadata": {
        "id": "Lsq8ijjqQuLF"
      },
      "outputs": [],
      "source": [
        "def get_w2v_features(w2v_model, sentence_group):\n",
        "    words = np.concatenate(sentence_group)  # words in text\n",
        "    index2word_set = set(w2v_model.wv.vocab.keys())  # words known to model\n",
        "    \n",
        "    featureVec = np.zeros(w2v_model.vector_size, dtype=\"float32\")\n",
        "    \n",
        "    # Initialize a counter for number of words in a review\n",
        "    nwords = 0\n",
        "    # Loop over each word in the comment and, if it is in the model's vocabulary, add its feature vector to the total\n",
        "    for word in words:\n",
        "        if word in index2word_set: \n",
        "            featureVec = np.add(featureVec, w2v_model[word])\n",
        "            nwords += 1.\n",
        "\n",
        "    # Divide the result by the number of words to get the average\n",
        "    if nwords > 0:\n",
        "        featureVec = np.divide(featureVec, nwords)\n",
        "    return featureVec\n",
        "\n",
        "#mengambil arti dari semua vektor kata yang ada pada kalimat untuk mendapatkan representasi vektor "
      ]
    },
    {
      "cell_type": "code",
      "source": [
        "# memberi nomor index\n",
        "index_kosong = []\n",
        "for i in range(len(data_train2.rev_list)):\n",
        "  if len(data_train2.rev_list.iloc[i]) == 0:\n",
        "    index_kosong.append(i)"
      ],
      "metadata": {
        "id": "BGEiTZj3jSPC"
      },
      "execution_count": null,
      "outputs": []
    },
    {
      "cell_type": "code",
      "source": [
        "# drop index yang masih kosong \n",
        "data_train2 = data_train2.drop(data_train2.index[index_kosong])"
      ],
      "metadata": {
        "id": "Gt88TniljSPC"
      },
      "execution_count": null,
      "outputs": []
    },
    {
      "cell_type": "code",
      "execution_count": null,
      "metadata": {
        "id": "yEO_9gb6QuLF"
      },
      "outputs": [],
      "source": [
        "data_train2['w2v_features_skip'] = list(map(lambda sen_group:\n",
        "                                      get_w2v_features(modelskip2, sen_group),\n",
        "                                      data_train2.rev_list))"
      ]
    },
    {
      "cell_type": "code",
      "execution_count": null,
      "metadata": {
        "id": "Zw4IMBkuQuLG",
        "colab": {
          "base_uri": "https://localhost:8080/"
        },
        "outputId": "9b42eea8-8e2b-41c2-eb8a-52369afb1168"
      },
      "outputs": [
        {
          "output_type": "stream",
          "name": "stdout",
          "text": [
            "(16441, 100)\n"
          ]
        }
      ],
      "source": [
        "feature = [x for x in data_train2['w2v_features_skip'].transpose()]\n",
        "word2vec_with_stop_features_train2 = np.asarray(feature)\n",
        "\n",
        "print(word2vec_with_stop_features_train2.shape)"
      ]
    },
    {
      "cell_type": "code",
      "source": [
        "X_train2 = word2vec_with_stop_features_train2"
      ],
      "metadata": {
        "id": "6uOSnio1QuLG"
      },
      "execution_count": null,
      "outputs": []
    },
    {
      "cell_type": "markdown",
      "source": [
        "##W2V Test"
      ],
      "metadata": {
        "id": "cv-HsY3qQuLG"
      }
    },
    {
      "cell_type": "code",
      "execution_count": null,
      "metadata": {
        "id": "0-3H066yQuLG"
      },
      "outputs": [],
      "source": [
        "data_test2['rev_list'] = list(map(lambda sentences:\n",
        "                                         list(map(nltk.word_tokenize, sentences)),\n",
        "                                         data_test2.rev_list))  # tokenize sentences"
      ]
    },
    {
      "cell_type": "code",
      "source": [
        "# memberi nomor index\n",
        "index_kosong = []\n",
        "for i in range(len(data_test2.rev_list)):\n",
        "  if len(data_test2.rev_list.iloc[i]) == 0:\n",
        "    index_kosong.append(i)"
      ],
      "metadata": {
        "id": "cBsx0oALjY_o"
      },
      "execution_count": null,
      "outputs": []
    },
    {
      "cell_type": "code",
      "source": [
        "# drop index yang masih kosong \n",
        "data_test2 = data_test2.drop(data_test2.index[index_kosong])"
      ],
      "metadata": {
        "id": "_fSNgkRejY_o"
      },
      "execution_count": null,
      "outputs": []
    },
    {
      "cell_type": "code",
      "execution_count": null,
      "metadata": {
        "id": "LMUMsDc9QuLH"
      },
      "outputs": [],
      "source": [
        "data_test2['w2v_features_skip'] = list(map(lambda sen_group:\n",
        "                                      get_w2v_features(modelskip2, sen_group),\n",
        "                                      data_test2.rev_list))"
      ]
    },
    {
      "cell_type": "code",
      "execution_count": null,
      "metadata": {
        "id": "XcJvVv6_QuLH",
        "colab": {
          "base_uri": "https://localhost:8080/"
        },
        "outputId": "b34aec29-2bca-4ec9-c31d-5bff86bd4af1"
      },
      "outputs": [
        {
          "output_type": "stream",
          "name": "stdout",
          "text": [
            "(7048, 100)\n"
          ]
        }
      ],
      "source": [
        "feature = [x for x in data_test2['w2v_features_skip'].transpose()]\n",
        "word2vec_with_stop_features_test2 = np.asarray(feature)\n",
        "\n",
        "print(word2vec_with_stop_features_test2.shape)"
      ]
    },
    {
      "cell_type": "code",
      "source": [
        "X_test2 = word2vec_with_stop_features_test2"
      ],
      "metadata": {
        "id": "NPc8glmTQuLH"
      },
      "execution_count": null,
      "outputs": []
    },
    {
      "cell_type": "markdown",
      "metadata": {
        "id": "7vxcwsqJQuLI"
      },
      "source": [
        "##Gaussian"
      ]
    },
    {
      "cell_type": "code",
      "source": [
        "y_train2 = data_train2['review_type']\n",
        "y_test2 = data_test2['review_type']"
      ],
      "metadata": {
        "id": "6jDubEzvQuLI"
      },
      "execution_count": null,
      "outputs": []
    },
    {
      "cell_type": "code",
      "execution_count": null,
      "metadata": {
        "id": "TRajXTP8QuLI",
        "colab": {
          "base_uri": "https://localhost:8080/"
        },
        "outputId": "811cb25a-ea88-42d0-d10d-55b7c7fc82ae"
      },
      "outputs": [
        {
          "output_type": "execute_result",
          "data": {
            "text/plain": [
              "array([0, 1, 1, ..., 0, 0, 0])"
            ]
          },
          "metadata": {},
          "execution_count": 127
        }
      ],
      "source": [
        "model = GaussianNB()\n",
        "model.fit(X_train2, y_train2)\n",
        "pred2 = model.predict(X_train2) #prediksi train\n",
        "Y_pred2 = model.predict(X_test2) #prediksi test\n",
        "Y_pred2"
      ]
    },
    {
      "cell_type": "markdown",
      "source": [
        "### Evaluation"
      ],
      "metadata": {
        "id": "8jx3my5eSTGl"
      }
    },
    {
      "cell_type": "code",
      "execution_count": null,
      "metadata": {
        "id": "bCGJFIhwQuLJ",
        "colab": {
          "base_uri": "https://localhost:8080/"
        },
        "outputId": "7a3a0c0d-da15-446a-a158-390bb4c8aea2"
      },
      "outputs": [
        {
          "output_type": "stream",
          "name": "stdout",
          "text": [
            "Accuracy: 63.138479001135074 %\n",
            "Precision:  66.42984014209591 %\n",
            "Recall:  53.07976156684644 %\n",
            "F1 Score:  59.0091511517829 %\n"
          ]
        }
      ],
      "source": [
        "print(\"Accuracy:\", accuracy_score(y_test2, Y_pred2)*100, \"%\")\n",
        "print(\"Precision: \", precision_score(y_test2, Y_pred2)*100, \"%\")\n",
        "print(\"Recall: \", recall_score(y_test2, Y_pred2)*100, \"%\")\n",
        "print(\"F1 Score: \", f1_score(y_test2, Y_pred2)*100, \"%\")"
      ]
    },
    {
      "cell_type": "code",
      "source": [
        "print(\"Confusion Matrix\")\n",
        "print(confusion_matrix(y_test2, Y_pred2))\n",
        "tn, fp, fn, tp = confusion_matrix(y_test2, Y_pred2).ravel()\n",
        "print('TN: ', tn)\n",
        "print('FP: ', fp)\n",
        "print('FN: ', fn)\n",
        "print('TP: ', tp)"
      ],
      "metadata": {
        "id": "Wog000MpQuLJ",
        "colab": {
          "base_uri": "https://localhost:8080/"
        },
        "outputId": "2813c46a-6d2f-4757-e620-d17a19f0166f"
      },
      "execution_count": null,
      "outputs": [
        {
          "output_type": "stream",
          "name": "stdout",
          "text": [
            "Confusion Matrix\n",
            "[[2580  945]\n",
            " [1653 1870]]\n",
            "TN:  2580\n",
            "FP:  945\n",
            "FN:  1653\n",
            "TP:  1870\n"
          ]
        }
      ]
    },
    {
      "cell_type": "code",
      "source": [
        "print(\"Classification report\")\n",
        "print(classification_report(y_test2, Y_pred2))"
      ],
      "metadata": {
        "id": "xrvw_2ybQuLK",
        "colab": {
          "base_uri": "https://localhost:8080/"
        },
        "outputId": "381e7ae9-58f5-49d4-dd00-f776c50938a6"
      },
      "execution_count": null,
      "outputs": [
        {
          "output_type": "stream",
          "name": "stdout",
          "text": [
            "Classification report\n",
            "              precision    recall  f1-score   support\n",
            "\n",
            "           0       0.61      0.73      0.67      3525\n",
            "           1       0.66      0.53      0.59      3523\n",
            "\n",
            "    accuracy                           0.63      7048\n",
            "   macro avg       0.64      0.63      0.63      7048\n",
            "weighted avg       0.64      0.63      0.63      7048\n",
            "\n"
          ]
        }
      ]
    },
    {
      "cell_type": "markdown",
      "source": [
        "### Export data"
      ],
      "metadata": {
        "id": "xbtKKuSXhcJP"
      }
    },
    {
      "cell_type": "code",
      "source": [
        "data_train_ex2 = data_train2.assign(sentiment_pred = pred2)"
      ],
      "metadata": {
        "id": "WuIddvBchcJP"
      },
      "execution_count": null,
      "outputs": []
    },
    {
      "cell_type": "code",
      "source": [
        "data_train_ex2.to_csv('drive/My Drive/TUGAS AKHIR/DATASET_2/Final Dataset/data_train_gaussian_100_pred.csv')"
      ],
      "metadata": {
        "id": "Ae8yQxXahcJQ"
      },
      "execution_count": null,
      "outputs": []
    },
    {
      "cell_type": "code",
      "source": [
        "data_test_ex2 = data_test2.assign(sentiment_pred = Y_pred2)"
      ],
      "metadata": {
        "id": "NmlDtvt5hcJQ"
      },
      "execution_count": null,
      "outputs": []
    },
    {
      "cell_type": "code",
      "source": [
        "data_test_ex2.to_csv('drive/My Drive/TUGAS AKHIR/DATASET_2/Final Dataset/data_test_gaussian_100_pred.csv')"
      ],
      "metadata": {
        "id": "hFW6X4WdhcJQ"
      },
      "execution_count": null,
      "outputs": []
    },
    {
      "cell_type": "markdown",
      "metadata": {
        "id": "8LBLtxeIQuLK"
      },
      "source": [
        "##Multinomial"
      ]
    },
    {
      "cell_type": "code",
      "execution_count": null,
      "metadata": {
        "id": "6aBvlrGdQuLK"
      },
      "outputs": [],
      "source": [
        "from sklearn.preprocessing import MinMaxScaler\n",
        "\n",
        "scaler = MinMaxScaler()\n",
        "X_train2_multi = scaler.fit_transform(X_train2)\n",
        "X_test2_multi = scaler.fit_transform(X_test2)"
      ]
    },
    {
      "cell_type": "code",
      "execution_count": null,
      "metadata": {
        "id": "OUrtPEkLQuLL",
        "colab": {
          "base_uri": "https://localhost:8080/"
        },
        "outputId": "8b2299e7-9244-40f7-9017-0fc034a911ac"
      },
      "outputs": [
        {
          "output_type": "execute_result",
          "data": {
            "text/plain": [
              "array([0, 1, 1, ..., 0, 1, 0])"
            ]
          },
          "metadata": {},
          "execution_count": 132
        }
      ],
      "source": [
        "model2_multi = MultinomialNB()\n",
        "model2_multi.fit(X_train2_multi, y_train2)\n",
        "pred2_multi = model2_multi.predict(X_train2_multi) #prediksi train\n",
        "Y_pred2_multi = model2_multi.predict(X_test2_multi) #prediksi test\n",
        "Y_pred2_multi"
      ]
    },
    {
      "cell_type": "markdown",
      "metadata": {
        "id": "aJwuMLZdQuLL"
      },
      "source": [
        "### Evaluation"
      ]
    },
    {
      "cell_type": "code",
      "execution_count": null,
      "metadata": {
        "id": "XjQ6WXDJQuLL",
        "colab": {
          "base_uri": "https://localhost:8080/"
        },
        "outputId": "4a388826-3ead-46cf-8655-ba0ca1b60cff"
      },
      "outputs": [
        {
          "output_type": "stream",
          "name": "stdout",
          "text": [
            "Accuracy: 65.13904653802497 %\n",
            "Precision:  72.52747252747253 %\n",
            "Recall:  48.708487084870846 %\n",
            "F1 Score:  58.27814569536424 %\n"
          ]
        }
      ],
      "source": [
        "print(\"Accuracy:\", accuracy_score(y_test2, Y_pred2_multi)*100, \"%\")\n",
        "print(\"Precision: \", precision_score(y_test2, Y_pred2_multi)*100, \"%\")\n",
        "print(\"Recall: \", recall_score(y_test2, Y_pred2_multi)*100, \"%\")\n",
        "print(\"F1 Score: \", f1_score(y_test2, Y_pred2_multi)*100, \"%\")"
      ]
    },
    {
      "cell_type": "code",
      "source": [
        "print(\"Confusion Matrix\")\n",
        "print(confusion_matrix(y_test2, Y_pred2_multi))\n",
        "tn, fp, fn, tp = confusion_matrix(y_test2, Y_pred2_multi).ravel()\n",
        "print('TN: ', tn)\n",
        "print('FP: ', fp)\n",
        "print('FN: ', fn)\n",
        "print('TP: ', tp)"
      ],
      "metadata": {
        "id": "bAM8-lhHQuLL",
        "colab": {
          "base_uri": "https://localhost:8080/"
        },
        "outputId": "9c3ba1d3-e296-44f1-bee7-60db5c536616"
      },
      "execution_count": null,
      "outputs": [
        {
          "output_type": "stream",
          "name": "stdout",
          "text": [
            "Confusion Matrix\n",
            "[[2875  650]\n",
            " [1807 1716]]\n",
            "TN:  2875\n",
            "FP:  650\n",
            "FN:  1807\n",
            "TP:  1716\n"
          ]
        }
      ]
    },
    {
      "cell_type": "code",
      "source": [
        "print(\"Classification report\")\n",
        "print(classification_report(y_test2, Y_pred2_multi))"
      ],
      "metadata": {
        "id": "EFiUFRG1QuLL",
        "colab": {
          "base_uri": "https://localhost:8080/"
        },
        "outputId": "9571f6bb-e372-431f-8222-7bd4738d2796"
      },
      "execution_count": null,
      "outputs": [
        {
          "output_type": "stream",
          "name": "stdout",
          "text": [
            "Classification report\n",
            "              precision    recall  f1-score   support\n",
            "\n",
            "           0       0.61      0.82      0.70      3525\n",
            "           1       0.73      0.49      0.58      3523\n",
            "\n",
            "    accuracy                           0.65      7048\n",
            "   macro avg       0.67      0.65      0.64      7048\n",
            "weighted avg       0.67      0.65      0.64      7048\n",
            "\n"
          ]
        }
      ]
    },
    {
      "cell_type": "markdown",
      "source": [
        "### Export data"
      ],
      "metadata": {
        "id": "z_w4ZwJahWC6"
      }
    },
    {
      "cell_type": "code",
      "source": [
        "data_train_ex2_multi = data_train2.assign(sentiment_pred = pred2_multi)"
      ],
      "metadata": {
        "id": "zgMRCmzFhWC7"
      },
      "execution_count": null,
      "outputs": []
    },
    {
      "cell_type": "code",
      "source": [
        "data_train_ex2_multi.to_csv('drive/My Drive/TUGAS AKHIR/DATASET_2/Final Dataset/data_train_multinomial_100_pred.csv')"
      ],
      "metadata": {
        "id": "PSoAd_-HhWC7"
      },
      "execution_count": null,
      "outputs": []
    },
    {
      "cell_type": "code",
      "source": [
        "data_test_ex2_multi = data_test2.assign(sentiment_pred = Y_pred2_multi)"
      ],
      "metadata": {
        "id": "fXUTUkSDhWC8"
      },
      "execution_count": null,
      "outputs": []
    },
    {
      "cell_type": "code",
      "source": [
        "data_test_ex2_multi.to_csv('drive/My Drive/TUGAS AKHIR/DATASET_2/Final Dataset/data_test_multinomial_100_pred.csv')"
      ],
      "metadata": {
        "id": "69bAqy87hWC8"
      },
      "execution_count": null,
      "outputs": []
    }
  ],
  "metadata": {
    "colab": {
      "collapsed_sections": [
        "eQVrEWX9myde"
      ],
      "name": "TA sul2(modeling).ipynb",
      "provenance": [],
      "toc_visible": true
    },
    "kernelspec": {
      "display_name": "Python 3",
      "name": "python3"
    },
    "language_info": {
      "name": "python"
    }
  },
  "nbformat": 4,
  "nbformat_minor": 0
}