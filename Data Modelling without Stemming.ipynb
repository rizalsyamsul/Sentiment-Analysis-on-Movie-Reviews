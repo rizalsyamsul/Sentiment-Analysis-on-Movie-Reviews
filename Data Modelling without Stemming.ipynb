{
  "cells": [
    {
      "cell_type": "code",
      "execution_count": null,
      "metadata": {
        "id": "rMK-PoKDqwiO"
      },
      "outputs": [],
      "source": [
        "from sklearn.model_selection import train_test_split\n",
        "import gensim\n",
        "from tqdm import tqdm\n",
        "from sklearn.preprocessing import StandardScaler\n",
        "import pandas as pd\n",
        "import numpy as np\n",
        "import re\n",
        "import string\n",
        "import nltk\n",
        "from sklearn.naive_bayes import GaussianNB, MultinomialNB, BernoulliNB, CategoricalNB, ComplementNB\n",
        "from sklearn import metrics\n",
        "from sklearn.metrics import accuracy_score\n",
        "from sklearn.metrics import confusion_matrix\n",
        "from sklearn.metrics import classification_report\n",
        "from sklearn.metrics import f1_score\n",
        "from sklearn.metrics import precision_score\n",
        "from sklearn.metrics import recall_score\n",
        "from sklearn.metrics import hamming_loss\n",
        "\n",
        "import ast"
      ]
    },
    {
      "cell_type": "code",
      "source": [
        "nltk.download('punkt')\n",
        "nltk.download('wordnet')\n",
        "nltk.download('stopwords')\n",
        "nltk.download('averaged_perceptron_tagger')"
      ],
      "metadata": {
        "colab": {
          "base_uri": "https://localhost:8080/"
        },
        "id": "rT4uu8PkoyBt",
        "outputId": "a96865de-b562-46a7-bef3-3c3e61483ecc"
      },
      "execution_count": null,
      "outputs": [
        {
          "output_type": "stream",
          "name": "stdout",
          "text": [
            "[nltk_data] Downloading package punkt to /root/nltk_data...\n",
            "[nltk_data]   Unzipping tokenizers/punkt.zip.\n",
            "[nltk_data] Downloading package wordnet to /root/nltk_data...\n",
            "[nltk_data]   Unzipping corpora/wordnet.zip.\n",
            "[nltk_data] Downloading package stopwords to /root/nltk_data...\n",
            "[nltk_data]   Unzipping corpora/stopwords.zip.\n",
            "[nltk_data] Downloading package averaged_perceptron_tagger to\n",
            "[nltk_data]     /root/nltk_data...\n",
            "[nltk_data]   Unzipping taggers/averaged_perceptron_tagger.zip.\n"
          ]
        },
        {
          "output_type": "execute_result",
          "data": {
            "text/plain": [
              "True"
            ]
          },
          "metadata": {},
          "execution_count": 2
        }
      ]
    },
    {
      "cell_type": "markdown",
      "metadata": {
        "id": "2oTXiIZLqxDM"
      },
      "source": [
        "#Data"
      ]
    },
    {
      "cell_type": "code",
      "execution_count": null,
      "metadata": {
        "colab": {
          "base_uri": "https://localhost:8080/"
        },
        "id": "hiyfeVGcq5iJ",
        "outputId": "82ced9bf-f139-439d-e422-fd9f034ebcda"
      },
      "outputs": [
        {
          "output_type": "stream",
          "name": "stdout",
          "text": [
            "Mounted at /content/drive\n"
          ]
        }
      ],
      "source": [
        "from google.colab import drive\n",
        "drive.mount('/content/drive')"
      ]
    },
    {
      "cell_type": "code",
      "execution_count": null,
      "metadata": {
        "colab": {
          "base_uri": "https://localhost:8080/",
          "height": 337
        },
        "id": "5FwvFd88q8hl",
        "outputId": "8d54883a-8569-4187-baa4-dd185f655a9e"
      },
      "outputs": [
        {
          "output_type": "execute_result",
          "data": {
            "text/plain": [
              "   Unnamed: 0                                     review_content  review_type  \\\n",
              "0         145  as a former middle school teacher of gifted li...            0   \n",
              "1         146  the lightning thief is an admirable kid's fant...            0   \n",
              "2         147                                 ok, but only just.            1   \n",
              "3         148  there's nothing resembling a spark in this fil...            1   \n",
              "4         289  please give is truly a film for our age; it's ...            0   \n",
              "\n",
              "                                           rev_clean  \\\n",
              "0  as a former middle school teacher of gifted li...   \n",
              "1  the lightning thief is an admirable kid s fant...   \n",
              "2                                  ok but only just    \n",
              "3  there s nothing resembling a spark in this fil...   \n",
              "4  please give is truly a film for our age it s d...   \n",
              "\n",
              "                                           rev_token  \\\n",
              "0  ['as', 'a', 'former', 'middle', 'school', 'tea...   \n",
              "1  ['the', 'lightning', 'thief', 'is', 'an', 'adm...   \n",
              "2                      ['ok', 'but', 'only', 'just']   \n",
              "3  ['there', 's', 'nothing', 'resembling', 'a', '...   \n",
              "4  ['please', 'give', 'is', 'truly', 'a', 'film',...   \n",
              "\n",
              "                                        rev_removesw  \n",
              "0  ['middle', 'school', 'teacher', 'gifted', 'lit...  \n",
              "1  ['lightning', 'thief', 'admirable', 'kid', 'fa...  \n",
              "2                                                 []  \n",
              "3                    ['resembling', 'spark', 'film']  \n",
              "4  ['film', 'age', 'darkly', 'comic', 'stuff', 'm...  "
            ],
            "text/html": [
              "\n",
              "  <div id=\"df-91f53ae2-cf45-48e9-b07e-ad62b5ba3525\">\n",
              "    <div class=\"colab-df-container\">\n",
              "      <div>\n",
              "<style scoped>\n",
              "    .dataframe tbody tr th:only-of-type {\n",
              "        vertical-align: middle;\n",
              "    }\n",
              "\n",
              "    .dataframe tbody tr th {\n",
              "        vertical-align: top;\n",
              "    }\n",
              "\n",
              "    .dataframe thead th {\n",
              "        text-align: right;\n",
              "    }\n",
              "</style>\n",
              "<table border=\"1\" class=\"dataframe\">\n",
              "  <thead>\n",
              "    <tr style=\"text-align: right;\">\n",
              "      <th></th>\n",
              "      <th>Unnamed: 0</th>\n",
              "      <th>review_content</th>\n",
              "      <th>review_type</th>\n",
              "      <th>rev_clean</th>\n",
              "      <th>rev_token</th>\n",
              "      <th>rev_removesw</th>\n",
              "    </tr>\n",
              "  </thead>\n",
              "  <tbody>\n",
              "    <tr>\n",
              "      <th>0</th>\n",
              "      <td>145</td>\n",
              "      <td>as a former middle school teacher of gifted li...</td>\n",
              "      <td>0</td>\n",
              "      <td>as a former middle school teacher of gifted li...</td>\n",
              "      <td>['as', 'a', 'former', 'middle', 'school', 'tea...</td>\n",
              "      <td>['middle', 'school', 'teacher', 'gifted', 'lit...</td>\n",
              "    </tr>\n",
              "    <tr>\n",
              "      <th>1</th>\n",
              "      <td>146</td>\n",
              "      <td>the lightning thief is an admirable kid's fant...</td>\n",
              "      <td>0</td>\n",
              "      <td>the lightning thief is an admirable kid s fant...</td>\n",
              "      <td>['the', 'lightning', 'thief', 'is', 'an', 'adm...</td>\n",
              "      <td>['lightning', 'thief', 'admirable', 'kid', 'fa...</td>\n",
              "    </tr>\n",
              "    <tr>\n",
              "      <th>2</th>\n",
              "      <td>147</td>\n",
              "      <td>ok, but only just.</td>\n",
              "      <td>1</td>\n",
              "      <td>ok but only just</td>\n",
              "      <td>['ok', 'but', 'only', 'just']</td>\n",
              "      <td>[]</td>\n",
              "    </tr>\n",
              "    <tr>\n",
              "      <th>3</th>\n",
              "      <td>148</td>\n",
              "      <td>there's nothing resembling a spark in this fil...</td>\n",
              "      <td>1</td>\n",
              "      <td>there s nothing resembling a spark in this fil...</td>\n",
              "      <td>['there', 's', 'nothing', 'resembling', 'a', '...</td>\n",
              "      <td>['resembling', 'spark', 'film']</td>\n",
              "    </tr>\n",
              "    <tr>\n",
              "      <th>4</th>\n",
              "      <td>289</td>\n",
              "      <td>please give is truly a film for our age; it's ...</td>\n",
              "      <td>0</td>\n",
              "      <td>please give is truly a film for our age it s d...</td>\n",
              "      <td>['please', 'give', 'is', 'truly', 'a', 'film',...</td>\n",
              "      <td>['film', 'age', 'darkly', 'comic', 'stuff', 'm...</td>\n",
              "    </tr>\n",
              "  </tbody>\n",
              "</table>\n",
              "</div>\n",
              "      <button class=\"colab-df-convert\" onclick=\"convertToInteractive('df-91f53ae2-cf45-48e9-b07e-ad62b5ba3525')\"\n",
              "              title=\"Convert this dataframe to an interactive table.\"\n",
              "              style=\"display:none;\">\n",
              "        \n",
              "  <svg xmlns=\"http://www.w3.org/2000/svg\" height=\"24px\"viewBox=\"0 0 24 24\"\n",
              "       width=\"24px\">\n",
              "    <path d=\"M0 0h24v24H0V0z\" fill=\"none\"/>\n",
              "    <path d=\"M18.56 5.44l.94 2.06.94-2.06 2.06-.94-2.06-.94-.94-2.06-.94 2.06-2.06.94zm-11 1L8.5 8.5l.94-2.06 2.06-.94-2.06-.94L8.5 2.5l-.94 2.06-2.06.94zm10 10l.94 2.06.94-2.06 2.06-.94-2.06-.94-.94-2.06-.94 2.06-2.06.94z\"/><path d=\"M17.41 7.96l-1.37-1.37c-.4-.4-.92-.59-1.43-.59-.52 0-1.04.2-1.43.59L10.3 9.45l-7.72 7.72c-.78.78-.78 2.05 0 2.83L4 21.41c.39.39.9.59 1.41.59.51 0 1.02-.2 1.41-.59l7.78-7.78 2.81-2.81c.8-.78.8-2.07 0-2.86zM5.41 20L4 18.59l7.72-7.72 1.47 1.35L5.41 20z\"/>\n",
              "  </svg>\n",
              "      </button>\n",
              "      \n",
              "  <style>\n",
              "    .colab-df-container {\n",
              "      display:flex;\n",
              "      flex-wrap:wrap;\n",
              "      gap: 12px;\n",
              "    }\n",
              "\n",
              "    .colab-df-convert {\n",
              "      background-color: #E8F0FE;\n",
              "      border: none;\n",
              "      border-radius: 50%;\n",
              "      cursor: pointer;\n",
              "      display: none;\n",
              "      fill: #1967D2;\n",
              "      height: 32px;\n",
              "      padding: 0 0 0 0;\n",
              "      width: 32px;\n",
              "    }\n",
              "\n",
              "    .colab-df-convert:hover {\n",
              "      background-color: #E2EBFA;\n",
              "      box-shadow: 0px 1px 2px rgba(60, 64, 67, 0.3), 0px 1px 3px 1px rgba(60, 64, 67, 0.15);\n",
              "      fill: #174EA6;\n",
              "    }\n",
              "\n",
              "    [theme=dark] .colab-df-convert {\n",
              "      background-color: #3B4455;\n",
              "      fill: #D2E3FC;\n",
              "    }\n",
              "\n",
              "    [theme=dark] .colab-df-convert:hover {\n",
              "      background-color: #434B5C;\n",
              "      box-shadow: 0px 1px 3px 1px rgba(0, 0, 0, 0.15);\n",
              "      filter: drop-shadow(0px 1px 2px rgba(0, 0, 0, 0.3));\n",
              "      fill: #FFFFFF;\n",
              "    }\n",
              "  </style>\n",
              "\n",
              "      <script>\n",
              "        const buttonEl =\n",
              "          document.querySelector('#df-91f53ae2-cf45-48e9-b07e-ad62b5ba3525 button.colab-df-convert');\n",
              "        buttonEl.style.display =\n",
              "          google.colab.kernel.accessAllowed ? 'block' : 'none';\n",
              "\n",
              "        async function convertToInteractive(key) {\n",
              "          const element = document.querySelector('#df-91f53ae2-cf45-48e9-b07e-ad62b5ba3525');\n",
              "          const dataTable =\n",
              "            await google.colab.kernel.invokeFunction('convertToInteractive',\n",
              "                                                     [key], {});\n",
              "          if (!dataTable) return;\n",
              "\n",
              "          const docLinkHtml = 'Like what you see? Visit the ' +\n",
              "            '<a target=\"_blank\" href=https://colab.research.google.com/notebooks/data_table.ipynb>data table notebook</a>'\n",
              "            + ' to learn more about interactive tables.';\n",
              "          element.innerHTML = '';\n",
              "          dataTable['output_type'] = 'display_data';\n",
              "          await google.colab.output.renderOutput(dataTable, element);\n",
              "          const docLink = document.createElement('div');\n",
              "          docLink.innerHTML = docLinkHtml;\n",
              "          element.appendChild(docLink);\n",
              "        }\n",
              "      </script>\n",
              "    </div>\n",
              "  </div>\n",
              "  "
            ]
          },
          "metadata": {},
          "execution_count": 4
        }
      ],
      "source": [
        "df = pd.read_csv('drive/My Drive/TUGAS AKHIR/DATASET_2/Final Dataset/data_preprocess_nostemming.csv')\n",
        "dataword2vec = df[\"review_content\"]\n",
        "df.head()"
      ]
    },
    {
      "cell_type": "code",
      "source": [
        "import seaborn as sns\n",
        "import plotly.express as px\n",
        "fig = px.bar(df.groupby('review_type').size().reset_index(name='count'), \n",
        "             x='review_type', y='count', width=480, height=480, \n",
        "             barmode='group', title='Distribusi label')\n",
        "fig.show(renderer='colab')"
      ],
      "metadata": {
        "colab": {
          "base_uri": "https://localhost:8080/",
          "height": 497
        },
        "id": "rkjgt7mqSbQS",
        "outputId": "3cf05243-fbef-4117-e1f6-21eb282599dd"
      },
      "execution_count": null,
      "outputs": [
        {
          "output_type": "display_data",
          "data": {
            "text/html": [
              "<html>\n",
              "<head><meta charset=\"utf-8\" /></head>\n",
              "<body>\n",
              "    <div>            <script src=\"https://cdnjs.cloudflare.com/ajax/libs/mathjax/2.7.5/MathJax.js?config=TeX-AMS-MML_SVG\"></script><script type=\"text/javascript\">if (window.MathJax) {MathJax.Hub.Config({SVG: {font: \"STIX-Web\"}});}</script>                <script type=\"text/javascript\">window.PlotlyConfig = {MathJaxConfig: 'local'};</script>\n",
              "        <script src=\"https://cdn.plot.ly/plotly-2.8.3.min.js\"></script>                <div id=\"caa7a37f-227e-44d0-a888-1bba45df03b0\" class=\"plotly-graph-div\" style=\"height:480px; width:480px;\"></div>            <script type=\"text/javascript\">                                    window.PLOTLYENV=window.PLOTLYENV || {};                                    if (document.getElementById(\"caa7a37f-227e-44d0-a888-1bba45df03b0\")) {                    Plotly.newPlot(                        \"caa7a37f-227e-44d0-a888-1bba45df03b0\",                        [{\"alignmentgroup\":\"True\",\"hovertemplate\":\"review_type=%{x}<br>count=%{y}<extra></extra>\",\"legendgroup\":\"\",\"marker\":{\"color\":\"#636efa\",\"pattern\":{\"shape\":\"\"}},\"name\":\"\",\"offsetgroup\":\"\",\"orientation\":\"v\",\"showlegend\":false,\"textposition\":\"auto\",\"x\":[0,1],\"xaxis\":\"x\",\"y\":[29015,11757],\"yaxis\":\"y\",\"type\":\"bar\"}],                        {\"template\":{\"data\":{\"bar\":[{\"error_x\":{\"color\":\"#2a3f5f\"},\"error_y\":{\"color\":\"#2a3f5f\"},\"marker\":{\"line\":{\"color\":\"#E5ECF6\",\"width\":0.5},\"pattern\":{\"fillmode\":\"overlay\",\"size\":10,\"solidity\":0.2}},\"type\":\"bar\"}],\"barpolar\":[{\"marker\":{\"line\":{\"color\":\"#E5ECF6\",\"width\":0.5},\"pattern\":{\"fillmode\":\"overlay\",\"size\":10,\"solidity\":0.2}},\"type\":\"barpolar\"}],\"carpet\":[{\"aaxis\":{\"endlinecolor\":\"#2a3f5f\",\"gridcolor\":\"white\",\"linecolor\":\"white\",\"minorgridcolor\":\"white\",\"startlinecolor\":\"#2a3f5f\"},\"baxis\":{\"endlinecolor\":\"#2a3f5f\",\"gridcolor\":\"white\",\"linecolor\":\"white\",\"minorgridcolor\":\"white\",\"startlinecolor\":\"#2a3f5f\"},\"type\":\"carpet\"}],\"choropleth\":[{\"colorbar\":{\"outlinewidth\":0,\"ticks\":\"\"},\"type\":\"choropleth\"}],\"contour\":[{\"colorbar\":{\"outlinewidth\":0,\"ticks\":\"\"},\"colorscale\":[[0.0,\"#0d0887\"],[0.1111111111111111,\"#46039f\"],[0.2222222222222222,\"#7201a8\"],[0.3333333333333333,\"#9c179e\"],[0.4444444444444444,\"#bd3786\"],[0.5555555555555556,\"#d8576b\"],[0.6666666666666666,\"#ed7953\"],[0.7777777777777778,\"#fb9f3a\"],[0.8888888888888888,\"#fdca26\"],[1.0,\"#f0f921\"]],\"type\":\"contour\"}],\"contourcarpet\":[{\"colorbar\":{\"outlinewidth\":0,\"ticks\":\"\"},\"type\":\"contourcarpet\"}],\"heatmap\":[{\"colorbar\":{\"outlinewidth\":0,\"ticks\":\"\"},\"colorscale\":[[0.0,\"#0d0887\"],[0.1111111111111111,\"#46039f\"],[0.2222222222222222,\"#7201a8\"],[0.3333333333333333,\"#9c179e\"],[0.4444444444444444,\"#bd3786\"],[0.5555555555555556,\"#d8576b\"],[0.6666666666666666,\"#ed7953\"],[0.7777777777777778,\"#fb9f3a\"],[0.8888888888888888,\"#fdca26\"],[1.0,\"#f0f921\"]],\"type\":\"heatmap\"}],\"heatmapgl\":[{\"colorbar\":{\"outlinewidth\":0,\"ticks\":\"\"},\"colorscale\":[[0.0,\"#0d0887\"],[0.1111111111111111,\"#46039f\"],[0.2222222222222222,\"#7201a8\"],[0.3333333333333333,\"#9c179e\"],[0.4444444444444444,\"#bd3786\"],[0.5555555555555556,\"#d8576b\"],[0.6666666666666666,\"#ed7953\"],[0.7777777777777778,\"#fb9f3a\"],[0.8888888888888888,\"#fdca26\"],[1.0,\"#f0f921\"]],\"type\":\"heatmapgl\"}],\"histogram\":[{\"marker\":{\"pattern\":{\"fillmode\":\"overlay\",\"size\":10,\"solidity\":0.2}},\"type\":\"histogram\"}],\"histogram2d\":[{\"colorbar\":{\"outlinewidth\":0,\"ticks\":\"\"},\"colorscale\":[[0.0,\"#0d0887\"],[0.1111111111111111,\"#46039f\"],[0.2222222222222222,\"#7201a8\"],[0.3333333333333333,\"#9c179e\"],[0.4444444444444444,\"#bd3786\"],[0.5555555555555556,\"#d8576b\"],[0.6666666666666666,\"#ed7953\"],[0.7777777777777778,\"#fb9f3a\"],[0.8888888888888888,\"#fdca26\"],[1.0,\"#f0f921\"]],\"type\":\"histogram2d\"}],\"histogram2dcontour\":[{\"colorbar\":{\"outlinewidth\":0,\"ticks\":\"\"},\"colorscale\":[[0.0,\"#0d0887\"],[0.1111111111111111,\"#46039f\"],[0.2222222222222222,\"#7201a8\"],[0.3333333333333333,\"#9c179e\"],[0.4444444444444444,\"#bd3786\"],[0.5555555555555556,\"#d8576b\"],[0.6666666666666666,\"#ed7953\"],[0.7777777777777778,\"#fb9f3a\"],[0.8888888888888888,\"#fdca26\"],[1.0,\"#f0f921\"]],\"type\":\"histogram2dcontour\"}],\"mesh3d\":[{\"colorbar\":{\"outlinewidth\":0,\"ticks\":\"\"},\"type\":\"mesh3d\"}],\"parcoords\":[{\"line\":{\"colorbar\":{\"outlinewidth\":0,\"ticks\":\"\"}},\"type\":\"parcoords\"}],\"pie\":[{\"automargin\":true,\"type\":\"pie\"}],\"scatter\":[{\"marker\":{\"colorbar\":{\"outlinewidth\":0,\"ticks\":\"\"}},\"type\":\"scatter\"}],\"scatter3d\":[{\"line\":{\"colorbar\":{\"outlinewidth\":0,\"ticks\":\"\"}},\"marker\":{\"colorbar\":{\"outlinewidth\":0,\"ticks\":\"\"}},\"type\":\"scatter3d\"}],\"scattercarpet\":[{\"marker\":{\"colorbar\":{\"outlinewidth\":0,\"ticks\":\"\"}},\"type\":\"scattercarpet\"}],\"scattergeo\":[{\"marker\":{\"colorbar\":{\"outlinewidth\":0,\"ticks\":\"\"}},\"type\":\"scattergeo\"}],\"scattergl\":[{\"marker\":{\"colorbar\":{\"outlinewidth\":0,\"ticks\":\"\"}},\"type\":\"scattergl\"}],\"scattermapbox\":[{\"marker\":{\"colorbar\":{\"outlinewidth\":0,\"ticks\":\"\"}},\"type\":\"scattermapbox\"}],\"scatterpolar\":[{\"marker\":{\"colorbar\":{\"outlinewidth\":0,\"ticks\":\"\"}},\"type\":\"scatterpolar\"}],\"scatterpolargl\":[{\"marker\":{\"colorbar\":{\"outlinewidth\":0,\"ticks\":\"\"}},\"type\":\"scatterpolargl\"}],\"scatterternary\":[{\"marker\":{\"colorbar\":{\"outlinewidth\":0,\"ticks\":\"\"}},\"type\":\"scatterternary\"}],\"surface\":[{\"colorbar\":{\"outlinewidth\":0,\"ticks\":\"\"},\"colorscale\":[[0.0,\"#0d0887\"],[0.1111111111111111,\"#46039f\"],[0.2222222222222222,\"#7201a8\"],[0.3333333333333333,\"#9c179e\"],[0.4444444444444444,\"#bd3786\"],[0.5555555555555556,\"#d8576b\"],[0.6666666666666666,\"#ed7953\"],[0.7777777777777778,\"#fb9f3a\"],[0.8888888888888888,\"#fdca26\"],[1.0,\"#f0f921\"]],\"type\":\"surface\"}],\"table\":[{\"cells\":{\"fill\":{\"color\":\"#EBF0F8\"},\"line\":{\"color\":\"white\"}},\"header\":{\"fill\":{\"color\":\"#C8D4E3\"},\"line\":{\"color\":\"white\"}},\"type\":\"table\"}]},\"layout\":{\"annotationdefaults\":{\"arrowcolor\":\"#2a3f5f\",\"arrowhead\":0,\"arrowwidth\":1},\"autotypenumbers\":\"strict\",\"coloraxis\":{\"colorbar\":{\"outlinewidth\":0,\"ticks\":\"\"}},\"colorscale\":{\"diverging\":[[0,\"#8e0152\"],[0.1,\"#c51b7d\"],[0.2,\"#de77ae\"],[0.3,\"#f1b6da\"],[0.4,\"#fde0ef\"],[0.5,\"#f7f7f7\"],[0.6,\"#e6f5d0\"],[0.7,\"#b8e186\"],[0.8,\"#7fbc41\"],[0.9,\"#4d9221\"],[1,\"#276419\"]],\"sequential\":[[0.0,\"#0d0887\"],[0.1111111111111111,\"#46039f\"],[0.2222222222222222,\"#7201a8\"],[0.3333333333333333,\"#9c179e\"],[0.4444444444444444,\"#bd3786\"],[0.5555555555555556,\"#d8576b\"],[0.6666666666666666,\"#ed7953\"],[0.7777777777777778,\"#fb9f3a\"],[0.8888888888888888,\"#fdca26\"],[1.0,\"#f0f921\"]],\"sequentialminus\":[[0.0,\"#0d0887\"],[0.1111111111111111,\"#46039f\"],[0.2222222222222222,\"#7201a8\"],[0.3333333333333333,\"#9c179e\"],[0.4444444444444444,\"#bd3786\"],[0.5555555555555556,\"#d8576b\"],[0.6666666666666666,\"#ed7953\"],[0.7777777777777778,\"#fb9f3a\"],[0.8888888888888888,\"#fdca26\"],[1.0,\"#f0f921\"]]},\"colorway\":[\"#636efa\",\"#EF553B\",\"#00cc96\",\"#ab63fa\",\"#FFA15A\",\"#19d3f3\",\"#FF6692\",\"#B6E880\",\"#FF97FF\",\"#FECB52\"],\"font\":{\"color\":\"#2a3f5f\"},\"geo\":{\"bgcolor\":\"white\",\"lakecolor\":\"white\",\"landcolor\":\"#E5ECF6\",\"showlakes\":true,\"showland\":true,\"subunitcolor\":\"white\"},\"hoverlabel\":{\"align\":\"left\"},\"hovermode\":\"closest\",\"mapbox\":{\"style\":\"light\"},\"paper_bgcolor\":\"white\",\"plot_bgcolor\":\"#E5ECF6\",\"polar\":{\"angularaxis\":{\"gridcolor\":\"white\",\"linecolor\":\"white\",\"ticks\":\"\"},\"bgcolor\":\"#E5ECF6\",\"radialaxis\":{\"gridcolor\":\"white\",\"linecolor\":\"white\",\"ticks\":\"\"}},\"scene\":{\"xaxis\":{\"backgroundcolor\":\"#E5ECF6\",\"gridcolor\":\"white\",\"gridwidth\":2,\"linecolor\":\"white\",\"showbackground\":true,\"ticks\":\"\",\"zerolinecolor\":\"white\"},\"yaxis\":{\"backgroundcolor\":\"#E5ECF6\",\"gridcolor\":\"white\",\"gridwidth\":2,\"linecolor\":\"white\",\"showbackground\":true,\"ticks\":\"\",\"zerolinecolor\":\"white\"},\"zaxis\":{\"backgroundcolor\":\"#E5ECF6\",\"gridcolor\":\"white\",\"gridwidth\":2,\"linecolor\":\"white\",\"showbackground\":true,\"ticks\":\"\",\"zerolinecolor\":\"white\"}},\"shapedefaults\":{\"line\":{\"color\":\"#2a3f5f\"}},\"ternary\":{\"aaxis\":{\"gridcolor\":\"white\",\"linecolor\":\"white\",\"ticks\":\"\"},\"baxis\":{\"gridcolor\":\"white\",\"linecolor\":\"white\",\"ticks\":\"\"},\"bgcolor\":\"#E5ECF6\",\"caxis\":{\"gridcolor\":\"white\",\"linecolor\":\"white\",\"ticks\":\"\"}},\"title\":{\"x\":0.05},\"xaxis\":{\"automargin\":true,\"gridcolor\":\"white\",\"linecolor\":\"white\",\"ticks\":\"\",\"title\":{\"standoff\":15},\"zerolinecolor\":\"white\",\"zerolinewidth\":2},\"yaxis\":{\"automargin\":true,\"gridcolor\":\"white\",\"linecolor\":\"white\",\"ticks\":\"\",\"title\":{\"standoff\":15},\"zerolinecolor\":\"white\",\"zerolinewidth\":2}}},\"xaxis\":{\"anchor\":\"y\",\"domain\":[0.0,1.0],\"title\":{\"text\":\"review_type\"}},\"yaxis\":{\"anchor\":\"x\",\"domain\":[0.0,1.0],\"title\":{\"text\":\"count\"}},\"legend\":{\"tracegroupgap\":0},\"title\":{\"text\":\"Distribusi label\"},\"barmode\":\"group\",\"height\":480,\"width\":480},                        {\"responsive\": true}                    ).then(function(){\n",
              "                            \n",
              "var gd = document.getElementById('caa7a37f-227e-44d0-a888-1bba45df03b0');\n",
              "var x = new MutationObserver(function (mutations, observer) {{\n",
              "        var display = window.getComputedStyle(gd).display;\n",
              "        if (!display || display === 'none') {{\n",
              "            console.log([gd, 'removed!']);\n",
              "            Plotly.purge(gd);\n",
              "            observer.disconnect();\n",
              "        }}\n",
              "}});\n",
              "\n",
              "// Listen for the removal of the full notebook cells\n",
              "var notebookContainer = gd.closest('#notebook-container');\n",
              "if (notebookContainer) {{\n",
              "    x.observe(notebookContainer, {childList: true});\n",
              "}}\n",
              "\n",
              "// Listen for the clearing of the current output cell\n",
              "var outputEl = gd.closest('.output');\n",
              "if (outputEl) {{\n",
              "    x.observe(outputEl, {childList: true});\n",
              "}}\n",
              "\n",
              "                        })                };                            </script>        </div>\n",
              "</body>\n",
              "</html>"
            ]
          },
          "metadata": {}
        }
      ]
    },
    {
      "cell_type": "code",
      "source": [
        "X = df[['review_content','rev_removesw']]\n",
        "y = df['review_type']"
      ],
      "metadata": {
        "id": "vJ1BGdfLS1tl"
      },
      "execution_count": null,
      "outputs": []
    },
    {
      "cell_type": "code",
      "source": [
        "from imblearn.under_sampling import RandomUnderSampler\n",
        "cc = RandomUnderSampler()\n",
        "X_resampled,y_resampled= cc.fit_resample(X,y)"
      ],
      "metadata": {
        "id": "Eq1wOtyPSXI1"
      },
      "execution_count": null,
      "outputs": []
    },
    {
      "cell_type": "code",
      "source": [
        "from collections import Counter"
      ],
      "metadata": {
        "id": "a1mhBsAASXI3"
      },
      "execution_count": null,
      "outputs": []
    },
    {
      "cell_type": "code",
      "source": [
        "print(sorted(Counter(y_resampled).items()))"
      ],
      "metadata": {
        "colab": {
          "base_uri": "https://localhost:8080/"
        },
        "outputId": "182c5c1a-25a1-45ac-8499-bfc657059dd9",
        "id": "msrMdwbMSXI4"
      },
      "execution_count": null,
      "outputs": [
        {
          "output_type": "stream",
          "name": "stdout",
          "text": [
            "[(0, 11757), (1, 11757)]\n"
          ]
        }
      ]
    },
    {
      "cell_type": "code",
      "source": [
        "unique, counts = np.unique(y_resampled, return_counts=True)\n",
        "\n",
        "print(unique,counts)"
      ],
      "metadata": {
        "colab": {
          "base_uri": "https://localhost:8080/"
        },
        "outputId": "038cc317-a6c9-4320-94b9-484d27b8b507",
        "id": "rfK3zT7QSXI5"
      },
      "execution_count": null,
      "outputs": [
        {
          "output_type": "stream",
          "name": "stdout",
          "text": [
            "[0 1] [11757 11757]\n"
          ]
        }
      ]
    },
    {
      "cell_type": "code",
      "source": [
        "df_resample = pd.DataFrame(X_resampled)\n",
        "df_resample = df_resample.join(y_resampled)"
      ],
      "metadata": {
        "id": "ltLm2iHOTFKF"
      },
      "execution_count": null,
      "outputs": []
    },
    {
      "cell_type": "code",
      "source": [
        "df_resample.head()"
      ],
      "metadata": {
        "colab": {
          "base_uri": "https://localhost:8080/",
          "height": 206
        },
        "id": "QIc7HhOJTV0u",
        "outputId": "bc0e26d8-ab25-4b65-b078-4af8afe83170"
      },
      "execution_count": null,
      "outputs": [
        {
          "output_type": "execute_result",
          "data": {
            "text/plain": [
              "                                      review_content  \\\n",
              "0  although [the movie] rightfully gives credit t...   \n",
              "1  davis went big...debuting film actor jovan ade...   \n",
              "2  mcqueen seems too enamored of his shorthand ar...   \n",
              "3  the contrast between hudson's stolid, genteel ...   \n",
              "4  a simple concept yields a complex portrait of ...   \n",
              "\n",
              "                                        rev_removesw  review_type  \n",
              "0  ['movie', 'rightfully', 'credit', 'defense', '...            0  \n",
              "1  ['davis', 'big', 'debuting', 'film', 'actor', ...            0  \n",
              "2  ['mcqueen', 'enamored', 'shorthand', 'art', 'h...            0  \n",
              "3  ['contrast', 'hudson', 'stolid', 'genteel', 'a...            0  \n",
              "4  ['simple', 'concept', 'yields', 'complex', 'po...            0  "
            ],
            "text/html": [
              "\n",
              "  <div id=\"df-57a943b9-09fd-44c1-a4f6-7643d4197e22\">\n",
              "    <div class=\"colab-df-container\">\n",
              "      <div>\n",
              "<style scoped>\n",
              "    .dataframe tbody tr th:only-of-type {\n",
              "        vertical-align: middle;\n",
              "    }\n",
              "\n",
              "    .dataframe tbody tr th {\n",
              "        vertical-align: top;\n",
              "    }\n",
              "\n",
              "    .dataframe thead th {\n",
              "        text-align: right;\n",
              "    }\n",
              "</style>\n",
              "<table border=\"1\" class=\"dataframe\">\n",
              "  <thead>\n",
              "    <tr style=\"text-align: right;\">\n",
              "      <th></th>\n",
              "      <th>review_content</th>\n",
              "      <th>rev_removesw</th>\n",
              "      <th>review_type</th>\n",
              "    </tr>\n",
              "  </thead>\n",
              "  <tbody>\n",
              "    <tr>\n",
              "      <th>0</th>\n",
              "      <td>although [the movie] rightfully gives credit t...</td>\n",
              "      <td>['movie', 'rightfully', 'credit', 'defense', '...</td>\n",
              "      <td>0</td>\n",
              "    </tr>\n",
              "    <tr>\n",
              "      <th>1</th>\n",
              "      <td>davis went big...debuting film actor jovan ade...</td>\n",
              "      <td>['davis', 'big', 'debuting', 'film', 'actor', ...</td>\n",
              "      <td>0</td>\n",
              "    </tr>\n",
              "    <tr>\n",
              "      <th>2</th>\n",
              "      <td>mcqueen seems too enamored of his shorthand ar...</td>\n",
              "      <td>['mcqueen', 'enamored', 'shorthand', 'art', 'h...</td>\n",
              "      <td>0</td>\n",
              "    </tr>\n",
              "    <tr>\n",
              "      <th>3</th>\n",
              "      <td>the contrast between hudson's stolid, genteel ...</td>\n",
              "      <td>['contrast', 'hudson', 'stolid', 'genteel', 'a...</td>\n",
              "      <td>0</td>\n",
              "    </tr>\n",
              "    <tr>\n",
              "      <th>4</th>\n",
              "      <td>a simple concept yields a complex portrait of ...</td>\n",
              "      <td>['simple', 'concept', 'yields', 'complex', 'po...</td>\n",
              "      <td>0</td>\n",
              "    </tr>\n",
              "  </tbody>\n",
              "</table>\n",
              "</div>\n",
              "      <button class=\"colab-df-convert\" onclick=\"convertToInteractive('df-57a943b9-09fd-44c1-a4f6-7643d4197e22')\"\n",
              "              title=\"Convert this dataframe to an interactive table.\"\n",
              "              style=\"display:none;\">\n",
              "        \n",
              "  <svg xmlns=\"http://www.w3.org/2000/svg\" height=\"24px\"viewBox=\"0 0 24 24\"\n",
              "       width=\"24px\">\n",
              "    <path d=\"M0 0h24v24H0V0z\" fill=\"none\"/>\n",
              "    <path d=\"M18.56 5.44l.94 2.06.94-2.06 2.06-.94-2.06-.94-.94-2.06-.94 2.06-2.06.94zm-11 1L8.5 8.5l.94-2.06 2.06-.94-2.06-.94L8.5 2.5l-.94 2.06-2.06.94zm10 10l.94 2.06.94-2.06 2.06-.94-2.06-.94-.94-2.06-.94 2.06-2.06.94z\"/><path d=\"M17.41 7.96l-1.37-1.37c-.4-.4-.92-.59-1.43-.59-.52 0-1.04.2-1.43.59L10.3 9.45l-7.72 7.72c-.78.78-.78 2.05 0 2.83L4 21.41c.39.39.9.59 1.41.59.51 0 1.02-.2 1.41-.59l7.78-7.78 2.81-2.81c.8-.78.8-2.07 0-2.86zM5.41 20L4 18.59l7.72-7.72 1.47 1.35L5.41 20z\"/>\n",
              "  </svg>\n",
              "      </button>\n",
              "      \n",
              "  <style>\n",
              "    .colab-df-container {\n",
              "      display:flex;\n",
              "      flex-wrap:wrap;\n",
              "      gap: 12px;\n",
              "    }\n",
              "\n",
              "    .colab-df-convert {\n",
              "      background-color: #E8F0FE;\n",
              "      border: none;\n",
              "      border-radius: 50%;\n",
              "      cursor: pointer;\n",
              "      display: none;\n",
              "      fill: #1967D2;\n",
              "      height: 32px;\n",
              "      padding: 0 0 0 0;\n",
              "      width: 32px;\n",
              "    }\n",
              "\n",
              "    .colab-df-convert:hover {\n",
              "      background-color: #E2EBFA;\n",
              "      box-shadow: 0px 1px 2px rgba(60, 64, 67, 0.3), 0px 1px 3px 1px rgba(60, 64, 67, 0.15);\n",
              "      fill: #174EA6;\n",
              "    }\n",
              "\n",
              "    [theme=dark] .colab-df-convert {\n",
              "      background-color: #3B4455;\n",
              "      fill: #D2E3FC;\n",
              "    }\n",
              "\n",
              "    [theme=dark] .colab-df-convert:hover {\n",
              "      background-color: #434B5C;\n",
              "      box-shadow: 0px 1px 3px 1px rgba(0, 0, 0, 0.15);\n",
              "      filter: drop-shadow(0px 1px 2px rgba(0, 0, 0, 0.3));\n",
              "      fill: #FFFFFF;\n",
              "    }\n",
              "  </style>\n",
              "\n",
              "      <script>\n",
              "        const buttonEl =\n",
              "          document.querySelector('#df-57a943b9-09fd-44c1-a4f6-7643d4197e22 button.colab-df-convert');\n",
              "        buttonEl.style.display =\n",
              "          google.colab.kernel.accessAllowed ? 'block' : 'none';\n",
              "\n",
              "        async function convertToInteractive(key) {\n",
              "          const element = document.querySelector('#df-57a943b9-09fd-44c1-a4f6-7643d4197e22');\n",
              "          const dataTable =\n",
              "            await google.colab.kernel.invokeFunction('convertToInteractive',\n",
              "                                                     [key], {});\n",
              "          if (!dataTable) return;\n",
              "\n",
              "          const docLinkHtml = 'Like what you see? Visit the ' +\n",
              "            '<a target=\"_blank\" href=https://colab.research.google.com/notebooks/data_table.ipynb>data table notebook</a>'\n",
              "            + ' to learn more about interactive tables.';\n",
              "          element.innerHTML = '';\n",
              "          dataTable['output_type'] = 'display_data';\n",
              "          await google.colab.output.renderOutput(dataTable, element);\n",
              "          const docLink = document.createElement('div');\n",
              "          docLink.innerHTML = docLinkHtml;\n",
              "          element.appendChild(docLink);\n",
              "        }\n",
              "      </script>\n",
              "    </div>\n",
              "  </div>\n",
              "  "
            ]
          },
          "metadata": {},
          "execution_count": 13
        }
      ]
    },
    {
      "cell_type": "code",
      "source": [
        "import seaborn as sns\n",
        "import plotly.express as px\n",
        "fig = px.bar(df_resample.groupby('review_type').size().reset_index(name='count'), \n",
        "             x='review_type', y='count', width=480, height=480, \n",
        "             barmode='group', title='Distribusi label')\n",
        "fig.show(renderer='colab')"
      ],
      "metadata": {
        "colab": {
          "base_uri": "https://localhost:8080/",
          "height": 497
        },
        "id": "G2A08qb2TcJv",
        "outputId": "7f407e32-47b5-4d93-8a03-378930d1acf6"
      },
      "execution_count": null,
      "outputs": [
        {
          "output_type": "display_data",
          "data": {
            "text/html": [
              "<html>\n",
              "<head><meta charset=\"utf-8\" /></head>\n",
              "<body>\n",
              "    <div>            <script src=\"https://cdnjs.cloudflare.com/ajax/libs/mathjax/2.7.5/MathJax.js?config=TeX-AMS-MML_SVG\"></script><script type=\"text/javascript\">if (window.MathJax) {MathJax.Hub.Config({SVG: {font: \"STIX-Web\"}});}</script>                <script type=\"text/javascript\">window.PlotlyConfig = {MathJaxConfig: 'local'};</script>\n",
              "        <script src=\"https://cdn.plot.ly/plotly-2.8.3.min.js\"></script>                <div id=\"0c115089-e6dd-4144-9b9f-ea73f70f5bc3\" class=\"plotly-graph-div\" style=\"height:480px; width:480px;\"></div>            <script type=\"text/javascript\">                                    window.PLOTLYENV=window.PLOTLYENV || {};                                    if (document.getElementById(\"0c115089-e6dd-4144-9b9f-ea73f70f5bc3\")) {                    Plotly.newPlot(                        \"0c115089-e6dd-4144-9b9f-ea73f70f5bc3\",                        [{\"alignmentgroup\":\"True\",\"hovertemplate\":\"review_type=%{x}<br>count=%{y}<extra></extra>\",\"legendgroup\":\"\",\"marker\":{\"color\":\"#636efa\",\"pattern\":{\"shape\":\"\"}},\"name\":\"\",\"offsetgroup\":\"\",\"orientation\":\"v\",\"showlegend\":false,\"textposition\":\"auto\",\"x\":[0,1],\"xaxis\":\"x\",\"y\":[11757,11757],\"yaxis\":\"y\",\"type\":\"bar\"}],                        {\"template\":{\"data\":{\"bar\":[{\"error_x\":{\"color\":\"#2a3f5f\"},\"error_y\":{\"color\":\"#2a3f5f\"},\"marker\":{\"line\":{\"color\":\"#E5ECF6\",\"width\":0.5},\"pattern\":{\"fillmode\":\"overlay\",\"size\":10,\"solidity\":0.2}},\"type\":\"bar\"}],\"barpolar\":[{\"marker\":{\"line\":{\"color\":\"#E5ECF6\",\"width\":0.5},\"pattern\":{\"fillmode\":\"overlay\",\"size\":10,\"solidity\":0.2}},\"type\":\"barpolar\"}],\"carpet\":[{\"aaxis\":{\"endlinecolor\":\"#2a3f5f\",\"gridcolor\":\"white\",\"linecolor\":\"white\",\"minorgridcolor\":\"white\",\"startlinecolor\":\"#2a3f5f\"},\"baxis\":{\"endlinecolor\":\"#2a3f5f\",\"gridcolor\":\"white\",\"linecolor\":\"white\",\"minorgridcolor\":\"white\",\"startlinecolor\":\"#2a3f5f\"},\"type\":\"carpet\"}],\"choropleth\":[{\"colorbar\":{\"outlinewidth\":0,\"ticks\":\"\"},\"type\":\"choropleth\"}],\"contour\":[{\"colorbar\":{\"outlinewidth\":0,\"ticks\":\"\"},\"colorscale\":[[0.0,\"#0d0887\"],[0.1111111111111111,\"#46039f\"],[0.2222222222222222,\"#7201a8\"],[0.3333333333333333,\"#9c179e\"],[0.4444444444444444,\"#bd3786\"],[0.5555555555555556,\"#d8576b\"],[0.6666666666666666,\"#ed7953\"],[0.7777777777777778,\"#fb9f3a\"],[0.8888888888888888,\"#fdca26\"],[1.0,\"#f0f921\"]],\"type\":\"contour\"}],\"contourcarpet\":[{\"colorbar\":{\"outlinewidth\":0,\"ticks\":\"\"},\"type\":\"contourcarpet\"}],\"heatmap\":[{\"colorbar\":{\"outlinewidth\":0,\"ticks\":\"\"},\"colorscale\":[[0.0,\"#0d0887\"],[0.1111111111111111,\"#46039f\"],[0.2222222222222222,\"#7201a8\"],[0.3333333333333333,\"#9c179e\"],[0.4444444444444444,\"#bd3786\"],[0.5555555555555556,\"#d8576b\"],[0.6666666666666666,\"#ed7953\"],[0.7777777777777778,\"#fb9f3a\"],[0.8888888888888888,\"#fdca26\"],[1.0,\"#f0f921\"]],\"type\":\"heatmap\"}],\"heatmapgl\":[{\"colorbar\":{\"outlinewidth\":0,\"ticks\":\"\"},\"colorscale\":[[0.0,\"#0d0887\"],[0.1111111111111111,\"#46039f\"],[0.2222222222222222,\"#7201a8\"],[0.3333333333333333,\"#9c179e\"],[0.4444444444444444,\"#bd3786\"],[0.5555555555555556,\"#d8576b\"],[0.6666666666666666,\"#ed7953\"],[0.7777777777777778,\"#fb9f3a\"],[0.8888888888888888,\"#fdca26\"],[1.0,\"#f0f921\"]],\"type\":\"heatmapgl\"}],\"histogram\":[{\"marker\":{\"pattern\":{\"fillmode\":\"overlay\",\"size\":10,\"solidity\":0.2}},\"type\":\"histogram\"}],\"histogram2d\":[{\"colorbar\":{\"outlinewidth\":0,\"ticks\":\"\"},\"colorscale\":[[0.0,\"#0d0887\"],[0.1111111111111111,\"#46039f\"],[0.2222222222222222,\"#7201a8\"],[0.3333333333333333,\"#9c179e\"],[0.4444444444444444,\"#bd3786\"],[0.5555555555555556,\"#d8576b\"],[0.6666666666666666,\"#ed7953\"],[0.7777777777777778,\"#fb9f3a\"],[0.8888888888888888,\"#fdca26\"],[1.0,\"#f0f921\"]],\"type\":\"histogram2d\"}],\"histogram2dcontour\":[{\"colorbar\":{\"outlinewidth\":0,\"ticks\":\"\"},\"colorscale\":[[0.0,\"#0d0887\"],[0.1111111111111111,\"#46039f\"],[0.2222222222222222,\"#7201a8\"],[0.3333333333333333,\"#9c179e\"],[0.4444444444444444,\"#bd3786\"],[0.5555555555555556,\"#d8576b\"],[0.6666666666666666,\"#ed7953\"],[0.7777777777777778,\"#fb9f3a\"],[0.8888888888888888,\"#fdca26\"],[1.0,\"#f0f921\"]],\"type\":\"histogram2dcontour\"}],\"mesh3d\":[{\"colorbar\":{\"outlinewidth\":0,\"ticks\":\"\"},\"type\":\"mesh3d\"}],\"parcoords\":[{\"line\":{\"colorbar\":{\"outlinewidth\":0,\"ticks\":\"\"}},\"type\":\"parcoords\"}],\"pie\":[{\"automargin\":true,\"type\":\"pie\"}],\"scatter\":[{\"marker\":{\"colorbar\":{\"outlinewidth\":0,\"ticks\":\"\"}},\"type\":\"scatter\"}],\"scatter3d\":[{\"line\":{\"colorbar\":{\"outlinewidth\":0,\"ticks\":\"\"}},\"marker\":{\"colorbar\":{\"outlinewidth\":0,\"ticks\":\"\"}},\"type\":\"scatter3d\"}],\"scattercarpet\":[{\"marker\":{\"colorbar\":{\"outlinewidth\":0,\"ticks\":\"\"}},\"type\":\"scattercarpet\"}],\"scattergeo\":[{\"marker\":{\"colorbar\":{\"outlinewidth\":0,\"ticks\":\"\"}},\"type\":\"scattergeo\"}],\"scattergl\":[{\"marker\":{\"colorbar\":{\"outlinewidth\":0,\"ticks\":\"\"}},\"type\":\"scattergl\"}],\"scattermapbox\":[{\"marker\":{\"colorbar\":{\"outlinewidth\":0,\"ticks\":\"\"}},\"type\":\"scattermapbox\"}],\"scatterpolar\":[{\"marker\":{\"colorbar\":{\"outlinewidth\":0,\"ticks\":\"\"}},\"type\":\"scatterpolar\"}],\"scatterpolargl\":[{\"marker\":{\"colorbar\":{\"outlinewidth\":0,\"ticks\":\"\"}},\"type\":\"scatterpolargl\"}],\"scatterternary\":[{\"marker\":{\"colorbar\":{\"outlinewidth\":0,\"ticks\":\"\"}},\"type\":\"scatterternary\"}],\"surface\":[{\"colorbar\":{\"outlinewidth\":0,\"ticks\":\"\"},\"colorscale\":[[0.0,\"#0d0887\"],[0.1111111111111111,\"#46039f\"],[0.2222222222222222,\"#7201a8\"],[0.3333333333333333,\"#9c179e\"],[0.4444444444444444,\"#bd3786\"],[0.5555555555555556,\"#d8576b\"],[0.6666666666666666,\"#ed7953\"],[0.7777777777777778,\"#fb9f3a\"],[0.8888888888888888,\"#fdca26\"],[1.0,\"#f0f921\"]],\"type\":\"surface\"}],\"table\":[{\"cells\":{\"fill\":{\"color\":\"#EBF0F8\"},\"line\":{\"color\":\"white\"}},\"header\":{\"fill\":{\"color\":\"#C8D4E3\"},\"line\":{\"color\":\"white\"}},\"type\":\"table\"}]},\"layout\":{\"annotationdefaults\":{\"arrowcolor\":\"#2a3f5f\",\"arrowhead\":0,\"arrowwidth\":1},\"autotypenumbers\":\"strict\",\"coloraxis\":{\"colorbar\":{\"outlinewidth\":0,\"ticks\":\"\"}},\"colorscale\":{\"diverging\":[[0,\"#8e0152\"],[0.1,\"#c51b7d\"],[0.2,\"#de77ae\"],[0.3,\"#f1b6da\"],[0.4,\"#fde0ef\"],[0.5,\"#f7f7f7\"],[0.6,\"#e6f5d0\"],[0.7,\"#b8e186\"],[0.8,\"#7fbc41\"],[0.9,\"#4d9221\"],[1,\"#276419\"]],\"sequential\":[[0.0,\"#0d0887\"],[0.1111111111111111,\"#46039f\"],[0.2222222222222222,\"#7201a8\"],[0.3333333333333333,\"#9c179e\"],[0.4444444444444444,\"#bd3786\"],[0.5555555555555556,\"#d8576b\"],[0.6666666666666666,\"#ed7953\"],[0.7777777777777778,\"#fb9f3a\"],[0.8888888888888888,\"#fdca26\"],[1.0,\"#f0f921\"]],\"sequentialminus\":[[0.0,\"#0d0887\"],[0.1111111111111111,\"#46039f\"],[0.2222222222222222,\"#7201a8\"],[0.3333333333333333,\"#9c179e\"],[0.4444444444444444,\"#bd3786\"],[0.5555555555555556,\"#d8576b\"],[0.6666666666666666,\"#ed7953\"],[0.7777777777777778,\"#fb9f3a\"],[0.8888888888888888,\"#fdca26\"],[1.0,\"#f0f921\"]]},\"colorway\":[\"#636efa\",\"#EF553B\",\"#00cc96\",\"#ab63fa\",\"#FFA15A\",\"#19d3f3\",\"#FF6692\",\"#B6E880\",\"#FF97FF\",\"#FECB52\"],\"font\":{\"color\":\"#2a3f5f\"},\"geo\":{\"bgcolor\":\"white\",\"lakecolor\":\"white\",\"landcolor\":\"#E5ECF6\",\"showlakes\":true,\"showland\":true,\"subunitcolor\":\"white\"},\"hoverlabel\":{\"align\":\"left\"},\"hovermode\":\"closest\",\"mapbox\":{\"style\":\"light\"},\"paper_bgcolor\":\"white\",\"plot_bgcolor\":\"#E5ECF6\",\"polar\":{\"angularaxis\":{\"gridcolor\":\"white\",\"linecolor\":\"white\",\"ticks\":\"\"},\"bgcolor\":\"#E5ECF6\",\"radialaxis\":{\"gridcolor\":\"white\",\"linecolor\":\"white\",\"ticks\":\"\"}},\"scene\":{\"xaxis\":{\"backgroundcolor\":\"#E5ECF6\",\"gridcolor\":\"white\",\"gridwidth\":2,\"linecolor\":\"white\",\"showbackground\":true,\"ticks\":\"\",\"zerolinecolor\":\"white\"},\"yaxis\":{\"backgroundcolor\":\"#E5ECF6\",\"gridcolor\":\"white\",\"gridwidth\":2,\"linecolor\":\"white\",\"showbackground\":true,\"ticks\":\"\",\"zerolinecolor\":\"white\"},\"zaxis\":{\"backgroundcolor\":\"#E5ECF6\",\"gridcolor\":\"white\",\"gridwidth\":2,\"linecolor\":\"white\",\"showbackground\":true,\"ticks\":\"\",\"zerolinecolor\":\"white\"}},\"shapedefaults\":{\"line\":{\"color\":\"#2a3f5f\"}},\"ternary\":{\"aaxis\":{\"gridcolor\":\"white\",\"linecolor\":\"white\",\"ticks\":\"\"},\"baxis\":{\"gridcolor\":\"white\",\"linecolor\":\"white\",\"ticks\":\"\"},\"bgcolor\":\"#E5ECF6\",\"caxis\":{\"gridcolor\":\"white\",\"linecolor\":\"white\",\"ticks\":\"\"}},\"title\":{\"x\":0.05},\"xaxis\":{\"automargin\":true,\"gridcolor\":\"white\",\"linecolor\":\"white\",\"ticks\":\"\",\"title\":{\"standoff\":15},\"zerolinecolor\":\"white\",\"zerolinewidth\":2},\"yaxis\":{\"automargin\":true,\"gridcolor\":\"white\",\"linecolor\":\"white\",\"ticks\":\"\",\"title\":{\"standoff\":15},\"zerolinecolor\":\"white\",\"zerolinewidth\":2}}},\"xaxis\":{\"anchor\":\"y\",\"domain\":[0.0,1.0],\"title\":{\"text\":\"review_type\"}},\"yaxis\":{\"anchor\":\"x\",\"domain\":[0.0,1.0],\"title\":{\"text\":\"count\"}},\"legend\":{\"tracegroupgap\":0},\"title\":{\"text\":\"Distribusi label\"},\"barmode\":\"group\",\"height\":480,\"width\":480},                        {\"responsive\": true}                    ).then(function(){\n",
              "                            \n",
              "var gd = document.getElementById('0c115089-e6dd-4144-9b9f-ea73f70f5bc3');\n",
              "var x = new MutationObserver(function (mutations, observer) {{\n",
              "        var display = window.getComputedStyle(gd).display;\n",
              "        if (!display || display === 'none') {{\n",
              "            console.log([gd, 'removed!']);\n",
              "            Plotly.purge(gd);\n",
              "            observer.disconnect();\n",
              "        }}\n",
              "}});\n",
              "\n",
              "// Listen for the removal of the full notebook cells\n",
              "var notebookContainer = gd.closest('#notebook-container');\n",
              "if (notebookContainer) {{\n",
              "    x.observe(notebookContainer, {childList: true});\n",
              "}}\n",
              "\n",
              "// Listen for the clearing of the current output cell\n",
              "var outputEl = gd.closest('.output');\n",
              "if (outputEl) {{\n",
              "    x.observe(outputEl, {childList: true});\n",
              "}}\n",
              "\n",
              "                        })                };                            </script>        </div>\n",
              "</body>\n",
              "</html>"
            ]
          },
          "metadata": {}
        }
      ]
    },
    {
      "cell_type": "code",
      "source": [
        "#df_resample.to_csv('drive/My Drive/TUGAS AKHIR/DATASET_2/Final Dataset/data_resample_nostem.csv')"
      ],
      "metadata": {
        "id": "UgzH4D_mX7im"
      },
      "execution_count": null,
      "outputs": []
    },
    {
      "cell_type": "code",
      "source": [
        "df = pd.read_csv('drive/My Drive/TUGAS AKHIR/DATASET_2/Final Dataset/data_resample_nostem.csv')\n",
        "df.head()"
      ],
      "metadata": {
        "colab": {
          "base_uri": "https://localhost:8080/",
          "height": 206
        },
        "id": "RMMxz3tjXob9",
        "outputId": "a6057dbb-b59e-4aba-ca39-21004c009ba2"
      },
      "execution_count": null,
      "outputs": [
        {
          "output_type": "execute_result",
          "data": {
            "text/plain": [
              "   Unnamed: 0                                     review_content  \\\n",
              "0           0  although [the movie] rightfully gives credit t...   \n",
              "1           1  davis went big...debuting film actor jovan ade...   \n",
              "2           2  mcqueen seems too enamored of his shorthand ar...   \n",
              "3           3  the contrast between hudson's stolid, genteel ...   \n",
              "4           4  a simple concept yields a complex portrait of ...   \n",
              "\n",
              "                                        rev_removesw  review_type  \n",
              "0  ['movie', 'rightfully', 'credit', 'defense', '...            0  \n",
              "1  ['davis', 'big', 'debuting', 'film', 'actor', ...            0  \n",
              "2  ['mcqueen', 'enamored', 'shorthand', 'art', 'h...            0  \n",
              "3  ['contrast', 'hudson', 'stolid', 'genteel', 'a...            0  \n",
              "4  ['simple', 'concept', 'yields', 'complex', 'po...            0  "
            ],
            "text/html": [
              "\n",
              "  <div id=\"df-7eea986a-9e25-44d5-8d5d-5685870bb302\">\n",
              "    <div class=\"colab-df-container\">\n",
              "      <div>\n",
              "<style scoped>\n",
              "    .dataframe tbody tr th:only-of-type {\n",
              "        vertical-align: middle;\n",
              "    }\n",
              "\n",
              "    .dataframe tbody tr th {\n",
              "        vertical-align: top;\n",
              "    }\n",
              "\n",
              "    .dataframe thead th {\n",
              "        text-align: right;\n",
              "    }\n",
              "</style>\n",
              "<table border=\"1\" class=\"dataframe\">\n",
              "  <thead>\n",
              "    <tr style=\"text-align: right;\">\n",
              "      <th></th>\n",
              "      <th>Unnamed: 0</th>\n",
              "      <th>review_content</th>\n",
              "      <th>rev_removesw</th>\n",
              "      <th>review_type</th>\n",
              "    </tr>\n",
              "  </thead>\n",
              "  <tbody>\n",
              "    <tr>\n",
              "      <th>0</th>\n",
              "      <td>0</td>\n",
              "      <td>although [the movie] rightfully gives credit t...</td>\n",
              "      <td>['movie', 'rightfully', 'credit', 'defense', '...</td>\n",
              "      <td>0</td>\n",
              "    </tr>\n",
              "    <tr>\n",
              "      <th>1</th>\n",
              "      <td>1</td>\n",
              "      <td>davis went big...debuting film actor jovan ade...</td>\n",
              "      <td>['davis', 'big', 'debuting', 'film', 'actor', ...</td>\n",
              "      <td>0</td>\n",
              "    </tr>\n",
              "    <tr>\n",
              "      <th>2</th>\n",
              "      <td>2</td>\n",
              "      <td>mcqueen seems too enamored of his shorthand ar...</td>\n",
              "      <td>['mcqueen', 'enamored', 'shorthand', 'art', 'h...</td>\n",
              "      <td>0</td>\n",
              "    </tr>\n",
              "    <tr>\n",
              "      <th>3</th>\n",
              "      <td>3</td>\n",
              "      <td>the contrast between hudson's stolid, genteel ...</td>\n",
              "      <td>['contrast', 'hudson', 'stolid', 'genteel', 'a...</td>\n",
              "      <td>0</td>\n",
              "    </tr>\n",
              "    <tr>\n",
              "      <th>4</th>\n",
              "      <td>4</td>\n",
              "      <td>a simple concept yields a complex portrait of ...</td>\n",
              "      <td>['simple', 'concept', 'yields', 'complex', 'po...</td>\n",
              "      <td>0</td>\n",
              "    </tr>\n",
              "  </tbody>\n",
              "</table>\n",
              "</div>\n",
              "      <button class=\"colab-df-convert\" onclick=\"convertToInteractive('df-7eea986a-9e25-44d5-8d5d-5685870bb302')\"\n",
              "              title=\"Convert this dataframe to an interactive table.\"\n",
              "              style=\"display:none;\">\n",
              "        \n",
              "  <svg xmlns=\"http://www.w3.org/2000/svg\" height=\"24px\"viewBox=\"0 0 24 24\"\n",
              "       width=\"24px\">\n",
              "    <path d=\"M0 0h24v24H0V0z\" fill=\"none\"/>\n",
              "    <path d=\"M18.56 5.44l.94 2.06.94-2.06 2.06-.94-2.06-.94-.94-2.06-.94 2.06-2.06.94zm-11 1L8.5 8.5l.94-2.06 2.06-.94-2.06-.94L8.5 2.5l-.94 2.06-2.06.94zm10 10l.94 2.06.94-2.06 2.06-.94-2.06-.94-.94-2.06-.94 2.06-2.06.94z\"/><path d=\"M17.41 7.96l-1.37-1.37c-.4-.4-.92-.59-1.43-.59-.52 0-1.04.2-1.43.59L10.3 9.45l-7.72 7.72c-.78.78-.78 2.05 0 2.83L4 21.41c.39.39.9.59 1.41.59.51 0 1.02-.2 1.41-.59l7.78-7.78 2.81-2.81c.8-.78.8-2.07 0-2.86zM5.41 20L4 18.59l7.72-7.72 1.47 1.35L5.41 20z\"/>\n",
              "  </svg>\n",
              "      </button>\n",
              "      \n",
              "  <style>\n",
              "    .colab-df-container {\n",
              "      display:flex;\n",
              "      flex-wrap:wrap;\n",
              "      gap: 12px;\n",
              "    }\n",
              "\n",
              "    .colab-df-convert {\n",
              "      background-color: #E8F0FE;\n",
              "      border: none;\n",
              "      border-radius: 50%;\n",
              "      cursor: pointer;\n",
              "      display: none;\n",
              "      fill: #1967D2;\n",
              "      height: 32px;\n",
              "      padding: 0 0 0 0;\n",
              "      width: 32px;\n",
              "    }\n",
              "\n",
              "    .colab-df-convert:hover {\n",
              "      background-color: #E2EBFA;\n",
              "      box-shadow: 0px 1px 2px rgba(60, 64, 67, 0.3), 0px 1px 3px 1px rgba(60, 64, 67, 0.15);\n",
              "      fill: #174EA6;\n",
              "    }\n",
              "\n",
              "    [theme=dark] .colab-df-convert {\n",
              "      background-color: #3B4455;\n",
              "      fill: #D2E3FC;\n",
              "    }\n",
              "\n",
              "    [theme=dark] .colab-df-convert:hover {\n",
              "      background-color: #434B5C;\n",
              "      box-shadow: 0px 1px 3px 1px rgba(0, 0, 0, 0.15);\n",
              "      filter: drop-shadow(0px 1px 2px rgba(0, 0, 0, 0.3));\n",
              "      fill: #FFFFFF;\n",
              "    }\n",
              "  </style>\n",
              "\n",
              "      <script>\n",
              "        const buttonEl =\n",
              "          document.querySelector('#df-7eea986a-9e25-44d5-8d5d-5685870bb302 button.colab-df-convert');\n",
              "        buttonEl.style.display =\n",
              "          google.colab.kernel.accessAllowed ? 'block' : 'none';\n",
              "\n",
              "        async function convertToInteractive(key) {\n",
              "          const element = document.querySelector('#df-7eea986a-9e25-44d5-8d5d-5685870bb302');\n",
              "          const dataTable =\n",
              "            await google.colab.kernel.invokeFunction('convertToInteractive',\n",
              "                                                     [key], {});\n",
              "          if (!dataTable) return;\n",
              "\n",
              "          const docLinkHtml = 'Like what you see? Visit the ' +\n",
              "            '<a target=\"_blank\" href=https://colab.research.google.com/notebooks/data_table.ipynb>data table notebook</a>'\n",
              "            + ' to learn more about interactive tables.';\n",
              "          element.innerHTML = '';\n",
              "          dataTable['output_type'] = 'display_data';\n",
              "          await google.colab.output.renderOutput(dataTable, element);\n",
              "          const docLink = document.createElement('div');\n",
              "          docLink.innerHTML = docLinkHtml;\n",
              "          element.appendChild(docLink);\n",
              "        }\n",
              "      </script>\n",
              "    </div>\n",
              "  </div>\n",
              "  "
            ]
          },
          "metadata": {},
          "execution_count": 16
        }
      ]
    },
    {
      "cell_type": "code",
      "source": [
        "print('Sentiment : ', df.groupby(['review_type'])['review_type'].count())"
      ],
      "metadata": {
        "colab": {
          "base_uri": "https://localhost:8080/"
        },
        "id": "3W1gchrXhzWT",
        "outputId": "49db1352-8510-41f2-beaf-2e93f64f1156"
      },
      "execution_count": null,
      "outputs": [
        {
          "output_type": "stream",
          "name": "stdout",
          "text": [
            "Sentiment :  review_type\n",
            "0    11757\n",
            "1    11757\n",
            "Name: review_type, dtype: int64\n"
          ]
        }
      ]
    },
    {
      "cell_type": "code",
      "execution_count": null,
      "metadata": {
        "id": "7ssq978c63Kf"
      },
      "outputs": [],
      "source": [
        "#masukkan kata ke dalam list soalnya kalo ga pake ini, dia datanya perkata untuk di pake data LDA\n",
        "def convert_text_list(texts): \n",
        "    texts = ast.literal_eval(texts)\n",
        "    return [text for text in texts]\n",
        "def listToString(s):  \n",
        "    \n",
        "    # initialize an empty string \n",
        "    str1 = \" \" \n",
        "    \n",
        "    # return string   \n",
        "    return (str1.join(s)) "
      ]
    },
    {
      "cell_type": "code",
      "execution_count": null,
      "metadata": {
        "id": "NPWU3Il4630Q"
      },
      "outputs": [],
      "source": [
        "df[\"rev_list\"] = df['rev_removesw'].apply(convert_text_list)\n",
        "df[\"rev_kalimat\"] = df[\"rev_list\"].apply(listToString)"
      ]
    },
    {
      "cell_type": "code",
      "execution_count": null,
      "metadata": {
        "colab": {
          "base_uri": "https://localhost:8080/",
          "height": 372
        },
        "id": "Y4mniK5s7I__",
        "outputId": "2545e8fc-b1fd-42c8-e6ba-9cc559b57cf5"
      },
      "outputs": [
        {
          "output_type": "execute_result",
          "data": {
            "text/plain": [
              "   Unnamed: 0                                     review_content  \\\n",
              "0           0  although [the movie] rightfully gives credit t...   \n",
              "1           1  davis went big...debuting film actor jovan ade...   \n",
              "2           2  mcqueen seems too enamored of his shorthand ar...   \n",
              "3           3  the contrast between hudson's stolid, genteel ...   \n",
              "4           4  a simple concept yields a complex portrait of ...   \n",
              "\n",
              "                                        rev_removesw  review_type  \\\n",
              "0  ['movie', 'rightfully', 'credit', 'defense', '...            0   \n",
              "1  ['davis', 'big', 'debuting', 'film', 'actor', ...            0   \n",
              "2  ['mcqueen', 'enamored', 'shorthand', 'art', 'h...            0   \n",
              "3  ['contrast', 'hudson', 'stolid', 'genteel', 'a...            0   \n",
              "4  ['simple', 'concept', 'yields', 'complex', 'po...            0   \n",
              "\n",
              "                                            rev_list  \\\n",
              "0  [movie, rightfully, credit, defense, team, doc...   \n",
              "1  [davis, big, debuting, film, actor, jovan, ade...   \n",
              "2  [mcqueen, enamored, shorthand, art, house, sym...   \n",
              "3  [contrast, hudson, stolid, genteel, acting, st...   \n",
              "4  [simple, concept, yields, complex, portrait, c...   \n",
              "\n",
              "                                         rev_kalimat  \n",
              "0  movie rightfully credit defense team documenta...  \n",
              "1   davis big debuting film actor jovan adepo shines  \n",
              "2  mcqueen enamored shorthand art house symbolism...  \n",
              "3  contrast hudson stolid genteel acting style de...  \n",
              "4  simple concept yields complex portrait contemp...  "
            ],
            "text/html": [
              "\n",
              "  <div id=\"df-d6c8d8a5-39d5-4069-9977-7ed52e9936f6\">\n",
              "    <div class=\"colab-df-container\">\n",
              "      <div>\n",
              "<style scoped>\n",
              "    .dataframe tbody tr th:only-of-type {\n",
              "        vertical-align: middle;\n",
              "    }\n",
              "\n",
              "    .dataframe tbody tr th {\n",
              "        vertical-align: top;\n",
              "    }\n",
              "\n",
              "    .dataframe thead th {\n",
              "        text-align: right;\n",
              "    }\n",
              "</style>\n",
              "<table border=\"1\" class=\"dataframe\">\n",
              "  <thead>\n",
              "    <tr style=\"text-align: right;\">\n",
              "      <th></th>\n",
              "      <th>Unnamed: 0</th>\n",
              "      <th>review_content</th>\n",
              "      <th>rev_removesw</th>\n",
              "      <th>review_type</th>\n",
              "      <th>rev_list</th>\n",
              "      <th>rev_kalimat</th>\n",
              "    </tr>\n",
              "  </thead>\n",
              "  <tbody>\n",
              "    <tr>\n",
              "      <th>0</th>\n",
              "      <td>0</td>\n",
              "      <td>although [the movie] rightfully gives credit t...</td>\n",
              "      <td>['movie', 'rightfully', 'credit', 'defense', '...</td>\n",
              "      <td>0</td>\n",
              "      <td>[movie, rightfully, credit, defense, team, doc...</td>\n",
              "      <td>movie rightfully credit defense team documenta...</td>\n",
              "    </tr>\n",
              "    <tr>\n",
              "      <th>1</th>\n",
              "      <td>1</td>\n",
              "      <td>davis went big...debuting film actor jovan ade...</td>\n",
              "      <td>['davis', 'big', 'debuting', 'film', 'actor', ...</td>\n",
              "      <td>0</td>\n",
              "      <td>[davis, big, debuting, film, actor, jovan, ade...</td>\n",
              "      <td>davis big debuting film actor jovan adepo shines</td>\n",
              "    </tr>\n",
              "    <tr>\n",
              "      <th>2</th>\n",
              "      <td>2</td>\n",
              "      <td>mcqueen seems too enamored of his shorthand ar...</td>\n",
              "      <td>['mcqueen', 'enamored', 'shorthand', 'art', 'h...</td>\n",
              "      <td>0</td>\n",
              "      <td>[mcqueen, enamored, shorthand, art, house, sym...</td>\n",
              "      <td>mcqueen enamored shorthand art house symbolism...</td>\n",
              "    </tr>\n",
              "    <tr>\n",
              "      <th>3</th>\n",
              "      <td>3</td>\n",
              "      <td>the contrast between hudson's stolid, genteel ...</td>\n",
              "      <td>['contrast', 'hudson', 'stolid', 'genteel', 'a...</td>\n",
              "      <td>0</td>\n",
              "      <td>[contrast, hudson, stolid, genteel, acting, st...</td>\n",
              "      <td>contrast hudson stolid genteel acting style de...</td>\n",
              "    </tr>\n",
              "    <tr>\n",
              "      <th>4</th>\n",
              "      <td>4</td>\n",
              "      <td>a simple concept yields a complex portrait of ...</td>\n",
              "      <td>['simple', 'concept', 'yields', 'complex', 'po...</td>\n",
              "      <td>0</td>\n",
              "      <td>[simple, concept, yields, complex, portrait, c...</td>\n",
              "      <td>simple concept yields complex portrait contemp...</td>\n",
              "    </tr>\n",
              "  </tbody>\n",
              "</table>\n",
              "</div>\n",
              "      <button class=\"colab-df-convert\" onclick=\"convertToInteractive('df-d6c8d8a5-39d5-4069-9977-7ed52e9936f6')\"\n",
              "              title=\"Convert this dataframe to an interactive table.\"\n",
              "              style=\"display:none;\">\n",
              "        \n",
              "  <svg xmlns=\"http://www.w3.org/2000/svg\" height=\"24px\"viewBox=\"0 0 24 24\"\n",
              "       width=\"24px\">\n",
              "    <path d=\"M0 0h24v24H0V0z\" fill=\"none\"/>\n",
              "    <path d=\"M18.56 5.44l.94 2.06.94-2.06 2.06-.94-2.06-.94-.94-2.06-.94 2.06-2.06.94zm-11 1L8.5 8.5l.94-2.06 2.06-.94-2.06-.94L8.5 2.5l-.94 2.06-2.06.94zm10 10l.94 2.06.94-2.06 2.06-.94-2.06-.94-.94-2.06-.94 2.06-2.06.94z\"/><path d=\"M17.41 7.96l-1.37-1.37c-.4-.4-.92-.59-1.43-.59-.52 0-1.04.2-1.43.59L10.3 9.45l-7.72 7.72c-.78.78-.78 2.05 0 2.83L4 21.41c.39.39.9.59 1.41.59.51 0 1.02-.2 1.41-.59l7.78-7.78 2.81-2.81c.8-.78.8-2.07 0-2.86zM5.41 20L4 18.59l7.72-7.72 1.47 1.35L5.41 20z\"/>\n",
              "  </svg>\n",
              "      </button>\n",
              "      \n",
              "  <style>\n",
              "    .colab-df-container {\n",
              "      display:flex;\n",
              "      flex-wrap:wrap;\n",
              "      gap: 12px;\n",
              "    }\n",
              "\n",
              "    .colab-df-convert {\n",
              "      background-color: #E8F0FE;\n",
              "      border: none;\n",
              "      border-radius: 50%;\n",
              "      cursor: pointer;\n",
              "      display: none;\n",
              "      fill: #1967D2;\n",
              "      height: 32px;\n",
              "      padding: 0 0 0 0;\n",
              "      width: 32px;\n",
              "    }\n",
              "\n",
              "    .colab-df-convert:hover {\n",
              "      background-color: #E2EBFA;\n",
              "      box-shadow: 0px 1px 2px rgba(60, 64, 67, 0.3), 0px 1px 3px 1px rgba(60, 64, 67, 0.15);\n",
              "      fill: #174EA6;\n",
              "    }\n",
              "\n",
              "    [theme=dark] .colab-df-convert {\n",
              "      background-color: #3B4455;\n",
              "      fill: #D2E3FC;\n",
              "    }\n",
              "\n",
              "    [theme=dark] .colab-df-convert:hover {\n",
              "      background-color: #434B5C;\n",
              "      box-shadow: 0px 1px 3px 1px rgba(0, 0, 0, 0.15);\n",
              "      filter: drop-shadow(0px 1px 2px rgba(0, 0, 0, 0.3));\n",
              "      fill: #FFFFFF;\n",
              "    }\n",
              "  </style>\n",
              "\n",
              "      <script>\n",
              "        const buttonEl =\n",
              "          document.querySelector('#df-d6c8d8a5-39d5-4069-9977-7ed52e9936f6 button.colab-df-convert');\n",
              "        buttonEl.style.display =\n",
              "          google.colab.kernel.accessAllowed ? 'block' : 'none';\n",
              "\n",
              "        async function convertToInteractive(key) {\n",
              "          const element = document.querySelector('#df-d6c8d8a5-39d5-4069-9977-7ed52e9936f6');\n",
              "          const dataTable =\n",
              "            await google.colab.kernel.invokeFunction('convertToInteractive',\n",
              "                                                     [key], {});\n",
              "          if (!dataTable) return;\n",
              "\n",
              "          const docLinkHtml = 'Like what you see? Visit the ' +\n",
              "            '<a target=\"_blank\" href=https://colab.research.google.com/notebooks/data_table.ipynb>data table notebook</a>'\n",
              "            + ' to learn more about interactive tables.';\n",
              "          element.innerHTML = '';\n",
              "          dataTable['output_type'] = 'display_data';\n",
              "          await google.colab.output.renderOutput(dataTable, element);\n",
              "          const docLink = document.createElement('div');\n",
              "          docLink.innerHTML = docLinkHtml;\n",
              "          element.appendChild(docLink);\n",
              "        }\n",
              "      </script>\n",
              "    </div>\n",
              "  </div>\n",
              "  "
            ]
          },
          "metadata": {},
          "execution_count": 20
        }
      ],
      "source": [
        "df.head()"
      ]
    },
    {
      "cell_type": "code",
      "source": [
        "df.isna().sum()"
      ],
      "metadata": {
        "colab": {
          "base_uri": "https://localhost:8080/"
        },
        "id": "bFRQv_qwW58p",
        "outputId": "ee52e46f-9b25-44e0-868b-95c2564e6239"
      },
      "execution_count": null,
      "outputs": [
        {
          "output_type": "execute_result",
          "data": {
            "text/plain": [
              "Unnamed: 0        0\n",
              "review_content    3\n",
              "rev_removesw      0\n",
              "review_type       0\n",
              "rev_list          0\n",
              "rev_kalimat       0\n",
              "dtype: int64"
            ]
          },
          "metadata": {},
          "execution_count": 21
        }
      ]
    },
    {
      "cell_type": "code",
      "source": [
        "df = df.dropna()"
      ],
      "metadata": {
        "id": "JjOj0X3DW97c"
      },
      "execution_count": null,
      "outputs": []
    },
    {
      "cell_type": "code",
      "source": [
        "df.isna().sum()"
      ],
      "metadata": {
        "colab": {
          "base_uri": "https://localhost:8080/"
        },
        "id": "I8cV2NriXCf6",
        "outputId": "a609902b-36fd-455b-ae38-a3f407e3d691"
      },
      "execution_count": null,
      "outputs": [
        {
          "output_type": "execute_result",
          "data": {
            "text/plain": [
              "Unnamed: 0        0\n",
              "review_content    0\n",
              "rev_removesw      0\n",
              "review_type       0\n",
              "rev_list          0\n",
              "rev_kalimat       0\n",
              "dtype: int64"
            ]
          },
          "metadata": {},
          "execution_count": 23
        }
      ]
    },
    {
      "cell_type": "code",
      "source": [
        "df.info()"
      ],
      "metadata": {
        "colab": {
          "base_uri": "https://localhost:8080/"
        },
        "id": "-beWiGIkYoJL",
        "outputId": "f79c40ed-1773-42c1-c815-76bec47e65cc"
      },
      "execution_count": null,
      "outputs": [
        {
          "output_type": "stream",
          "name": "stdout",
          "text": [
            "<class 'pandas.core.frame.DataFrame'>\n",
            "Int64Index: 23511 entries, 0 to 23513\n",
            "Data columns (total 6 columns):\n",
            " #   Column          Non-Null Count  Dtype \n",
            "---  ------          --------------  ----- \n",
            " 0   Unnamed: 0      23511 non-null  int64 \n",
            " 1   review_content  23511 non-null  object\n",
            " 2   rev_removesw    23511 non-null  object\n",
            " 3   review_type     23511 non-null  int64 \n",
            " 4   rev_list        23511 non-null  object\n",
            " 5   rev_kalimat     23511 non-null  object\n",
            "dtypes: int64(2), object(4)\n",
            "memory usage: 1.3+ MB\n"
          ]
        }
      ]
    },
    {
      "cell_type": "markdown",
      "source": [
        "Split data"
      ],
      "metadata": {
        "id": "Pd5FPf0HX-uZ"
      }
    },
    {
      "cell_type": "code",
      "source": [
        "from sklearn.model_selection import train_test_split\n",
        "import numpy as np\n",
        "\n",
        "def splitData(df):\n",
        "    X_train, X_test, y_train, y_test = train_test_split(df[['review_content','rev_list','rev_kalimat']], df['review_type'], test_size = 0.3, random_state= 42, shuffle = True)\n",
        "\n",
        "    df_train = pd.DataFrame(y_train)  \n",
        "    df_train = df_train.join(X_train)\n",
        "\n",
        "    df_test = pd.DataFrame(y_test)\n",
        "    df_test = df_test.join(X_test)\n",
        "\n",
        "    return df_train, df_test"
      ],
      "metadata": {
        "id": "QYCra_4vgWmF"
      },
      "execution_count": null,
      "outputs": []
    },
    {
      "cell_type": "code",
      "source": [
        "data_train, data_test = splitData(df)"
      ],
      "metadata": {
        "id": "QdB2ou7Wg8j_"
      },
      "execution_count": null,
      "outputs": []
    },
    {
      "cell_type": "code",
      "source": [
        "data_train"
      ],
      "metadata": {
        "colab": {
          "base_uri": "https://localhost:8080/",
          "height": 624
        },
        "id": "jvz4Tk9LaEGq",
        "outputId": "3a0b244e-1e6b-473c-ee06-12a4f14ba174"
      },
      "execution_count": null,
      "outputs": [
        {
          "output_type": "execute_result",
          "data": {
            "text/plain": [
              "       review_type                                     review_content  \\\n",
              "14475            1  there is quite a bit to dark places that appea...   \n",
              "18185            1  the film tries to cover the logic gaps with co...   \n",
              "3796             0  #unfit is a timely and vital documentary on th...   \n",
              "14280            1  what starts out as a promising comic thriller ...   \n",
              "1281             0          i was pleasantly surprised by this movie.   \n",
              "...            ...                                                ...   \n",
              "11965            1  the ten commandments may have been impressive ...   \n",
              "21578            1  not as weird or fun as it sounds, the delibera...   \n",
              "5391             0  another beautifully rendered portrait of troub...   \n",
              "861              0  splendid pictorial composition and dramatic li...   \n",
              "15796            1  the final revelation here ... is as prepostero...   \n",
              "\n",
              "                                                rev_list  \\\n",
              "14475  [bit, dark, places, appears, marketable, surface]   \n",
              "18185  [film, cover, logic, gaps, comedy, jokes, bad,...   \n",
              "3796   [unfit, timely, vital, documentary, nature, pr...   \n",
              "14280  [starts, promising, comic, thriller, deflates,...   \n",
              "1281                      [pleasantly, surprised, movie]   \n",
              "...                                                  ...   \n",
              "11965  [commandments, impressive, time, film, horribl...   \n",
              "21578  [weird, fun, sounds, deliberately, paced, film...   \n",
              "5391   [beautifully, rendered, portrait, troubled, ho...   \n",
              "861    [splendid, pictorial, composition, dramatic, l...   \n",
              "15796  [final, revelation, preposterous, rest, movie,...   \n",
              "\n",
              "                                             rev_kalimat  \n",
              "14475         bit dark places appears marketable surface  \n",
              "18185  film cover logic gaps comedy jokes bad worsen ...  \n",
              "3796   unfit timely vital documentary nature presiden...  \n",
              "14280  starts promising comic thriller deflates clear...  \n",
              "1281                          pleasantly surprised movie  \n",
              "...                                                  ...  \n",
              "11965  commandments impressive time film horribly fai...  \n",
              "21578  weird fun sounds deliberately paced film dabbl...  \n",
              "5391   beautifully rendered portrait troubled hopeful...  \n",
              "861    splendid pictorial composition dramatic lighti...  \n",
              "15796   final revelation preposterous rest movie generic  \n",
              "\n",
              "[16457 rows x 4 columns]"
            ],
            "text/html": [
              "\n",
              "  <div id=\"df-e7844e4c-94fa-450c-8b80-a45124a2a8e7\">\n",
              "    <div class=\"colab-df-container\">\n",
              "      <div>\n",
              "<style scoped>\n",
              "    .dataframe tbody tr th:only-of-type {\n",
              "        vertical-align: middle;\n",
              "    }\n",
              "\n",
              "    .dataframe tbody tr th {\n",
              "        vertical-align: top;\n",
              "    }\n",
              "\n",
              "    .dataframe thead th {\n",
              "        text-align: right;\n",
              "    }\n",
              "</style>\n",
              "<table border=\"1\" class=\"dataframe\">\n",
              "  <thead>\n",
              "    <tr style=\"text-align: right;\">\n",
              "      <th></th>\n",
              "      <th>review_type</th>\n",
              "      <th>review_content</th>\n",
              "      <th>rev_list</th>\n",
              "      <th>rev_kalimat</th>\n",
              "    </tr>\n",
              "  </thead>\n",
              "  <tbody>\n",
              "    <tr>\n",
              "      <th>14475</th>\n",
              "      <td>1</td>\n",
              "      <td>there is quite a bit to dark places that appea...</td>\n",
              "      <td>[bit, dark, places, appears, marketable, surface]</td>\n",
              "      <td>bit dark places appears marketable surface</td>\n",
              "    </tr>\n",
              "    <tr>\n",
              "      <th>18185</th>\n",
              "      <td>1</td>\n",
              "      <td>the film tries to cover the logic gaps with co...</td>\n",
              "      <td>[film, cover, logic, gaps, comedy, jokes, bad,...</td>\n",
              "      <td>film cover logic gaps comedy jokes bad worsen ...</td>\n",
              "    </tr>\n",
              "    <tr>\n",
              "      <th>3796</th>\n",
              "      <td>0</td>\n",
              "      <td>#unfit is a timely and vital documentary on th...</td>\n",
              "      <td>[unfit, timely, vital, documentary, nature, pr...</td>\n",
              "      <td>unfit timely vital documentary nature presiden...</td>\n",
              "    </tr>\n",
              "    <tr>\n",
              "      <th>14280</th>\n",
              "      <td>1</td>\n",
              "      <td>what starts out as a promising comic thriller ...</td>\n",
              "      <td>[starts, promising, comic, thriller, deflates,...</td>\n",
              "      <td>starts promising comic thriller deflates clear...</td>\n",
              "    </tr>\n",
              "    <tr>\n",
              "      <th>1281</th>\n",
              "      <td>0</td>\n",
              "      <td>i was pleasantly surprised by this movie.</td>\n",
              "      <td>[pleasantly, surprised, movie]</td>\n",
              "      <td>pleasantly surprised movie</td>\n",
              "    </tr>\n",
              "    <tr>\n",
              "      <th>...</th>\n",
              "      <td>...</td>\n",
              "      <td>...</td>\n",
              "      <td>...</td>\n",
              "      <td>...</td>\n",
              "    </tr>\n",
              "    <tr>\n",
              "      <th>11965</th>\n",
              "      <td>1</td>\n",
              "      <td>the ten commandments may have been impressive ...</td>\n",
              "      <td>[commandments, impressive, time, film, horribl...</td>\n",
              "      <td>commandments impressive time film horribly fai...</td>\n",
              "    </tr>\n",
              "    <tr>\n",
              "      <th>21578</th>\n",
              "      <td>1</td>\n",
              "      <td>not as weird or fun as it sounds, the delibera...</td>\n",
              "      <td>[weird, fun, sounds, deliberately, paced, film...</td>\n",
              "      <td>weird fun sounds deliberately paced film dabbl...</td>\n",
              "    </tr>\n",
              "    <tr>\n",
              "      <th>5391</th>\n",
              "      <td>0</td>\n",
              "      <td>another beautifully rendered portrait of troub...</td>\n",
              "      <td>[beautifully, rendered, portrait, troubled, ho...</td>\n",
              "      <td>beautifully rendered portrait troubled hopeful...</td>\n",
              "    </tr>\n",
              "    <tr>\n",
              "      <th>861</th>\n",
              "      <td>0</td>\n",
              "      <td>splendid pictorial composition and dramatic li...</td>\n",
              "      <td>[splendid, pictorial, composition, dramatic, l...</td>\n",
              "      <td>splendid pictorial composition dramatic lighti...</td>\n",
              "    </tr>\n",
              "    <tr>\n",
              "      <th>15796</th>\n",
              "      <td>1</td>\n",
              "      <td>the final revelation here ... is as prepostero...</td>\n",
              "      <td>[final, revelation, preposterous, rest, movie,...</td>\n",
              "      <td>final revelation preposterous rest movie generic</td>\n",
              "    </tr>\n",
              "  </tbody>\n",
              "</table>\n",
              "<p>16457 rows × 4 columns</p>\n",
              "</div>\n",
              "      <button class=\"colab-df-convert\" onclick=\"convertToInteractive('df-e7844e4c-94fa-450c-8b80-a45124a2a8e7')\"\n",
              "              title=\"Convert this dataframe to an interactive table.\"\n",
              "              style=\"display:none;\">\n",
              "        \n",
              "  <svg xmlns=\"http://www.w3.org/2000/svg\" height=\"24px\"viewBox=\"0 0 24 24\"\n",
              "       width=\"24px\">\n",
              "    <path d=\"M0 0h24v24H0V0z\" fill=\"none\"/>\n",
              "    <path d=\"M18.56 5.44l.94 2.06.94-2.06 2.06-.94-2.06-.94-.94-2.06-.94 2.06-2.06.94zm-11 1L8.5 8.5l.94-2.06 2.06-.94-2.06-.94L8.5 2.5l-.94 2.06-2.06.94zm10 10l.94 2.06.94-2.06 2.06-.94-2.06-.94-.94-2.06-.94 2.06-2.06.94z\"/><path d=\"M17.41 7.96l-1.37-1.37c-.4-.4-.92-.59-1.43-.59-.52 0-1.04.2-1.43.59L10.3 9.45l-7.72 7.72c-.78.78-.78 2.05 0 2.83L4 21.41c.39.39.9.59 1.41.59.51 0 1.02-.2 1.41-.59l7.78-7.78 2.81-2.81c.8-.78.8-2.07 0-2.86zM5.41 20L4 18.59l7.72-7.72 1.47 1.35L5.41 20z\"/>\n",
              "  </svg>\n",
              "      </button>\n",
              "      \n",
              "  <style>\n",
              "    .colab-df-container {\n",
              "      display:flex;\n",
              "      flex-wrap:wrap;\n",
              "      gap: 12px;\n",
              "    }\n",
              "\n",
              "    .colab-df-convert {\n",
              "      background-color: #E8F0FE;\n",
              "      border: none;\n",
              "      border-radius: 50%;\n",
              "      cursor: pointer;\n",
              "      display: none;\n",
              "      fill: #1967D2;\n",
              "      height: 32px;\n",
              "      padding: 0 0 0 0;\n",
              "      width: 32px;\n",
              "    }\n",
              "\n",
              "    .colab-df-convert:hover {\n",
              "      background-color: #E2EBFA;\n",
              "      box-shadow: 0px 1px 2px rgba(60, 64, 67, 0.3), 0px 1px 3px 1px rgba(60, 64, 67, 0.15);\n",
              "      fill: #174EA6;\n",
              "    }\n",
              "\n",
              "    [theme=dark] .colab-df-convert {\n",
              "      background-color: #3B4455;\n",
              "      fill: #D2E3FC;\n",
              "    }\n",
              "\n",
              "    [theme=dark] .colab-df-convert:hover {\n",
              "      background-color: #434B5C;\n",
              "      box-shadow: 0px 1px 3px 1px rgba(0, 0, 0, 0.15);\n",
              "      filter: drop-shadow(0px 1px 2px rgba(0, 0, 0, 0.3));\n",
              "      fill: #FFFFFF;\n",
              "    }\n",
              "  </style>\n",
              "\n",
              "      <script>\n",
              "        const buttonEl =\n",
              "          document.querySelector('#df-e7844e4c-94fa-450c-8b80-a45124a2a8e7 button.colab-df-convert');\n",
              "        buttonEl.style.display =\n",
              "          google.colab.kernel.accessAllowed ? 'block' : 'none';\n",
              "\n",
              "        async function convertToInteractive(key) {\n",
              "          const element = document.querySelector('#df-e7844e4c-94fa-450c-8b80-a45124a2a8e7');\n",
              "          const dataTable =\n",
              "            await google.colab.kernel.invokeFunction('convertToInteractive',\n",
              "                                                     [key], {});\n",
              "          if (!dataTable) return;\n",
              "\n",
              "          const docLinkHtml = 'Like what you see? Visit the ' +\n",
              "            '<a target=\"_blank\" href=https://colab.research.google.com/notebooks/data_table.ipynb>data table notebook</a>'\n",
              "            + ' to learn more about interactive tables.';\n",
              "          element.innerHTML = '';\n",
              "          dataTable['output_type'] = 'display_data';\n",
              "          await google.colab.output.renderOutput(dataTable, element);\n",
              "          const docLink = document.createElement('div');\n",
              "          docLink.innerHTML = docLinkHtml;\n",
              "          element.appendChild(docLink);\n",
              "        }\n",
              "      </script>\n",
              "    </div>\n",
              "  </div>\n",
              "  "
            ]
          },
          "metadata": {},
          "execution_count": 27
        }
      ]
    },
    {
      "cell_type": "code",
      "source": [
        "data_train.to_csv('drive/My Drive/TUGAS AKHIR/DATASET_2/Final Dataset/data_train_nostem.csv')"
      ],
      "metadata": {
        "id": "Qx4vM20ZZ42J"
      },
      "execution_count": null,
      "outputs": []
    },
    {
      "cell_type": "code",
      "source": [
        "data_test.to_csv('drive/My Drive/TUGAS AKHIR/DATASET_2/Final Dataset/data_test_nostem.csv')"
      ],
      "metadata": {
        "id": "55o8l6aKmHF9"
      },
      "execution_count": null,
      "outputs": []
    },
    {
      "cell_type": "code",
      "source": [
        "print('Jumlah Data :', len(data_train))\n",
        "print('Sentiment : ', data_train.groupby(['review_type'])['review_type'].count())"
      ],
      "metadata": {
        "colab": {
          "base_uri": "https://localhost:8080/"
        },
        "id": "a2zNQOmohKg_",
        "outputId": "07bbbc0e-0db5-4a53-bc9a-1bcd64ab8e3f"
      },
      "execution_count": null,
      "outputs": [
        {
          "output_type": "stream",
          "name": "stdout",
          "text": [
            "Jumlah Data : 16457\n",
            "Sentiment :  review_type\n",
            "0    8234\n",
            "1    8223\n",
            "Name: review_type, dtype: int64\n"
          ]
        }
      ]
    },
    {
      "cell_type": "code",
      "source": [
        "print('Jumlah Data :', len(data_test))\n",
        "print('Sentiment : ', data_test.groupby(['review_type'])['review_type'].count())"
      ],
      "metadata": {
        "colab": {
          "base_uri": "https://localhost:8080/"
        },
        "id": "5ncrlF28hSoW",
        "outputId": "efb17c6d-b160-44ee-d4ef-18bb991fd735"
      },
      "execution_count": null,
      "outputs": [
        {
          "output_type": "stream",
          "name": "stdout",
          "text": [
            "Jumlah Data : 7054\n",
            "Sentiment :  review_type\n",
            "0    3522\n",
            "1    3532\n",
            "Name: review_type, dtype: int64\n"
          ]
        }
      ]
    },
    {
      "cell_type": "markdown",
      "metadata": {
        "id": "B4Da4VGl61KN"
      },
      "source": [
        "#Word2Vec"
      ]
    },
    {
      "cell_type": "markdown",
      "source": [
        "##Train"
      ],
      "metadata": {
        "id": "NERu3JUA6r0N"
      }
    },
    {
      "cell_type": "code",
      "execution_count": null,
      "metadata": {
        "colab": {
          "base_uri": "https://localhost:8080/"
        },
        "id": "wvnvLiDK9oUx",
        "outputId": "eb9cdd27-127c-473b-baac-61c1741038f1"
      },
      "outputs": [
        {
          "output_type": "stream",
          "name": "stdout",
          "text": [
            "[nltk_data] Downloading package punkt to /root/nltk_data...\n",
            "[nltk_data]   Package punkt is already up-to-date!\n"
          ]
        }
      ],
      "source": [
        "import pandas as pd\n",
        "import numpy as np\n",
        "\n",
        "# w2v\n",
        "import joblib\n",
        "import ast\n",
        "import nltk\n",
        "nltk.download('punkt')\n",
        "import gensim\n",
        "from gensim.models import Word2Vec \n",
        "import itertools\n",
        "from nltk.tokenize import word_tokenize\n",
        "from sklearn.metrics import confusion_matrix"
      ]
    },
    {
      "cell_type": "code",
      "execution_count": null,
      "metadata": {
        "id": "hCVNkNPe7LPx"
      },
      "outputs": [],
      "source": [
        "Corpus_voc = [] \n",
        "temp = []\n",
        "# iterate through each sentence in the file \n",
        "for i in dataword2vec: \n",
        "  temp = [] \n",
        "  # tokenize the sentence into words \n",
        "  for j in word_tokenize(str(i)): \n",
        "      temp.append(j.lower()) \n",
        "  Corpus_voc.append(temp)"
      ]
    },
    {
      "cell_type": "code",
      "execution_count": null,
      "metadata": {
        "id": "__WeG-wT7Nsc"
      },
      "outputs": [],
      "source": [
        "data_train['rev_list'] = list(map(lambda sentences:\n",
        "                                         list(map(nltk.word_tokenize, sentences)),\n",
        "                                         data_train.rev_list))  # tokenize sentences"
      ]
    },
    {
      "cell_type": "code",
      "execution_count": null,
      "metadata": {
        "id": "YxZp8Vlf7YmB"
      },
      "outputs": [],
      "source": [
        "modelskip = Word2Vec(Corpus_voc, min_count = 1 , alpha = 0.1 , size=300, window=5, sg=1)"
      ]
    },
    {
      "cell_type": "code",
      "execution_count": null,
      "metadata": {
        "id": "tvrGLK2A7al5"
      },
      "outputs": [],
      "source": [
        "joblib.dump(modelskip, '/content/drive/My Drive/TUGAS AKHIR/TA/Code/word2vecskip.jl')\n",
        "skipgram = joblib.load('/content/drive/My Drive/TUGAS AKHIR/TA/Code/word2vecskip.jl')"
      ]
    },
    {
      "cell_type": "code",
      "execution_count": null,
      "metadata": {
        "id": "10hz0V0u7fw_"
      },
      "outputs": [],
      "source": [
        "def get_w2v_features(w2v_model, sentence_group):\n",
        "    words = np.concatenate(sentence_group)  # words in text\n",
        "    index2word_set = set(w2v_model.wv.vocab.keys())  # words known to model\n",
        "    \n",
        "    featureVec = np.zeros(w2v_model.vector_size, dtype=\"float32\")\n",
        "    \n",
        "    # Initialize a counter for number of words in a review\n",
        "    nwords = 0\n",
        "    # Loop over each word in the comment and, if it is in the model's vocabulary, add its feature vector to the total\n",
        "    for word in words:\n",
        "        if word in index2word_set: \n",
        "            featureVec = np.add(featureVec, w2v_model[word])\n",
        "            nwords += 1.\n",
        "\n",
        "    # Divide the result by the number of words to get the average\n",
        "    if nwords > 0:\n",
        "        featureVec = np.divide(featureVec, nwords)\n",
        "    return featureVec\n",
        "\n",
        "#mengambil arti dari semua vektor kata yang ada pada kalimat untuk mendapatkan representasi vektor "
      ]
    },
    {
      "cell_type": "code",
      "source": [
        "# memberi nomor index\n",
        "index_kosong = []\n",
        "for i in range(len(data_train.rev_list)):\n",
        "  if len(data_train.rev_list.iloc[i]) == 0:\n",
        "    index_kosong.append(i)"
      ],
      "metadata": {
        "id": "99-Y1lhzgKAG"
      },
      "execution_count": null,
      "outputs": []
    },
    {
      "cell_type": "code",
      "source": [
        "# drop index yang masih kosong \n",
        "data_train = data_train.drop(data_train.index[index_kosong])"
      ],
      "metadata": {
        "id": "VHjkcWhsgLWN"
      },
      "execution_count": null,
      "outputs": []
    },
    {
      "cell_type": "code",
      "source": [
        "data_train"
      ],
      "metadata": {
        "colab": {
          "base_uri": "https://localhost:8080/",
          "height": 624
        },
        "id": "eXvE9spRgTAl",
        "outputId": "3190e8f9-fe1f-4996-8068-da2ba7fe65a4"
      },
      "execution_count": null,
      "outputs": [
        {
          "output_type": "execute_result",
          "data": {
            "text/plain": [
              "       review_type                                     review_content  \\\n",
              "14475            1  there is quite a bit to dark places that appea...   \n",
              "18185            1  the film tries to cover the logic gaps with co...   \n",
              "3796             0  #unfit is a timely and vital documentary on th...   \n",
              "14280            1  what starts out as a promising comic thriller ...   \n",
              "1281             0          i was pleasantly surprised by this movie.   \n",
              "...            ...                                                ...   \n",
              "11965            1  the ten commandments may have been impressive ...   \n",
              "21578            1  not as weird or fun as it sounds, the delibera...   \n",
              "5391             0  another beautifully rendered portrait of troub...   \n",
              "861              0  splendid pictorial composition and dramatic li...   \n",
              "15796            1  the final revelation here ... is as prepostero...   \n",
              "\n",
              "                                                rev_list  \\\n",
              "14475  [[bit], [dark], [places], [appears], [marketab...   \n",
              "18185  [[film], [cover], [logic], [gaps], [comedy], [...   \n",
              "3796   [[unfit], [timely], [vital], [documentary], [n...   \n",
              "14280  [[starts], [promising], [comic], [thriller], [...   \n",
              "1281                [[pleasantly], [surprised], [movie]]   \n",
              "...                                                  ...   \n",
              "11965  [[commandments], [impressive], [time], [film],...   \n",
              "21578  [[weird], [fun], [sounds], [deliberately], [pa...   \n",
              "5391   [[beautifully], [rendered], [portrait], [troub...   \n",
              "861    [[splendid], [pictorial], [composition], [dram...   \n",
              "15796  [[final], [revelation], [preposterous], [rest]...   \n",
              "\n",
              "                                             rev_kalimat  \n",
              "14475         bit dark places appears marketable surface  \n",
              "18185  film cover logic gaps comedy jokes bad worsen ...  \n",
              "3796   unfit timely vital documentary nature presiden...  \n",
              "14280  starts promising comic thriller deflates clear...  \n",
              "1281                          pleasantly surprised movie  \n",
              "...                                                  ...  \n",
              "11965  commandments impressive time film horribly fai...  \n",
              "21578  weird fun sounds deliberately paced film dabbl...  \n",
              "5391   beautifully rendered portrait troubled hopeful...  \n",
              "861    splendid pictorial composition dramatic lighti...  \n",
              "15796   final revelation preposterous rest movie generic  \n",
              "\n",
              "[16443 rows x 4 columns]"
            ],
            "text/html": [
              "\n",
              "  <div id=\"df-29118d47-7470-4672-a084-9aeab64b2db4\">\n",
              "    <div class=\"colab-df-container\">\n",
              "      <div>\n",
              "<style scoped>\n",
              "    .dataframe tbody tr th:only-of-type {\n",
              "        vertical-align: middle;\n",
              "    }\n",
              "\n",
              "    .dataframe tbody tr th {\n",
              "        vertical-align: top;\n",
              "    }\n",
              "\n",
              "    .dataframe thead th {\n",
              "        text-align: right;\n",
              "    }\n",
              "</style>\n",
              "<table border=\"1\" class=\"dataframe\">\n",
              "  <thead>\n",
              "    <tr style=\"text-align: right;\">\n",
              "      <th></th>\n",
              "      <th>review_type</th>\n",
              "      <th>review_content</th>\n",
              "      <th>rev_list</th>\n",
              "      <th>rev_kalimat</th>\n",
              "    </tr>\n",
              "  </thead>\n",
              "  <tbody>\n",
              "    <tr>\n",
              "      <th>14475</th>\n",
              "      <td>1</td>\n",
              "      <td>there is quite a bit to dark places that appea...</td>\n",
              "      <td>[[bit], [dark], [places], [appears], [marketab...</td>\n",
              "      <td>bit dark places appears marketable surface</td>\n",
              "    </tr>\n",
              "    <tr>\n",
              "      <th>18185</th>\n",
              "      <td>1</td>\n",
              "      <td>the film tries to cover the logic gaps with co...</td>\n",
              "      <td>[[film], [cover], [logic], [gaps], [comedy], [...</td>\n",
              "      <td>film cover logic gaps comedy jokes bad worsen ...</td>\n",
              "    </tr>\n",
              "    <tr>\n",
              "      <th>3796</th>\n",
              "      <td>0</td>\n",
              "      <td>#unfit is a timely and vital documentary on th...</td>\n",
              "      <td>[[unfit], [timely], [vital], [documentary], [n...</td>\n",
              "      <td>unfit timely vital documentary nature presiden...</td>\n",
              "    </tr>\n",
              "    <tr>\n",
              "      <th>14280</th>\n",
              "      <td>1</td>\n",
              "      <td>what starts out as a promising comic thriller ...</td>\n",
              "      <td>[[starts], [promising], [comic], [thriller], [...</td>\n",
              "      <td>starts promising comic thriller deflates clear...</td>\n",
              "    </tr>\n",
              "    <tr>\n",
              "      <th>1281</th>\n",
              "      <td>0</td>\n",
              "      <td>i was pleasantly surprised by this movie.</td>\n",
              "      <td>[[pleasantly], [surprised], [movie]]</td>\n",
              "      <td>pleasantly surprised movie</td>\n",
              "    </tr>\n",
              "    <tr>\n",
              "      <th>...</th>\n",
              "      <td>...</td>\n",
              "      <td>...</td>\n",
              "      <td>...</td>\n",
              "      <td>...</td>\n",
              "    </tr>\n",
              "    <tr>\n",
              "      <th>11965</th>\n",
              "      <td>1</td>\n",
              "      <td>the ten commandments may have been impressive ...</td>\n",
              "      <td>[[commandments], [impressive], [time], [film],...</td>\n",
              "      <td>commandments impressive time film horribly fai...</td>\n",
              "    </tr>\n",
              "    <tr>\n",
              "      <th>21578</th>\n",
              "      <td>1</td>\n",
              "      <td>not as weird or fun as it sounds, the delibera...</td>\n",
              "      <td>[[weird], [fun], [sounds], [deliberately], [pa...</td>\n",
              "      <td>weird fun sounds deliberately paced film dabbl...</td>\n",
              "    </tr>\n",
              "    <tr>\n",
              "      <th>5391</th>\n",
              "      <td>0</td>\n",
              "      <td>another beautifully rendered portrait of troub...</td>\n",
              "      <td>[[beautifully], [rendered], [portrait], [troub...</td>\n",
              "      <td>beautifully rendered portrait troubled hopeful...</td>\n",
              "    </tr>\n",
              "    <tr>\n",
              "      <th>861</th>\n",
              "      <td>0</td>\n",
              "      <td>splendid pictorial composition and dramatic li...</td>\n",
              "      <td>[[splendid], [pictorial], [composition], [dram...</td>\n",
              "      <td>splendid pictorial composition dramatic lighti...</td>\n",
              "    </tr>\n",
              "    <tr>\n",
              "      <th>15796</th>\n",
              "      <td>1</td>\n",
              "      <td>the final revelation here ... is as prepostero...</td>\n",
              "      <td>[[final], [revelation], [preposterous], [rest]...</td>\n",
              "      <td>final revelation preposterous rest movie generic</td>\n",
              "    </tr>\n",
              "  </tbody>\n",
              "</table>\n",
              "<p>16443 rows × 4 columns</p>\n",
              "</div>\n",
              "      <button class=\"colab-df-convert\" onclick=\"convertToInteractive('df-29118d47-7470-4672-a084-9aeab64b2db4')\"\n",
              "              title=\"Convert this dataframe to an interactive table.\"\n",
              "              style=\"display:none;\">\n",
              "        \n",
              "  <svg xmlns=\"http://www.w3.org/2000/svg\" height=\"24px\"viewBox=\"0 0 24 24\"\n",
              "       width=\"24px\">\n",
              "    <path d=\"M0 0h24v24H0V0z\" fill=\"none\"/>\n",
              "    <path d=\"M18.56 5.44l.94 2.06.94-2.06 2.06-.94-2.06-.94-.94-2.06-.94 2.06-2.06.94zm-11 1L8.5 8.5l.94-2.06 2.06-.94-2.06-.94L8.5 2.5l-.94 2.06-2.06.94zm10 10l.94 2.06.94-2.06 2.06-.94-2.06-.94-.94-2.06-.94 2.06-2.06.94z\"/><path d=\"M17.41 7.96l-1.37-1.37c-.4-.4-.92-.59-1.43-.59-.52 0-1.04.2-1.43.59L10.3 9.45l-7.72 7.72c-.78.78-.78 2.05 0 2.83L4 21.41c.39.39.9.59 1.41.59.51 0 1.02-.2 1.41-.59l7.78-7.78 2.81-2.81c.8-.78.8-2.07 0-2.86zM5.41 20L4 18.59l7.72-7.72 1.47 1.35L5.41 20z\"/>\n",
              "  </svg>\n",
              "      </button>\n",
              "      \n",
              "  <style>\n",
              "    .colab-df-container {\n",
              "      display:flex;\n",
              "      flex-wrap:wrap;\n",
              "      gap: 12px;\n",
              "    }\n",
              "\n",
              "    .colab-df-convert {\n",
              "      background-color: #E8F0FE;\n",
              "      border: none;\n",
              "      border-radius: 50%;\n",
              "      cursor: pointer;\n",
              "      display: none;\n",
              "      fill: #1967D2;\n",
              "      height: 32px;\n",
              "      padding: 0 0 0 0;\n",
              "      width: 32px;\n",
              "    }\n",
              "\n",
              "    .colab-df-convert:hover {\n",
              "      background-color: #E2EBFA;\n",
              "      box-shadow: 0px 1px 2px rgba(60, 64, 67, 0.3), 0px 1px 3px 1px rgba(60, 64, 67, 0.15);\n",
              "      fill: #174EA6;\n",
              "    }\n",
              "\n",
              "    [theme=dark] .colab-df-convert {\n",
              "      background-color: #3B4455;\n",
              "      fill: #D2E3FC;\n",
              "    }\n",
              "\n",
              "    [theme=dark] .colab-df-convert:hover {\n",
              "      background-color: #434B5C;\n",
              "      box-shadow: 0px 1px 3px 1px rgba(0, 0, 0, 0.15);\n",
              "      filter: drop-shadow(0px 1px 2px rgba(0, 0, 0, 0.3));\n",
              "      fill: #FFFFFF;\n",
              "    }\n",
              "  </style>\n",
              "\n",
              "      <script>\n",
              "        const buttonEl =\n",
              "          document.querySelector('#df-29118d47-7470-4672-a084-9aeab64b2db4 button.colab-df-convert');\n",
              "        buttonEl.style.display =\n",
              "          google.colab.kernel.accessAllowed ? 'block' : 'none';\n",
              "\n",
              "        async function convertToInteractive(key) {\n",
              "          const element = document.querySelector('#df-29118d47-7470-4672-a084-9aeab64b2db4');\n",
              "          const dataTable =\n",
              "            await google.colab.kernel.invokeFunction('convertToInteractive',\n",
              "                                                     [key], {});\n",
              "          if (!dataTable) return;\n",
              "\n",
              "          const docLinkHtml = 'Like what you see? Visit the ' +\n",
              "            '<a target=\"_blank\" href=https://colab.research.google.com/notebooks/data_table.ipynb>data table notebook</a>'\n",
              "            + ' to learn more about interactive tables.';\n",
              "          element.innerHTML = '';\n",
              "          dataTable['output_type'] = 'display_data';\n",
              "          await google.colab.output.renderOutput(dataTable, element);\n",
              "          const docLink = document.createElement('div');\n",
              "          docLink.innerHTML = docLinkHtml;\n",
              "          element.appendChild(docLink);\n",
              "        }\n",
              "      </script>\n",
              "    </div>\n",
              "  </div>\n",
              "  "
            ]
          },
          "metadata": {},
          "execution_count": 41
        }
      ]
    },
    {
      "cell_type": "code",
      "execution_count": null,
      "metadata": {
        "id": "sDd2kqAD7_TY",
        "colab": {
          "base_uri": "https://localhost:8080/"
        },
        "outputId": "3999cfbe-1c3b-401e-ead1-ad5aebf322db"
      },
      "outputs": [
        {
          "output_type": "stream",
          "name": "stderr",
          "text": [
            "/usr/local/lib/python3.7/dist-packages/ipykernel_launcher.py:12: DeprecationWarning:\n",
            "\n",
            "Call to deprecated `__getitem__` (Method will be removed in 4.0.0, use self.wv.__getitem__() instead).\n",
            "\n"
          ]
        }
      ],
      "source": [
        "data_train['w2v_features_skip'] = list(map(lambda sen_group:\n",
        "                                      get_w2v_features(modelskip, sen_group),\n",
        "                                      data_train.rev_list))"
      ]
    },
    {
      "cell_type": "code",
      "execution_count": null,
      "metadata": {
        "id": "_Jvb9xgQ8FU1",
        "colab": {
          "base_uri": "https://localhost:8080/"
        },
        "outputId": "76fdb704-4a59-4af7-a069-59796c2f9302"
      },
      "outputs": [
        {
          "output_type": "stream",
          "name": "stdout",
          "text": [
            "(16443, 300)\n"
          ]
        }
      ],
      "source": [
        "feature = [x for x in data_train['w2v_features_skip'].transpose()]\n",
        "word2vec_with_stop_features_train = np.asarray(feature)\n",
        "\n",
        "print(word2vec_with_stop_features_train.shape)"
      ]
    },
    {
      "cell_type": "code",
      "source": [
        "X_train = word2vec_with_stop_features_train"
      ],
      "metadata": {
        "id": "DGdA1_If66Nl"
      },
      "execution_count": null,
      "outputs": []
    },
    {
      "cell_type": "code",
      "source": [
        "data_train"
      ],
      "metadata": {
        "id": "ank2psa8dGFb",
        "colab": {
          "base_uri": "https://localhost:8080/",
          "height": 728
        },
        "outputId": "211c50e1-02b9-40a0-a641-1de28db1aa1d"
      },
      "execution_count": null,
      "outputs": [
        {
          "output_type": "execute_result",
          "data": {
            "text/plain": [
              "       review_type                                     review_content  \\\n",
              "14475            1  there is quite a bit to dark places that appea...   \n",
              "18185            1  the film tries to cover the logic gaps with co...   \n",
              "3796             0  #unfit is a timely and vital documentary on th...   \n",
              "14280            1  what starts out as a promising comic thriller ...   \n",
              "1281             0          i was pleasantly surprised by this movie.   \n",
              "...            ...                                                ...   \n",
              "11965            1  the ten commandments may have been impressive ...   \n",
              "21578            1  not as weird or fun as it sounds, the delibera...   \n",
              "5391             0  another beautifully rendered portrait of troub...   \n",
              "861              0  splendid pictorial composition and dramatic li...   \n",
              "15796            1  the final revelation here ... is as prepostero...   \n",
              "\n",
              "                                                rev_list  \\\n",
              "14475  [[bit], [dark], [places], [appears], [marketab...   \n",
              "18185  [[film], [cover], [logic], [gaps], [comedy], [...   \n",
              "3796   [[unfit], [timely], [vital], [documentary], [n...   \n",
              "14280  [[starts], [promising], [comic], [thriller], [...   \n",
              "1281                [[pleasantly], [surprised], [movie]]   \n",
              "...                                                  ...   \n",
              "11965  [[commandments], [impressive], [time], [film],...   \n",
              "21578  [[weird], [fun], [sounds], [deliberately], [pa...   \n",
              "5391   [[beautifully], [rendered], [portrait], [troub...   \n",
              "861    [[splendid], [pictorial], [composition], [dram...   \n",
              "15796  [[final], [revelation], [preposterous], [rest]...   \n",
              "\n",
              "                                             rev_kalimat  \\\n",
              "14475         bit dark places appears marketable surface   \n",
              "18185  film cover logic gaps comedy jokes bad worsen ...   \n",
              "3796   unfit timely vital documentary nature presiden...   \n",
              "14280  starts promising comic thriller deflates clear...   \n",
              "1281                          pleasantly surprised movie   \n",
              "...                                                  ...   \n",
              "11965  commandments impressive time film horribly fai...   \n",
              "21578  weird fun sounds deliberately paced film dabbl...   \n",
              "5391   beautifully rendered portrait troubled hopeful...   \n",
              "861    splendid pictorial composition dramatic lighti...   \n",
              "15796   final revelation preposterous rest movie generic   \n",
              "\n",
              "                                       w2v_features_skip  \n",
              "14475  [0.017600805, 0.045525413, -0.07878978, -0.157...  \n",
              "18185  [0.03277949, -0.0046977606, -0.00041346115, -0...  \n",
              "3796   [0.125936, 0.07559951, 0.0491084, -0.075301684...  \n",
              "14280  [0.05142096, 0.04879675, 0.023469325, -0.02128...  \n",
              "1281   [-0.42745885, -0.019060785, -0.06350877, 0.053...  \n",
              "...                                                  ...  \n",
              "11965  [0.0014483721, 0.16194984, -0.0636947, -0.1311...  \n",
              "21578  [-0.13050662, 0.123967, 0.008662553, -0.189898...  \n",
              "5391   [0.12951027, 0.14490424, -0.1077309, -0.177131...  \n",
              "861    [-0.06982876, -0.014956219, 0.03542628, -0.273...  \n",
              "15796  [0.11065032, 0.07391938, 0.022459159, -0.17580...  \n",
              "\n",
              "[16443 rows x 5 columns]"
            ],
            "text/html": [
              "\n",
              "  <div id=\"df-bb4a3a65-14ca-4dbc-a831-bb754c7881d6\">\n",
              "    <div class=\"colab-df-container\">\n",
              "      <div>\n",
              "<style scoped>\n",
              "    .dataframe tbody tr th:only-of-type {\n",
              "        vertical-align: middle;\n",
              "    }\n",
              "\n",
              "    .dataframe tbody tr th {\n",
              "        vertical-align: top;\n",
              "    }\n",
              "\n",
              "    .dataframe thead th {\n",
              "        text-align: right;\n",
              "    }\n",
              "</style>\n",
              "<table border=\"1\" class=\"dataframe\">\n",
              "  <thead>\n",
              "    <tr style=\"text-align: right;\">\n",
              "      <th></th>\n",
              "      <th>review_type</th>\n",
              "      <th>review_content</th>\n",
              "      <th>rev_list</th>\n",
              "      <th>rev_kalimat</th>\n",
              "      <th>w2v_features_skip</th>\n",
              "    </tr>\n",
              "  </thead>\n",
              "  <tbody>\n",
              "    <tr>\n",
              "      <th>14475</th>\n",
              "      <td>1</td>\n",
              "      <td>there is quite a bit to dark places that appea...</td>\n",
              "      <td>[[bit], [dark], [places], [appears], [marketab...</td>\n",
              "      <td>bit dark places appears marketable surface</td>\n",
              "      <td>[0.017600805, 0.045525413, -0.07878978, -0.157...</td>\n",
              "    </tr>\n",
              "    <tr>\n",
              "      <th>18185</th>\n",
              "      <td>1</td>\n",
              "      <td>the film tries to cover the logic gaps with co...</td>\n",
              "      <td>[[film], [cover], [logic], [gaps], [comedy], [...</td>\n",
              "      <td>film cover logic gaps comedy jokes bad worsen ...</td>\n",
              "      <td>[0.03277949, -0.0046977606, -0.00041346115, -0...</td>\n",
              "    </tr>\n",
              "    <tr>\n",
              "      <th>3796</th>\n",
              "      <td>0</td>\n",
              "      <td>#unfit is a timely and vital documentary on th...</td>\n",
              "      <td>[[unfit], [timely], [vital], [documentary], [n...</td>\n",
              "      <td>unfit timely vital documentary nature presiden...</td>\n",
              "      <td>[0.125936, 0.07559951, 0.0491084, -0.075301684...</td>\n",
              "    </tr>\n",
              "    <tr>\n",
              "      <th>14280</th>\n",
              "      <td>1</td>\n",
              "      <td>what starts out as a promising comic thriller ...</td>\n",
              "      <td>[[starts], [promising], [comic], [thriller], [...</td>\n",
              "      <td>starts promising comic thriller deflates clear...</td>\n",
              "      <td>[0.05142096, 0.04879675, 0.023469325, -0.02128...</td>\n",
              "    </tr>\n",
              "    <tr>\n",
              "      <th>1281</th>\n",
              "      <td>0</td>\n",
              "      <td>i was pleasantly surprised by this movie.</td>\n",
              "      <td>[[pleasantly], [surprised], [movie]]</td>\n",
              "      <td>pleasantly surprised movie</td>\n",
              "      <td>[-0.42745885, -0.019060785, -0.06350877, 0.053...</td>\n",
              "    </tr>\n",
              "    <tr>\n",
              "      <th>...</th>\n",
              "      <td>...</td>\n",
              "      <td>...</td>\n",
              "      <td>...</td>\n",
              "      <td>...</td>\n",
              "      <td>...</td>\n",
              "    </tr>\n",
              "    <tr>\n",
              "      <th>11965</th>\n",
              "      <td>1</td>\n",
              "      <td>the ten commandments may have been impressive ...</td>\n",
              "      <td>[[commandments], [impressive], [time], [film],...</td>\n",
              "      <td>commandments impressive time film horribly fai...</td>\n",
              "      <td>[0.0014483721, 0.16194984, -0.0636947, -0.1311...</td>\n",
              "    </tr>\n",
              "    <tr>\n",
              "      <th>21578</th>\n",
              "      <td>1</td>\n",
              "      <td>not as weird or fun as it sounds, the delibera...</td>\n",
              "      <td>[[weird], [fun], [sounds], [deliberately], [pa...</td>\n",
              "      <td>weird fun sounds deliberately paced film dabbl...</td>\n",
              "      <td>[-0.13050662, 0.123967, 0.008662553, -0.189898...</td>\n",
              "    </tr>\n",
              "    <tr>\n",
              "      <th>5391</th>\n",
              "      <td>0</td>\n",
              "      <td>another beautifully rendered portrait of troub...</td>\n",
              "      <td>[[beautifully], [rendered], [portrait], [troub...</td>\n",
              "      <td>beautifully rendered portrait troubled hopeful...</td>\n",
              "      <td>[0.12951027, 0.14490424, -0.1077309, -0.177131...</td>\n",
              "    </tr>\n",
              "    <tr>\n",
              "      <th>861</th>\n",
              "      <td>0</td>\n",
              "      <td>splendid pictorial composition and dramatic li...</td>\n",
              "      <td>[[splendid], [pictorial], [composition], [dram...</td>\n",
              "      <td>splendid pictorial composition dramatic lighti...</td>\n",
              "      <td>[-0.06982876, -0.014956219, 0.03542628, -0.273...</td>\n",
              "    </tr>\n",
              "    <tr>\n",
              "      <th>15796</th>\n",
              "      <td>1</td>\n",
              "      <td>the final revelation here ... is as prepostero...</td>\n",
              "      <td>[[final], [revelation], [preposterous], [rest]...</td>\n",
              "      <td>final revelation preposterous rest movie generic</td>\n",
              "      <td>[0.11065032, 0.07391938, 0.022459159, -0.17580...</td>\n",
              "    </tr>\n",
              "  </tbody>\n",
              "</table>\n",
              "<p>16443 rows × 5 columns</p>\n",
              "</div>\n",
              "      <button class=\"colab-df-convert\" onclick=\"convertToInteractive('df-bb4a3a65-14ca-4dbc-a831-bb754c7881d6')\"\n",
              "              title=\"Convert this dataframe to an interactive table.\"\n",
              "              style=\"display:none;\">\n",
              "        \n",
              "  <svg xmlns=\"http://www.w3.org/2000/svg\" height=\"24px\"viewBox=\"0 0 24 24\"\n",
              "       width=\"24px\">\n",
              "    <path d=\"M0 0h24v24H0V0z\" fill=\"none\"/>\n",
              "    <path d=\"M18.56 5.44l.94 2.06.94-2.06 2.06-.94-2.06-.94-.94-2.06-.94 2.06-2.06.94zm-11 1L8.5 8.5l.94-2.06 2.06-.94-2.06-.94L8.5 2.5l-.94 2.06-2.06.94zm10 10l.94 2.06.94-2.06 2.06-.94-2.06-.94-.94-2.06-.94 2.06-2.06.94z\"/><path d=\"M17.41 7.96l-1.37-1.37c-.4-.4-.92-.59-1.43-.59-.52 0-1.04.2-1.43.59L10.3 9.45l-7.72 7.72c-.78.78-.78 2.05 0 2.83L4 21.41c.39.39.9.59 1.41.59.51 0 1.02-.2 1.41-.59l7.78-7.78 2.81-2.81c.8-.78.8-2.07 0-2.86zM5.41 20L4 18.59l7.72-7.72 1.47 1.35L5.41 20z\"/>\n",
              "  </svg>\n",
              "      </button>\n",
              "      \n",
              "  <style>\n",
              "    .colab-df-container {\n",
              "      display:flex;\n",
              "      flex-wrap:wrap;\n",
              "      gap: 12px;\n",
              "    }\n",
              "\n",
              "    .colab-df-convert {\n",
              "      background-color: #E8F0FE;\n",
              "      border: none;\n",
              "      border-radius: 50%;\n",
              "      cursor: pointer;\n",
              "      display: none;\n",
              "      fill: #1967D2;\n",
              "      height: 32px;\n",
              "      padding: 0 0 0 0;\n",
              "      width: 32px;\n",
              "    }\n",
              "\n",
              "    .colab-df-convert:hover {\n",
              "      background-color: #E2EBFA;\n",
              "      box-shadow: 0px 1px 2px rgba(60, 64, 67, 0.3), 0px 1px 3px 1px rgba(60, 64, 67, 0.15);\n",
              "      fill: #174EA6;\n",
              "    }\n",
              "\n",
              "    [theme=dark] .colab-df-convert {\n",
              "      background-color: #3B4455;\n",
              "      fill: #D2E3FC;\n",
              "    }\n",
              "\n",
              "    [theme=dark] .colab-df-convert:hover {\n",
              "      background-color: #434B5C;\n",
              "      box-shadow: 0px 1px 3px 1px rgba(0, 0, 0, 0.15);\n",
              "      filter: drop-shadow(0px 1px 2px rgba(0, 0, 0, 0.3));\n",
              "      fill: #FFFFFF;\n",
              "    }\n",
              "  </style>\n",
              "\n",
              "      <script>\n",
              "        const buttonEl =\n",
              "          document.querySelector('#df-bb4a3a65-14ca-4dbc-a831-bb754c7881d6 button.colab-df-convert');\n",
              "        buttonEl.style.display =\n",
              "          google.colab.kernel.accessAllowed ? 'block' : 'none';\n",
              "\n",
              "        async function convertToInteractive(key) {\n",
              "          const element = document.querySelector('#df-bb4a3a65-14ca-4dbc-a831-bb754c7881d6');\n",
              "          const dataTable =\n",
              "            await google.colab.kernel.invokeFunction('convertToInteractive',\n",
              "                                                     [key], {});\n",
              "          if (!dataTable) return;\n",
              "\n",
              "          const docLinkHtml = 'Like what you see? Visit the ' +\n",
              "            '<a target=\"_blank\" href=https://colab.research.google.com/notebooks/data_table.ipynb>data table notebook</a>'\n",
              "            + ' to learn more about interactive tables.';\n",
              "          element.innerHTML = '';\n",
              "          dataTable['output_type'] = 'display_data';\n",
              "          await google.colab.output.renderOutput(dataTable, element);\n",
              "          const docLink = document.createElement('div');\n",
              "          docLink.innerHTML = docLinkHtml;\n",
              "          element.appendChild(docLink);\n",
              "        }\n",
              "      </script>\n",
              "    </div>\n",
              "  </div>\n",
              "  "
            ]
          },
          "metadata": {},
          "execution_count": 45
        }
      ]
    },
    {
      "cell_type": "markdown",
      "source": [
        "##Test"
      ],
      "metadata": {
        "id": "Ftj3ntU27WXP"
      }
    },
    {
      "cell_type": "code",
      "execution_count": null,
      "metadata": {
        "id": "qUsIaiYr7fKU"
      },
      "outputs": [],
      "source": [
        "data_test['rev_list'] = list(map(lambda sentences:\n",
        "                                         list(map(nltk.word_tokenize, sentences)),\n",
        "                                         data_test.rev_list))  # tokenize sentences"
      ]
    },
    {
      "cell_type": "code",
      "source": [
        "# memberi nomor index\n",
        "index_kosong = []\n",
        "for i in range(len(data_test.rev_list)):\n",
        "  if len(data_test.rev_list.iloc[i]) == 0:\n",
        "    index_kosong.append(i)"
      ],
      "metadata": {
        "id": "d531_69Ogp7o"
      },
      "execution_count": null,
      "outputs": []
    },
    {
      "cell_type": "code",
      "source": [
        "# drop index yang masih kosong \n",
        "data_test = data_test.drop(data_test.index[index_kosong])"
      ],
      "metadata": {
        "id": "dzfgVsTcdOOM"
      },
      "execution_count": null,
      "outputs": []
    },
    {
      "cell_type": "code",
      "execution_count": null,
      "metadata": {
        "id": "WajX0mT67fKV",
        "colab": {
          "base_uri": "https://localhost:8080/"
        },
        "outputId": "da1af8b2-a110-471c-f0cf-76b5b42ab26b"
      },
      "outputs": [
        {
          "output_type": "stream",
          "name": "stderr",
          "text": [
            "/usr/local/lib/python3.7/dist-packages/ipykernel_launcher.py:12: DeprecationWarning:\n",
            "\n",
            "Call to deprecated `__getitem__` (Method will be removed in 4.0.0, use self.wv.__getitem__() instead).\n",
            "\n"
          ]
        }
      ],
      "source": [
        "data_test['w2v_features_skip'] = list(map(lambda sen_group:\n",
        "                                      get_w2v_features(modelskip, sen_group),\n",
        "                                      data_test.rev_list))"
      ]
    },
    {
      "cell_type": "code",
      "execution_count": null,
      "metadata": {
        "id": "moiws9P17fKV",
        "colab": {
          "base_uri": "https://localhost:8080/"
        },
        "outputId": "ec80fcd9-7a7e-4250-fba0-d34b2814d361"
      },
      "outputs": [
        {
          "output_type": "stream",
          "name": "stdout",
          "text": [
            "(7048, 300)\n"
          ]
        }
      ],
      "source": [
        "feature = [x for x in data_test['w2v_features_skip'].transpose()]\n",
        "word2vec_with_stop_features_test = np.asarray(feature)\n",
        "\n",
        "print(word2vec_with_stop_features_test.shape)"
      ]
    },
    {
      "cell_type": "code",
      "source": [
        "X_test = word2vec_with_stop_features_test"
      ],
      "metadata": {
        "id": "84_h3JKT7fKW"
      },
      "execution_count": null,
      "outputs": []
    },
    {
      "cell_type": "code",
      "source": [
        "data_test"
      ],
      "metadata": {
        "id": "aaUzjLH4dWe3",
        "colab": {
          "base_uri": "https://localhost:8080/",
          "height": 641
        },
        "outputId": "7e0c6d1a-8763-4e23-fa41-46dc105b9ad6"
      },
      "execution_count": null,
      "outputs": [
        {
          "output_type": "execute_result",
          "data": {
            "text/plain": [
              "       review_type                                     review_content  \\\n",
              "9660             0  the movie is full of wonderful character playe...   \n",
              "15581            1  margot robbie and will smith share a tangible ...   \n",
              "12059            1  committed isn't [heather] graham's fault. if, ...   \n",
              "8888             0  bad boys for life isn't only good; it may be t...   \n",
              "9845             0  flash of genius is a sincere and moving work, ...   \n",
              "...            ...                                                ...   \n",
              "15028            1  throughout his career as an actor, elvis presl...   \n",
              "4246             0  that's a lot of serious talent behind this net...   \n",
              "2311             0  [richard] attenborough manages to skillfully b...   \n",
              "20458            1  [t]he decision to film disaster as a comedy re...   \n",
              "7569             0  [pacino] proves one more time he's one of film...   \n",
              "\n",
              "                                                rev_list  \\\n",
              "9660   [[movie], [wonderful], [character], [players],...   \n",
              "15581  [[margot], [robbie], [smith], [share], [tangib...   \n",
              "12059  [[committed], [heather], [graham], [fault], [t...   \n",
              "8888           [[bad], [boys], [life], [good], [series]]   \n",
              "9845   [[flash], [genius], [moving], [work], [pedestr...   \n",
              "...                                                  ...   \n",
              "15028  [[career], [actor], [elvis], [presley], [invol...   \n",
              "4246   [[lot], [talent], [netflix], [original], [larg...   \n",
              "2311   [[richard], [attenborough], [manages], [skillf...   \n",
              "20458  [[decision], [film], [disaster], [comedy], [re...   \n",
              "7569   [[pacino], [proves], [time], [film], [finest],...   \n",
              "\n",
              "                                             rev_kalimat  \\\n",
              "9660   movie wonderful character players fun trumbo r...   \n",
              "15581  margot robbie smith share tangible chemistry s...   \n",
              "12059  committed heather graham fault time screen cha...   \n",
              "8888                           bad boys life good series   \n",
              "9845                 flash genius moving work pedestrian   \n",
              "...                                                  ...   \n",
              "15028  career actor elvis presley involved cinematic ...   \n",
              "4246   lot talent netflix original large pull jaiswal...   \n",
              "2311   richard attenborough manages skillfully balanc...   \n",
              "20458  decision film disaster comedy relegates charac...   \n",
              "7569               pacino proves time film finest actors   \n",
              "\n",
              "                                       w2v_features_skip  \n",
              "9660   [0.04152465, 0.08956647, 0.045683637, -0.11204...  \n",
              "15581  [-0.102406874, -0.11529929, 0.17369594, -0.243...  \n",
              "12059  [0.07697252, 0.079500936, -0.05447163, -0.1047...  \n",
              "8888   [0.13910103, 0.35064566, 0.02677458, -0.195291...  \n",
              "9845   [0.045609806, 0.10004594, -0.032505434, -0.139...  \n",
              "...                                                  ...  \n",
              "15028  [0.0071809185, 0.12341622, 0.052112084, -0.096...  \n",
              "4246   [0.05227098, 0.039380293, -0.09392311, -0.0770...  \n",
              "2311   [-0.12757997, -0.022111269, -0.044733576, -0.0...  \n",
              "20458  [-0.022652036, 0.0076340525, 0.1171721, -0.100...  \n",
              "7569   [-0.07904956, 0.025529949, 0.10458169, -0.0070...  \n",
              "\n",
              "[7048 rows x 5 columns]"
            ],
            "text/html": [
              "\n",
              "  <div id=\"df-9c249ea8-744e-48c8-a1be-6cc1c3e03171\">\n",
              "    <div class=\"colab-df-container\">\n",
              "      <div>\n",
              "<style scoped>\n",
              "    .dataframe tbody tr th:only-of-type {\n",
              "        vertical-align: middle;\n",
              "    }\n",
              "\n",
              "    .dataframe tbody tr th {\n",
              "        vertical-align: top;\n",
              "    }\n",
              "\n",
              "    .dataframe thead th {\n",
              "        text-align: right;\n",
              "    }\n",
              "</style>\n",
              "<table border=\"1\" class=\"dataframe\">\n",
              "  <thead>\n",
              "    <tr style=\"text-align: right;\">\n",
              "      <th></th>\n",
              "      <th>review_type</th>\n",
              "      <th>review_content</th>\n",
              "      <th>rev_list</th>\n",
              "      <th>rev_kalimat</th>\n",
              "      <th>w2v_features_skip</th>\n",
              "    </tr>\n",
              "  </thead>\n",
              "  <tbody>\n",
              "    <tr>\n",
              "      <th>9660</th>\n",
              "      <td>0</td>\n",
              "      <td>the movie is full of wonderful character playe...</td>\n",
              "      <td>[[movie], [wonderful], [character], [players],...</td>\n",
              "      <td>movie wonderful character players fun trumbo r...</td>\n",
              "      <td>[0.04152465, 0.08956647, 0.045683637, -0.11204...</td>\n",
              "    </tr>\n",
              "    <tr>\n",
              "      <th>15581</th>\n",
              "      <td>1</td>\n",
              "      <td>margot robbie and will smith share a tangible ...</td>\n",
              "      <td>[[margot], [robbie], [smith], [share], [tangib...</td>\n",
              "      <td>margot robbie smith share tangible chemistry s...</td>\n",
              "      <td>[-0.102406874, -0.11529929, 0.17369594, -0.243...</td>\n",
              "    </tr>\n",
              "    <tr>\n",
              "      <th>12059</th>\n",
              "      <td>1</td>\n",
              "      <td>committed isn't [heather] graham's fault. if, ...</td>\n",
              "      <td>[[committed], [heather], [graham], [fault], [t...</td>\n",
              "      <td>committed heather graham fault time screen cha...</td>\n",
              "      <td>[0.07697252, 0.079500936, -0.05447163, -0.1047...</td>\n",
              "    </tr>\n",
              "    <tr>\n",
              "      <th>8888</th>\n",
              "      <td>0</td>\n",
              "      <td>bad boys for life isn't only good; it may be t...</td>\n",
              "      <td>[[bad], [boys], [life], [good], [series]]</td>\n",
              "      <td>bad boys life good series</td>\n",
              "      <td>[0.13910103, 0.35064566, 0.02677458, -0.195291...</td>\n",
              "    </tr>\n",
              "    <tr>\n",
              "      <th>9845</th>\n",
              "      <td>0</td>\n",
              "      <td>flash of genius is a sincere and moving work, ...</td>\n",
              "      <td>[[flash], [genius], [moving], [work], [pedestr...</td>\n",
              "      <td>flash genius moving work pedestrian</td>\n",
              "      <td>[0.045609806, 0.10004594, -0.032505434, -0.139...</td>\n",
              "    </tr>\n",
              "    <tr>\n",
              "      <th>...</th>\n",
              "      <td>...</td>\n",
              "      <td>...</td>\n",
              "      <td>...</td>\n",
              "      <td>...</td>\n",
              "      <td>...</td>\n",
              "    </tr>\n",
              "    <tr>\n",
              "      <th>15028</th>\n",
              "      <td>1</td>\n",
              "      <td>throughout his career as an actor, elvis presl...</td>\n",
              "      <td>[[career], [actor], [elvis], [presley], [invol...</td>\n",
              "      <td>career actor elvis presley involved cinematic ...</td>\n",
              "      <td>[0.0071809185, 0.12341622, 0.052112084, -0.096...</td>\n",
              "    </tr>\n",
              "    <tr>\n",
              "      <th>4246</th>\n",
              "      <td>0</td>\n",
              "      <td>that's a lot of serious talent behind this net...</td>\n",
              "      <td>[[lot], [talent], [netflix], [original], [larg...</td>\n",
              "      <td>lot talent netflix original large pull jaiswal...</td>\n",
              "      <td>[0.05227098, 0.039380293, -0.09392311, -0.0770...</td>\n",
              "    </tr>\n",
              "    <tr>\n",
              "      <th>2311</th>\n",
              "      <td>0</td>\n",
              "      <td>[richard] attenborough manages to skillfully b...</td>\n",
              "      <td>[[richard], [attenborough], [manages], [skillf...</td>\n",
              "      <td>richard attenborough manages skillfully balanc...</td>\n",
              "      <td>[-0.12757997, -0.022111269, -0.044733576, -0.0...</td>\n",
              "    </tr>\n",
              "    <tr>\n",
              "      <th>20458</th>\n",
              "      <td>1</td>\n",
              "      <td>[t]he decision to film disaster as a comedy re...</td>\n",
              "      <td>[[decision], [film], [disaster], [comedy], [re...</td>\n",
              "      <td>decision film disaster comedy relegates charac...</td>\n",
              "      <td>[-0.022652036, 0.0076340525, 0.1171721, -0.100...</td>\n",
              "    </tr>\n",
              "    <tr>\n",
              "      <th>7569</th>\n",
              "      <td>0</td>\n",
              "      <td>[pacino] proves one more time he's one of film...</td>\n",
              "      <td>[[pacino], [proves], [time], [film], [finest],...</td>\n",
              "      <td>pacino proves time film finest actors</td>\n",
              "      <td>[-0.07904956, 0.025529949, 0.10458169, -0.0070...</td>\n",
              "    </tr>\n",
              "  </tbody>\n",
              "</table>\n",
              "<p>7048 rows × 5 columns</p>\n",
              "</div>\n",
              "      <button class=\"colab-df-convert\" onclick=\"convertToInteractive('df-9c249ea8-744e-48c8-a1be-6cc1c3e03171')\"\n",
              "              title=\"Convert this dataframe to an interactive table.\"\n",
              "              style=\"display:none;\">\n",
              "        \n",
              "  <svg xmlns=\"http://www.w3.org/2000/svg\" height=\"24px\"viewBox=\"0 0 24 24\"\n",
              "       width=\"24px\">\n",
              "    <path d=\"M0 0h24v24H0V0z\" fill=\"none\"/>\n",
              "    <path d=\"M18.56 5.44l.94 2.06.94-2.06 2.06-.94-2.06-.94-.94-2.06-.94 2.06-2.06.94zm-11 1L8.5 8.5l.94-2.06 2.06-.94-2.06-.94L8.5 2.5l-.94 2.06-2.06.94zm10 10l.94 2.06.94-2.06 2.06-.94-2.06-.94-.94-2.06-.94 2.06-2.06.94z\"/><path d=\"M17.41 7.96l-1.37-1.37c-.4-.4-.92-.59-1.43-.59-.52 0-1.04.2-1.43.59L10.3 9.45l-7.72 7.72c-.78.78-.78 2.05 0 2.83L4 21.41c.39.39.9.59 1.41.59.51 0 1.02-.2 1.41-.59l7.78-7.78 2.81-2.81c.8-.78.8-2.07 0-2.86zM5.41 20L4 18.59l7.72-7.72 1.47 1.35L5.41 20z\"/>\n",
              "  </svg>\n",
              "      </button>\n",
              "      \n",
              "  <style>\n",
              "    .colab-df-container {\n",
              "      display:flex;\n",
              "      flex-wrap:wrap;\n",
              "      gap: 12px;\n",
              "    }\n",
              "\n",
              "    .colab-df-convert {\n",
              "      background-color: #E8F0FE;\n",
              "      border: none;\n",
              "      border-radius: 50%;\n",
              "      cursor: pointer;\n",
              "      display: none;\n",
              "      fill: #1967D2;\n",
              "      height: 32px;\n",
              "      padding: 0 0 0 0;\n",
              "      width: 32px;\n",
              "    }\n",
              "\n",
              "    .colab-df-convert:hover {\n",
              "      background-color: #E2EBFA;\n",
              "      box-shadow: 0px 1px 2px rgba(60, 64, 67, 0.3), 0px 1px 3px 1px rgba(60, 64, 67, 0.15);\n",
              "      fill: #174EA6;\n",
              "    }\n",
              "\n",
              "    [theme=dark] .colab-df-convert {\n",
              "      background-color: #3B4455;\n",
              "      fill: #D2E3FC;\n",
              "    }\n",
              "\n",
              "    [theme=dark] .colab-df-convert:hover {\n",
              "      background-color: #434B5C;\n",
              "      box-shadow: 0px 1px 3px 1px rgba(0, 0, 0, 0.15);\n",
              "      filter: drop-shadow(0px 1px 2px rgba(0, 0, 0, 0.3));\n",
              "      fill: #FFFFFF;\n",
              "    }\n",
              "  </style>\n",
              "\n",
              "      <script>\n",
              "        const buttonEl =\n",
              "          document.querySelector('#df-9c249ea8-744e-48c8-a1be-6cc1c3e03171 button.colab-df-convert');\n",
              "        buttonEl.style.display =\n",
              "          google.colab.kernel.accessAllowed ? 'block' : 'none';\n",
              "\n",
              "        async function convertToInteractive(key) {\n",
              "          const element = document.querySelector('#df-9c249ea8-744e-48c8-a1be-6cc1c3e03171');\n",
              "          const dataTable =\n",
              "            await google.colab.kernel.invokeFunction('convertToInteractive',\n",
              "                                                     [key], {});\n",
              "          if (!dataTable) return;\n",
              "\n",
              "          const docLinkHtml = 'Like what you see? Visit the ' +\n",
              "            '<a target=\"_blank\" href=https://colab.research.google.com/notebooks/data_table.ipynb>data table notebook</a>'\n",
              "            + ' to learn more about interactive tables.';\n",
              "          element.innerHTML = '';\n",
              "          dataTable['output_type'] = 'display_data';\n",
              "          await google.colab.output.renderOutput(dataTable, element);\n",
              "          const docLink = document.createElement('div');\n",
              "          docLink.innerHTML = docLinkHtml;\n",
              "          element.appendChild(docLink);\n",
              "        }\n",
              "      </script>\n",
              "    </div>\n",
              "  </div>\n",
              "  "
            ]
          },
          "metadata": {},
          "execution_count": 52
        }
      ]
    },
    {
      "cell_type": "markdown",
      "metadata": {
        "id": "Dhd23xh5qzX8"
      },
      "source": [
        "#NB"
      ]
    },
    {
      "cell_type": "markdown",
      "metadata": {
        "id": "xT4lfVPksQ11"
      },
      "source": [
        "##Gaussian"
      ]
    },
    {
      "cell_type": "code",
      "source": [
        "y_train = data_train['review_type']\n",
        "y_test = data_test['review_type']"
      ],
      "metadata": {
        "id": "tWJSF57smc18"
      },
      "execution_count": null,
      "outputs": []
    },
    {
      "cell_type": "code",
      "execution_count": null,
      "metadata": {
        "id": "S3PNA5F7q1rx",
        "colab": {
          "base_uri": "https://localhost:8080/"
        },
        "outputId": "73f6bdc5-8852-4c03-b0ad-14ac27fbf399"
      },
      "outputs": [
        {
          "output_type": "execute_result",
          "data": {
            "text/plain": [
              "array([0, 0, 1, ..., 0, 1, 0])"
            ]
          },
          "metadata": {},
          "execution_count": 54
        }
      ],
      "source": [
        "model = GaussianNB()\n",
        "model.fit(X_train, y_train)\n",
        "pred = model.predict(X_train) #prediksi train\n",
        "Y_pred = model.predict(X_test) #prediksi test\n",
        "Y_pred\n"
      ]
    },
    {
      "cell_type": "markdown",
      "metadata": {
        "id": "U4yQSLWWsTOz"
      },
      "source": [
        "### Evaluation"
      ]
    },
    {
      "cell_type": "code",
      "execution_count": null,
      "metadata": {
        "id": "vUEXDbwEsVoG",
        "colab": {
          "base_uri": "https://localhost:8080/"
        },
        "outputId": "816b8e42-0eb5-4be0-c1a5-c44097cb46c1"
      },
      "outputs": [
        {
          "output_type": "stream",
          "name": "stdout",
          "text": [
            "Accuracy: 68.72871736662883 %\n",
            "Precision:  71.40544041450777 %\n",
            "Recall:  62.53545093590471 %\n",
            "F1 Score:  66.67674629573631 %\n"
          ]
        }
      ],
      "source": [
        "print(\"Accuracy:\", accuracy_score(y_test, Y_pred)*100, \"%\")\n",
        "print(\"Precision: \", precision_score(y_test, Y_pred)*100, \"%\")\n",
        "print(\"Recall: \", recall_score(y_test, Y_pred)*100, \"%\")\n",
        "print(\"F1 Score: \", f1_score(y_test, Y_pred)*100, \"%\")"
      ]
    },
    {
      "cell_type": "code",
      "source": [
        "print(\"Confusion Matrix\")\n",
        "print(confusion_matrix(y_test, Y_pred))\n",
        "tn, fp, fn, tp = confusion_matrix(y_test, Y_pred).ravel()\n",
        "print('TN: ', tn)\n",
        "print('FP: ', fp)\n",
        "print('FN: ', fn)\n",
        "print('TP: ', tp)"
      ],
      "metadata": {
        "id": "MG3dtJb8NU1h",
        "colab": {
          "base_uri": "https://localhost:8080/"
        },
        "outputId": "b9a0dd86-3e4f-4642-f619-340a58343943"
      },
      "execution_count": null,
      "outputs": [
        {
          "output_type": "stream",
          "name": "stdout",
          "text": [
            "Confusion Matrix\n",
            "[[2639  883]\n",
            " [1321 2205]]\n",
            "TN:  2639\n",
            "FP:  883\n",
            "FN:  1321\n",
            "TP:  2205\n"
          ]
        }
      ]
    },
    {
      "cell_type": "code",
      "source": [
        "print(\"Classification report\")\n",
        "print(classification_report(y_test, Y_pred))"
      ],
      "metadata": {
        "id": "XVtLHEeuKzQk",
        "colab": {
          "base_uri": "https://localhost:8080/"
        },
        "outputId": "e196650b-b4d8-428b-c35e-e7f935193641"
      },
      "execution_count": null,
      "outputs": [
        {
          "output_type": "stream",
          "name": "stdout",
          "text": [
            "Classification report\n",
            "              precision    recall  f1-score   support\n",
            "\n",
            "           0       0.67      0.75      0.71      3522\n",
            "           1       0.71      0.63      0.67      3526\n",
            "\n",
            "    accuracy                           0.69      7048\n",
            "   macro avg       0.69      0.69      0.69      7048\n",
            "weighted avg       0.69      0.69      0.69      7048\n",
            "\n"
          ]
        }
      ]
    },
    {
      "cell_type": "markdown",
      "source": [
        "### Export data"
      ],
      "metadata": {
        "id": "ibaBS3cvO8-7"
      }
    },
    {
      "cell_type": "code",
      "source": [
        "data_train_gaus = data_train.assign(sentiment_pred = pred)"
      ],
      "metadata": {
        "id": "vUU78N7LO8-8"
      },
      "execution_count": null,
      "outputs": []
    },
    {
      "cell_type": "code",
      "source": [
        "data_train_gaus.to_csv('drive/My Drive/TUGAS AKHIR/DATASET_2/Final Dataset/data_train_gaussian_300_pred_nostem.csv')"
      ],
      "metadata": {
        "id": "1Y1XPGhNO8-8"
      },
      "execution_count": null,
      "outputs": []
    },
    {
      "cell_type": "code",
      "source": [
        "data_test_gaus = data_test.assign(sentiment_pred = Y_pred)"
      ],
      "metadata": {
        "id": "B0vQfHNzO8-8"
      },
      "execution_count": null,
      "outputs": []
    },
    {
      "cell_type": "code",
      "source": [
        "data_test_gaus.to_csv('drive/My Drive/TUGAS AKHIR/DATASET_2/Final Dataset/data_test_gaussian_300_pred_nostem.csv')"
      ],
      "metadata": {
        "id": "0q32dwIKO8-8"
      },
      "execution_count": null,
      "outputs": []
    },
    {
      "cell_type": "markdown",
      "metadata": {
        "id": "VT7AXHIkshTK"
      },
      "source": [
        "##Multinomial"
      ]
    },
    {
      "cell_type": "code",
      "execution_count": null,
      "metadata": {
        "id": "p7vkTK4_ttKq"
      },
      "outputs": [],
      "source": [
        "from sklearn.preprocessing import MinMaxScaler\n",
        "\n",
        "scaler = MinMaxScaler()\n",
        "X_train_multinomial = scaler.fit_transform(X_train)\n",
        "X_test_multinomial = scaler.fit_transform(X_test)"
      ]
    },
    {
      "cell_type": "code",
      "execution_count": null,
      "metadata": {
        "id": "l_BE9qlQshTL",
        "colab": {
          "base_uri": "https://localhost:8080/"
        },
        "outputId": "32f2fdfa-fa82-4cf4-a1c2-330c71a5136c"
      },
      "outputs": [
        {
          "output_type": "execute_result",
          "data": {
            "text/plain": [
              "array([0, 0, 1, ..., 0, 1, 0])"
            ]
          },
          "metadata": {},
          "execution_count": 59
        }
      ],
      "source": [
        "model_multinomial = MultinomialNB()\n",
        "model_multinomial.fit(X_train_multinomial, y_train)\n",
        "pred_multinomial = model_multinomial.predict(X_train_multinomial) #prediksi train\n",
        "Y_pred_multinomial = model_multinomial.predict(X_test_multinomial) #prediksi test\n",
        "Y_pred_multinomial"
      ]
    },
    {
      "cell_type": "markdown",
      "metadata": {
        "id": "FIn0L7mMshTL"
      },
      "source": [
        "### Evaluation"
      ]
    },
    {
      "cell_type": "code",
      "execution_count": null,
      "metadata": {
        "id": "w7Pu0cBZP8Ia",
        "colab": {
          "base_uri": "https://localhost:8080/"
        },
        "outputId": "380360d8-5522-40e2-d2b6-6265cf7d81e0"
      },
      "outputs": [
        {
          "output_type": "stream",
          "name": "stdout",
          "text": [
            "Accuracy: 72.23325766174801 %\n",
            "Precision:  71.06040268456375 %\n",
            "Recall:  75.07090187180941 %\n",
            "F1 Score:  73.01061922493449 %\n"
          ]
        }
      ],
      "source": [
        "print(\"Accuracy:\", accuracy_score(y_test, Y_pred_multinomial)*100, \"%\")\n",
        "print(\"Precision: \", precision_score(y_test, Y_pred_multinomial)*100, \"%\")\n",
        "print(\"Recall: \", recall_score(y_test, Y_pred_multinomial)*100, \"%\")\n",
        "print(\"F1 Score: \", f1_score(y_test, Y_pred_multinomial)*100, \"%\")"
      ]
    },
    {
      "cell_type": "code",
      "source": [
        "print(\"Confusion Matrix\")\n",
        "print(confusion_matrix(y_test, Y_pred_multinomial))\n",
        "tn, fp, fn, tp = confusion_matrix(y_test, Y_pred_multinomial).ravel()\n",
        "print('TN: ', tn)\n",
        "print('FP: ', fp)\n",
        "print('FN: ', fn)\n",
        "print('TP: ', tp)"
      ],
      "metadata": {
        "id": "6_IXt28_P8Ib",
        "colab": {
          "base_uri": "https://localhost:8080/"
        },
        "outputId": "2b491bd8-d326-414d-b488-827c5c757683"
      },
      "execution_count": null,
      "outputs": [
        {
          "output_type": "stream",
          "name": "stdout",
          "text": [
            "Confusion Matrix\n",
            "[[2444 1078]\n",
            " [ 879 2647]]\n",
            "TN:  2444\n",
            "FP:  1078\n",
            "FN:  879\n",
            "TP:  2647\n"
          ]
        }
      ]
    },
    {
      "cell_type": "code",
      "source": [
        "print(\"Classification report\")\n",
        "print(classification_report(y_test, Y_pred_multinomial))"
      ],
      "metadata": {
        "id": "FPi_pVijP8Ib",
        "colab": {
          "base_uri": "https://localhost:8080/"
        },
        "outputId": "5e55fb9a-27d2-4aa6-c1b6-d2c94876c8fc"
      },
      "execution_count": null,
      "outputs": [
        {
          "output_type": "stream",
          "name": "stdout",
          "text": [
            "Classification report\n",
            "              precision    recall  f1-score   support\n",
            "\n",
            "           0       0.74      0.69      0.71      3522\n",
            "           1       0.71      0.75      0.73      3526\n",
            "\n",
            "    accuracy                           0.72      7048\n",
            "   macro avg       0.72      0.72      0.72      7048\n",
            "weighted avg       0.72      0.72      0.72      7048\n",
            "\n"
          ]
        }
      ]
    },
    {
      "cell_type": "markdown",
      "source": [
        "### Export data"
      ],
      "metadata": {
        "id": "eY6uSPtQVrny"
      }
    },
    {
      "cell_type": "code",
      "source": [
        "data_train_ex_multi = data_train.assign(sentiment_pred = pred_multinomial)"
      ],
      "metadata": {
        "id": "rxeji0PBYEYh"
      },
      "execution_count": null,
      "outputs": []
    },
    {
      "cell_type": "code",
      "source": [
        "data_train_ex_multi.to_csv('drive/My Drive/TUGAS AKHIR/DATASET_2/Final Dataset/data_train_multinomial_300_pred_nostem.csv')"
      ],
      "metadata": {
        "id": "Hb3BNJQEYEYi"
      },
      "execution_count": null,
      "outputs": []
    },
    {
      "cell_type": "code",
      "source": [
        "data_test_ex_multi = data_test.assign(sentiment_pred = Y_pred_multinomial)"
      ],
      "metadata": {
        "id": "LqqCB6TbYEYi"
      },
      "execution_count": null,
      "outputs": []
    },
    {
      "cell_type": "code",
      "source": [
        "data_test_ex_multi.to_csv('drive/My Drive/TUGAS AKHIR/DATASET_2/Final Dataset/data_test_multinomial_300_pred_nostem.csv')"
      ],
      "metadata": {
        "id": "d5RZAg-xYEYi"
      },
      "execution_count": null,
      "outputs": []
    },
    {
      "cell_type": "markdown",
      "source": [
        "\n",
        "\n",
        "#Dimensi 100"
      ],
      "metadata": {
        "id": "caZyPvJkSGBZ"
      }
    },
    {
      "cell_type": "code",
      "source": [
        "data_train2 = pd.read_csv('drive/My Drive/TUGAS AKHIR/DATASET_2/Final Dataset/data_train_nostem.csv')\n",
        "data_train2.head()"
      ],
      "metadata": {
        "id": "65_46-p7SKeK",
        "colab": {
          "base_uri": "https://localhost:8080/",
          "height": 624
        },
        "outputId": "38ec176a-929f-47ee-9455-8c5b1faa539c"
      },
      "execution_count": null,
      "outputs": [
        {
          "output_type": "execute_result",
          "data": {
            "text/plain": [
              "       review_type                                     review_content  \\\n",
              "14475            1  there is quite a bit to dark places that appea...   \n",
              "18185            1  the film tries to cover the logic gaps with co...   \n",
              "3796             0  #unfit is a timely and vital documentary on th...   \n",
              "14280            1  what starts out as a promising comic thriller ...   \n",
              "1281             0          i was pleasantly surprised by this movie.   \n",
              "...            ...                                                ...   \n",
              "11965            1  the ten commandments may have been impressive ...   \n",
              "21578            1  not as weird or fun as it sounds, the delibera...   \n",
              "5391             0  another beautifully rendered portrait of troub...   \n",
              "861              0  splendid pictorial composition and dramatic li...   \n",
              "15796            1  the final revelation here ... is as prepostero...   \n",
              "\n",
              "                                                rev_list  \\\n",
              "14475  [bit, dark, places, appears, marketable, surface]   \n",
              "18185  [film, cover, logic, gaps, comedy, jokes, bad,...   \n",
              "3796   [unfit, timely, vital, documentary, nature, pr...   \n",
              "14280  [starts, promising, comic, thriller, deflates,...   \n",
              "1281                      [pleasantly, surprised, movie]   \n",
              "...                                                  ...   \n",
              "11965  [commandments, impressive, time, film, horribl...   \n",
              "21578  [weird, fun, sounds, deliberately, paced, film...   \n",
              "5391   [beautifully, rendered, portrait, troubled, ho...   \n",
              "861    [splendid, pictorial, composition, dramatic, l...   \n",
              "15796  [final, revelation, preposterous, rest, movie,...   \n",
              "\n",
              "                                             rev_kalimat  \n",
              "14475         bit dark places appears marketable surface  \n",
              "18185  film cover logic gaps comedy jokes bad worsen ...  \n",
              "3796   unfit timely vital documentary nature presiden...  \n",
              "14280  starts promising comic thriller deflates clear...  \n",
              "1281                          pleasantly surprised movie  \n",
              "...                                                  ...  \n",
              "11965  commandments impressive time film horribly fai...  \n",
              "21578  weird fun sounds deliberately paced film dabbl...  \n",
              "5391   beautifully rendered portrait troubled hopeful...  \n",
              "861    splendid pictorial composition dramatic lighti...  \n",
              "15796   final revelation preposterous rest movie generic  \n",
              "\n",
              "[16457 rows x 4 columns]"
            ],
            "text/html": [
              "\n",
              "  <div id=\"df-47d699a8-d8ab-449e-b1a5-00772279ab18\">\n",
              "    <div class=\"colab-df-container\">\n",
              "      <div>\n",
              "<style scoped>\n",
              "    .dataframe tbody tr th:only-of-type {\n",
              "        vertical-align: middle;\n",
              "    }\n",
              "\n",
              "    .dataframe tbody tr th {\n",
              "        vertical-align: top;\n",
              "    }\n",
              "\n",
              "    .dataframe thead th {\n",
              "        text-align: right;\n",
              "    }\n",
              "</style>\n",
              "<table border=\"1\" class=\"dataframe\">\n",
              "  <thead>\n",
              "    <tr style=\"text-align: right;\">\n",
              "      <th></th>\n",
              "      <th>review_type</th>\n",
              "      <th>review_content</th>\n",
              "      <th>rev_list</th>\n",
              "      <th>rev_kalimat</th>\n",
              "    </tr>\n",
              "  </thead>\n",
              "  <tbody>\n",
              "    <tr>\n",
              "      <th>14475</th>\n",
              "      <td>1</td>\n",
              "      <td>there is quite a bit to dark places that appea...</td>\n",
              "      <td>[bit, dark, places, appears, marketable, surface]</td>\n",
              "      <td>bit dark places appears marketable surface</td>\n",
              "    </tr>\n",
              "    <tr>\n",
              "      <th>18185</th>\n",
              "      <td>1</td>\n",
              "      <td>the film tries to cover the logic gaps with co...</td>\n",
              "      <td>[film, cover, logic, gaps, comedy, jokes, bad,...</td>\n",
              "      <td>film cover logic gaps comedy jokes bad worsen ...</td>\n",
              "    </tr>\n",
              "    <tr>\n",
              "      <th>3796</th>\n",
              "      <td>0</td>\n",
              "      <td>#unfit is a timely and vital documentary on th...</td>\n",
              "      <td>[unfit, timely, vital, documentary, nature, pr...</td>\n",
              "      <td>unfit timely vital documentary nature presiden...</td>\n",
              "    </tr>\n",
              "    <tr>\n",
              "      <th>14280</th>\n",
              "      <td>1</td>\n",
              "      <td>what starts out as a promising comic thriller ...</td>\n",
              "      <td>[starts, promising, comic, thriller, deflates,...</td>\n",
              "      <td>starts promising comic thriller deflates clear...</td>\n",
              "    </tr>\n",
              "    <tr>\n",
              "      <th>1281</th>\n",
              "      <td>0</td>\n",
              "      <td>i was pleasantly surprised by this movie.</td>\n",
              "      <td>[pleasantly, surprised, movie]</td>\n",
              "      <td>pleasantly surprised movie</td>\n",
              "    </tr>\n",
              "    <tr>\n",
              "      <th>...</th>\n",
              "      <td>...</td>\n",
              "      <td>...</td>\n",
              "      <td>...</td>\n",
              "      <td>...</td>\n",
              "    </tr>\n",
              "    <tr>\n",
              "      <th>11965</th>\n",
              "      <td>1</td>\n",
              "      <td>the ten commandments may have been impressive ...</td>\n",
              "      <td>[commandments, impressive, time, film, horribl...</td>\n",
              "      <td>commandments impressive time film horribly fai...</td>\n",
              "    </tr>\n",
              "    <tr>\n",
              "      <th>21578</th>\n",
              "      <td>1</td>\n",
              "      <td>not as weird or fun as it sounds, the delibera...</td>\n",
              "      <td>[weird, fun, sounds, deliberately, paced, film...</td>\n",
              "      <td>weird fun sounds deliberately paced film dabbl...</td>\n",
              "    </tr>\n",
              "    <tr>\n",
              "      <th>5391</th>\n",
              "      <td>0</td>\n",
              "      <td>another beautifully rendered portrait of troub...</td>\n",
              "      <td>[beautifully, rendered, portrait, troubled, ho...</td>\n",
              "      <td>beautifully rendered portrait troubled hopeful...</td>\n",
              "    </tr>\n",
              "    <tr>\n",
              "      <th>861</th>\n",
              "      <td>0</td>\n",
              "      <td>splendid pictorial composition and dramatic li...</td>\n",
              "      <td>[splendid, pictorial, composition, dramatic, l...</td>\n",
              "      <td>splendid pictorial composition dramatic lighti...</td>\n",
              "    </tr>\n",
              "    <tr>\n",
              "      <th>15796</th>\n",
              "      <td>1</td>\n",
              "      <td>the final revelation here ... is as prepostero...</td>\n",
              "      <td>[final, revelation, preposterous, rest, movie,...</td>\n",
              "      <td>final revelation preposterous rest movie generic</td>\n",
              "    </tr>\n",
              "  </tbody>\n",
              "</table>\n",
              "<p>16457 rows × 4 columns</p>\n",
              "</div>\n",
              "      <button class=\"colab-df-convert\" onclick=\"convertToInteractive('df-47d699a8-d8ab-449e-b1a5-00772279ab18')\"\n",
              "              title=\"Convert this dataframe to an interactive table.\"\n",
              "              style=\"display:none;\">\n",
              "        \n",
              "  <svg xmlns=\"http://www.w3.org/2000/svg\" height=\"24px\"viewBox=\"0 0 24 24\"\n",
              "       width=\"24px\">\n",
              "    <path d=\"M0 0h24v24H0V0z\" fill=\"none\"/>\n",
              "    <path d=\"M18.56 5.44l.94 2.06.94-2.06 2.06-.94-2.06-.94-.94-2.06-.94 2.06-2.06.94zm-11 1L8.5 8.5l.94-2.06 2.06-.94-2.06-.94L8.5 2.5l-.94 2.06-2.06.94zm10 10l.94 2.06.94-2.06 2.06-.94-2.06-.94-.94-2.06-.94 2.06-2.06.94z\"/><path d=\"M17.41 7.96l-1.37-1.37c-.4-.4-.92-.59-1.43-.59-.52 0-1.04.2-1.43.59L10.3 9.45l-7.72 7.72c-.78.78-.78 2.05 0 2.83L4 21.41c.39.39.9.59 1.41.59.51 0 1.02-.2 1.41-.59l7.78-7.78 2.81-2.81c.8-.78.8-2.07 0-2.86zM5.41 20L4 18.59l7.72-7.72 1.47 1.35L5.41 20z\"/>\n",
              "  </svg>\n",
              "      </button>\n",
              "      \n",
              "  <style>\n",
              "    .colab-df-container {\n",
              "      display:flex;\n",
              "      flex-wrap:wrap;\n",
              "      gap: 12px;\n",
              "    }\n",
              "\n",
              "    .colab-df-convert {\n",
              "      background-color: #E8F0FE;\n",
              "      border: none;\n",
              "      border-radius: 50%;\n",
              "      cursor: pointer;\n",
              "      display: none;\n",
              "      fill: #1967D2;\n",
              "      height: 32px;\n",
              "      padding: 0 0 0 0;\n",
              "      width: 32px;\n",
              "    }\n",
              "\n",
              "    .colab-df-convert:hover {\n",
              "      background-color: #E2EBFA;\n",
              "      box-shadow: 0px 1px 2px rgba(60, 64, 67, 0.3), 0px 1px 3px 1px rgba(60, 64, 67, 0.15);\n",
              "      fill: #174EA6;\n",
              "    }\n",
              "\n",
              "    [theme=dark] .colab-df-convert {\n",
              "      background-color: #3B4455;\n",
              "      fill: #D2E3FC;\n",
              "    }\n",
              "\n",
              "    [theme=dark] .colab-df-convert:hover {\n",
              "      background-color: #434B5C;\n",
              "      box-shadow: 0px 1px 3px 1px rgba(0, 0, 0, 0.15);\n",
              "      filter: drop-shadow(0px 1px 2px rgba(0, 0, 0, 0.3));\n",
              "      fill: #FFFFFF;\n",
              "    }\n",
              "  </style>\n",
              "\n",
              "      <script>\n",
              "        const buttonEl =\n",
              "          document.querySelector('#df-47d699a8-d8ab-449e-b1a5-00772279ab18 button.colab-df-convert');\n",
              "        buttonEl.style.display =\n",
              "          google.colab.kernel.accessAllowed ? 'block' : 'none';\n",
              "\n",
              "        async function convertToInteractive(key) {\n",
              "          const element = document.querySelector('#df-47d699a8-d8ab-449e-b1a5-00772279ab18');\n",
              "          const dataTable =\n",
              "            await google.colab.kernel.invokeFunction('convertToInteractive',\n",
              "                                                     [key], {});\n",
              "          if (!dataTable) return;\n",
              "\n",
              "          const docLinkHtml = 'Like what you see? Visit the ' +\n",
              "            '<a target=\"_blank\" href=https://colab.research.google.com/notebooks/data_table.ipynb>data table notebook</a>'\n",
              "            + ' to learn more about interactive tables.';\n",
              "          element.innerHTML = '';\n",
              "          dataTable['output_type'] = 'display_data';\n",
              "          await google.colab.output.renderOutput(dataTable, element);\n",
              "          const docLink = document.createElement('div');\n",
              "          docLink.innerHTML = docLinkHtml;\n",
              "          element.appendChild(docLink);\n",
              "        }\n",
              "      </script>\n",
              "    </div>\n",
              "  </div>\n",
              "  "
            ]
          },
          "metadata": {},
          "execution_count": 63
        }
      ]
    },
    {
      "cell_type": "code",
      "source": [
        "print('Jumlah Data :', len(data_train2))\n",
        "print('Sentiment : ', data_train2.groupby(['review_type'])['review_type'].count())"
      ],
      "metadata": {
        "id": "Wm-jK2ZKSfTz",
        "colab": {
          "base_uri": "https://localhost:8080/"
        },
        "outputId": "7b89bb6b-d36a-4332-ee38-5e8059f78b49"
      },
      "execution_count": null,
      "outputs": [
        {
          "output_type": "stream",
          "name": "stdout",
          "text": [
            "Jumlah Data : 16457\n",
            "Sentiment :  review_type\n",
            "0    8234\n",
            "1    8223\n",
            "Name: review_type, dtype: int64\n"
          ]
        }
      ]
    },
    {
      "cell_type": "code",
      "source": [
        "data_test2 = pd.read_csv('drive/My Drive/TUGAS AKHIR/DATASET_2/Final Dataset/data_test_nostem.csv')\n",
        "data_test2.head()"
      ],
      "metadata": {
        "id": "GmosZLK0NCb6"
      },
      "execution_count": null,
      "outputs": []
    },
    {
      "cell_type": "code",
      "source": [
        "print('Jumlah Data :', len(data_test2))\n",
        "print('Sentiment : ', data_test2.groupby(['review_type'])['review_type'].count())"
      ],
      "metadata": {
        "id": "3Fnxc3XESfTz",
        "colab": {
          "base_uri": "https://localhost:8080/"
        },
        "outputId": "5b6352b0-17e0-4d3c-aec5-cd0644bdc48f"
      },
      "execution_count": null,
      "outputs": [
        {
          "output_type": "stream",
          "name": "stdout",
          "text": [
            "Jumlah Data : 7054\n",
            "Sentiment :  review_type\n",
            "0    3522\n",
            "1    3532\n",
            "Name: review_type, dtype: int64\n"
          ]
        }
      ]
    },
    {
      "cell_type": "markdown",
      "source": [
        "##W2V Train"
      ],
      "metadata": {
        "id": "zehBO08bQuLC"
      }
    },
    {
      "cell_type": "code",
      "execution_count": null,
      "metadata": {
        "id": "jS9NZ9tNQuLD"
      },
      "outputs": [],
      "source": [
        "Corpus_voc = [] \n",
        "temp = []\n",
        "# iterate through each sentence in the file \n",
        "for i in dataword2vec: \n",
        "  temp = [] \n",
        "  # tokenize the sentence into words \n",
        "  for j in word_tokenize(str(i)): \n",
        "      temp.append(j.lower()) \n",
        "  Corpus_voc.append(temp)"
      ]
    },
    {
      "cell_type": "code",
      "execution_count": null,
      "metadata": {
        "id": "tsL9RlhvQuLD"
      },
      "outputs": [],
      "source": [
        "data_train2['rev_list'] = list(map(lambda sentences:\n",
        "                                         list(map(nltk.word_tokenize, sentences)),\n",
        "                                         data_train2.rev_list))  # tokenize sentences"
      ]
    },
    {
      "cell_type": "code",
      "execution_count": null,
      "metadata": {
        "id": "wZoynNZIQuLD"
      },
      "outputs": [],
      "source": [
        "modelskip2 = Word2Vec(Corpus_voc, min_count = 1 , alpha = 0.1 , size=100, window=5, sg=1)"
      ]
    },
    {
      "cell_type": "code",
      "execution_count": null,
      "metadata": {
        "id": "jASysihUQuLD"
      },
      "outputs": [],
      "source": [
        "joblib.dump(modelskip2, '/content/drive/My Drive/TUGAS AKHIR/TA/Code/word2vecskip.jl')\n",
        "skipgram = joblib.load('/content/drive/My Drive/TUGAS AKHIR/TA/Code/word2vecskip.jl')"
      ]
    },
    {
      "cell_type": "code",
      "execution_count": null,
      "metadata": {
        "id": "Lsq8ijjqQuLF"
      },
      "outputs": [],
      "source": [
        "def get_w2v_features(w2v_model, sentence_group):\n",
        "    words = np.concatenate(sentence_group)  # words in text\n",
        "    index2word_set = set(w2v_model.wv.vocab.keys())  # words known to model\n",
        "    \n",
        "    featureVec = np.zeros(w2v_model.vector_size, dtype=\"float32\")\n",
        "    \n",
        "    # Initialize a counter for number of words in a review\n",
        "    nwords = 0\n",
        "    # Loop over each word in the comment and, if it is in the model's vocabulary, add its feature vector to the total\n",
        "    for word in words:\n",
        "        if word in index2word_set: \n",
        "            featureVec = np.add(featureVec, w2v_model[word])\n",
        "            nwords += 1.\n",
        "\n",
        "    # Divide the result by the number of words to get the average\n",
        "    if nwords > 0:\n",
        "        featureVec = np.divide(featureVec, nwords)\n",
        "    return featureVec\n",
        "\n",
        "#mengambil arti dari semua vektor kata yang ada pada kalimat untuk mendapatkan representasi vektor "
      ]
    },
    {
      "cell_type": "code",
      "source": [
        "# memberi nomor index\n",
        "index_kosong = []\n",
        "for i in range(len(data_train2.rev_list)):\n",
        "  if len(data_train2.rev_list.iloc[i]) == 0:\n",
        "    index_kosong.append(i)"
      ],
      "metadata": {
        "id": "BGEiTZj3jSPC"
      },
      "execution_count": null,
      "outputs": []
    },
    {
      "cell_type": "code",
      "source": [
        "# drop index yang masih kosong \n",
        "data_train2 = data_train2.drop(data_train2.index[index_kosong])"
      ],
      "metadata": {
        "id": "Gt88TniljSPC"
      },
      "execution_count": null,
      "outputs": []
    },
    {
      "cell_type": "code",
      "execution_count": null,
      "metadata": {
        "id": "yEO_9gb6QuLF",
        "colab": {
          "base_uri": "https://localhost:8080/"
        },
        "outputId": "61e2aa6c-ba3e-4fce-9e41-cb0bac1118a8"
      },
      "outputs": [
        {
          "output_type": "stream",
          "name": "stderr",
          "text": [
            "/usr/local/lib/python3.7/dist-packages/ipykernel_launcher.py:12: DeprecationWarning:\n",
            "\n",
            "Call to deprecated `__getitem__` (Method will be removed in 4.0.0, use self.wv.__getitem__() instead).\n",
            "\n"
          ]
        }
      ],
      "source": [
        "data_train2['w2v_features_skip'] = list(map(lambda sen_group:\n",
        "                                      get_w2v_features(modelskip2, sen_group),\n",
        "                                      data_train2.rev_list))"
      ]
    },
    {
      "cell_type": "code",
      "execution_count": null,
      "metadata": {
        "id": "Zw4IMBkuQuLG",
        "colab": {
          "base_uri": "https://localhost:8080/"
        },
        "outputId": "09af5695-9015-44a1-d4bc-d5697f2f540e"
      },
      "outputs": [
        {
          "output_type": "stream",
          "name": "stdout",
          "text": [
            "(16443, 100)\n"
          ]
        }
      ],
      "source": [
        "feature = [x for x in data_train2['w2v_features_skip'].transpose()]\n",
        "word2vec_with_stop_features_train2 = np.asarray(feature)\n",
        "\n",
        "print(word2vec_with_stop_features_train2.shape)"
      ]
    },
    {
      "cell_type": "code",
      "source": [
        "X_train2 = word2vec_with_stop_features_train2"
      ],
      "metadata": {
        "id": "6uOSnio1QuLG"
      },
      "execution_count": null,
      "outputs": []
    },
    {
      "cell_type": "markdown",
      "source": [
        "##W2V Test"
      ],
      "metadata": {
        "id": "cv-HsY3qQuLG"
      }
    },
    {
      "cell_type": "code",
      "execution_count": null,
      "metadata": {
        "id": "0-3H066yQuLG"
      },
      "outputs": [],
      "source": [
        "data_test2['rev_list'] = list(map(lambda sentences:\n",
        "                                         list(map(nltk.word_tokenize, sentences)),\n",
        "                                         data_test2.rev_list))  # tokenize sentences"
      ]
    },
    {
      "cell_type": "code",
      "source": [
        "# memberi nomor index\n",
        "index_kosong = []\n",
        "for i in range(len(data_test2.rev_list)):\n",
        "  if len(data_test2.rev_list.iloc[i]) == 0:\n",
        "    index_kosong.append(i)"
      ],
      "metadata": {
        "id": "cBsx0oALjY_o"
      },
      "execution_count": null,
      "outputs": []
    },
    {
      "cell_type": "code",
      "source": [
        "# drop index yang masih kosong \n",
        "data_test2 = data_test2.drop(data_test2.index[index_kosong])"
      ],
      "metadata": {
        "id": "_fSNgkRejY_o"
      },
      "execution_count": null,
      "outputs": []
    },
    {
      "cell_type": "code",
      "execution_count": null,
      "metadata": {
        "id": "LMUMsDc9QuLH",
        "colab": {
          "base_uri": "https://localhost:8080/"
        },
        "outputId": "be90bb68-5cc5-43f9-f199-94ef60abcb93"
      },
      "outputs": [
        {
          "output_type": "stream",
          "name": "stderr",
          "text": [
            "/usr/local/lib/python3.7/dist-packages/ipykernel_launcher.py:12: DeprecationWarning:\n",
            "\n",
            "Call to deprecated `__getitem__` (Method will be removed in 4.0.0, use self.wv.__getitem__() instead).\n",
            "\n"
          ]
        }
      ],
      "source": [
        "data_test2['w2v_features_skip'] = list(map(lambda sen_group:\n",
        "                                      get_w2v_features(modelskip2, sen_group),\n",
        "                                      data_test2.rev_list))"
      ]
    },
    {
      "cell_type": "code",
      "execution_count": null,
      "metadata": {
        "id": "XcJvVv6_QuLH",
        "colab": {
          "base_uri": "https://localhost:8080/"
        },
        "outputId": "a0c20b9e-e8e7-4106-f1ec-380b47ed6e79"
      },
      "outputs": [
        {
          "output_type": "stream",
          "name": "stdout",
          "text": [
            "(7048, 100)\n"
          ]
        }
      ],
      "source": [
        "feature = [x for x in data_test2['w2v_features_skip'].transpose()]\n",
        "word2vec_with_stop_features_test2 = np.asarray(feature)\n",
        "\n",
        "print(word2vec_with_stop_features_test2.shape)"
      ]
    },
    {
      "cell_type": "code",
      "source": [
        "X_test2 = word2vec_with_stop_features_test2"
      ],
      "metadata": {
        "id": "NPc8glmTQuLH"
      },
      "execution_count": null,
      "outputs": []
    },
    {
      "cell_type": "markdown",
      "metadata": {
        "id": "7vxcwsqJQuLI"
      },
      "source": [
        "##Gaussian"
      ]
    },
    {
      "cell_type": "code",
      "source": [
        "y_train2 = data_train2['review_type']\n",
        "y_test2 = data_test2['review_type']"
      ],
      "metadata": {
        "id": "6jDubEzvQuLI"
      },
      "execution_count": null,
      "outputs": []
    },
    {
      "cell_type": "code",
      "execution_count": null,
      "metadata": {
        "id": "TRajXTP8QuLI",
        "colab": {
          "base_uri": "https://localhost:8080/"
        },
        "outputId": "15513125-17f0-4b55-84d4-e940079ab8ef"
      },
      "outputs": [
        {
          "output_type": "execute_result",
          "data": {
            "text/plain": [
              "array([0, 0, 1, ..., 0, 1, 0])"
            ]
          },
          "metadata": {},
          "execution_count": 83
        }
      ],
      "source": [
        "model = GaussianNB()\n",
        "model.fit(X_train2, y_train2)\n",
        "pred2 = model.predict(X_train2) #prediksi train\n",
        "Y_pred2 = model.predict(X_test2) #prediksi test\n",
        "Y_pred2"
      ]
    },
    {
      "cell_type": "markdown",
      "source": [
        "### Evaluation"
      ],
      "metadata": {
        "id": "8jx3my5eSTGl"
      }
    },
    {
      "cell_type": "code",
      "execution_count": null,
      "metadata": {
        "id": "bCGJFIhwQuLJ",
        "colab": {
          "base_uri": "https://localhost:8080/"
        },
        "outputId": "4162f87b-bd53-4eda-9f69-89fed6b478e9"
      },
      "outputs": [
        {
          "output_type": "stream",
          "name": "stdout",
          "text": [
            "Accuracy: 70.64415437003404 %\n",
            "Precision:  72.0024161884627 %\n",
            "Recall:  67.61202495745887 %\n",
            "F1 Score:  69.73818926429722 %\n"
          ]
        }
      ],
      "source": [
        "print(\"Accuracy:\", accuracy_score(y_test2, Y_pred2)*100, \"%\")\n",
        "print(\"Precision: \", precision_score(y_test2, Y_pred2)*100, \"%\")\n",
        "print(\"Recall: \", recall_score(y_test2, Y_pred2)*100, \"%\")\n",
        "print(\"F1 Score: \", f1_score(y_test2, Y_pred2)*100, \"%\")"
      ]
    },
    {
      "cell_type": "code",
      "source": [
        "print(\"Confusion Matrix\")\n",
        "print(confusion_matrix(y_test2, Y_pred2))\n",
        "tn, fp, fn, tp = confusion_matrix(y_test2, Y_pred2).ravel()\n",
        "print('TN: ', tn)\n",
        "print('FP: ', fp)\n",
        "print('FN: ', fn)\n",
        "print('TP: ', tp)"
      ],
      "metadata": {
        "id": "Wog000MpQuLJ",
        "colab": {
          "base_uri": "https://localhost:8080/"
        },
        "outputId": "bd13ba3f-d3cc-4ae9-efca-7893d176a07c"
      },
      "execution_count": null,
      "outputs": [
        {
          "output_type": "stream",
          "name": "stdout",
          "text": [
            "Confusion Matrix\n",
            "[[2595  927]\n",
            " [1142 2384]]\n",
            "TN:  2595\n",
            "FP:  927\n",
            "FN:  1142\n",
            "TP:  2384\n"
          ]
        }
      ]
    },
    {
      "cell_type": "code",
      "source": [
        "print(\"Classification report\")\n",
        "print(classification_report(y_test2, Y_pred2))"
      ],
      "metadata": {
        "id": "xrvw_2ybQuLK",
        "colab": {
          "base_uri": "https://localhost:8080/"
        },
        "outputId": "a18ab64d-717c-4883-d428-e54197d3f099"
      },
      "execution_count": null,
      "outputs": [
        {
          "output_type": "stream",
          "name": "stdout",
          "text": [
            "Classification report\n",
            "              precision    recall  f1-score   support\n",
            "\n",
            "           0       0.69      0.74      0.71      3522\n",
            "           1       0.72      0.68      0.70      3526\n",
            "\n",
            "    accuracy                           0.71      7048\n",
            "   macro avg       0.71      0.71      0.71      7048\n",
            "weighted avg       0.71      0.71      0.71      7048\n",
            "\n"
          ]
        }
      ]
    },
    {
      "cell_type": "markdown",
      "source": [
        "### Export data"
      ],
      "metadata": {
        "id": "xbtKKuSXhcJP"
      }
    },
    {
      "cell_type": "code",
      "source": [
        "data_train_ex2 = data_train2.assign(sentiment_pred = pred2)"
      ],
      "metadata": {
        "id": "WuIddvBchcJP"
      },
      "execution_count": null,
      "outputs": []
    },
    {
      "cell_type": "code",
      "source": [
        "data_train_ex2.to_csv('drive/My Drive/TUGAS AKHIR/DATASET_2/Final Dataset/data_train_gaussian_100_pred_nostem.csv')"
      ],
      "metadata": {
        "id": "Ae8yQxXahcJQ"
      },
      "execution_count": null,
      "outputs": []
    },
    {
      "cell_type": "code",
      "source": [
        "data_test_ex2 = data_test2.assign(sentiment_pred = Y_pred2)"
      ],
      "metadata": {
        "id": "NmlDtvt5hcJQ"
      },
      "execution_count": null,
      "outputs": []
    },
    {
      "cell_type": "code",
      "source": [
        "data_test_ex2.to_csv('drive/My Drive/TUGAS AKHIR/DATASET_2/Final Dataset/data_test_gaussian_100_pred_nostem.csv')"
      ],
      "metadata": {
        "id": "hFW6X4WdhcJQ"
      },
      "execution_count": null,
      "outputs": []
    },
    {
      "cell_type": "markdown",
      "metadata": {
        "id": "8LBLtxeIQuLK"
      },
      "source": [
        "##Multinomial"
      ]
    },
    {
      "cell_type": "code",
      "execution_count": null,
      "metadata": {
        "id": "6aBvlrGdQuLK"
      },
      "outputs": [],
      "source": [
        "from sklearn.preprocessing import MinMaxScaler\n",
        "\n",
        "scaler = MinMaxScaler()\n",
        "X_train2_multi = scaler.fit_transform(X_train2)\n",
        "X_test2_multi = scaler.fit_transform(X_test2)"
      ]
    },
    {
      "cell_type": "code",
      "execution_count": null,
      "metadata": {
        "id": "OUrtPEkLQuLL",
        "colab": {
          "base_uri": "https://localhost:8080/"
        },
        "outputId": "6d2a6390-7049-4993-f7e3-5a8f015a592e"
      },
      "outputs": [
        {
          "output_type": "execute_result",
          "data": {
            "text/plain": [
              "array([1, 0, 1, ..., 0, 1, 0])"
            ]
          },
          "metadata": {},
          "execution_count": 88
        }
      ],
      "source": [
        "model2_multi = MultinomialNB()\n",
        "model2_multi.fit(X_train2_multi, y_train2)\n",
        "pred2_multi = model2_multi.predict(X_train2_multi) #prediksi train\n",
        "Y_pred2_multi = model2_multi.predict(X_test2_multi) #prediksi test\n",
        "Y_pred2_multi"
      ]
    },
    {
      "cell_type": "markdown",
      "metadata": {
        "id": "aJwuMLZdQuLL"
      },
      "source": [
        "### Evaluation"
      ]
    },
    {
      "cell_type": "code",
      "execution_count": null,
      "metadata": {
        "id": "XjQ6WXDJQuLL",
        "colab": {
          "base_uri": "https://localhost:8080/"
        },
        "outputId": "e00e3687-734f-46a2-e110-faffb71b3ec6"
      },
      "outputs": [
        {
          "output_type": "stream",
          "name": "stdout",
          "text": [
            "Accuracy: 71.59477866061293 %\n",
            "Precision:  69.21331316187594 %\n",
            "Recall:  77.85025524673851 %\n",
            "F1 Score:  73.27816337426589 %\n"
          ]
        }
      ],
      "source": [
        "print(\"Accuracy:\", accuracy_score(y_test2, Y_pred2_multi)*100, \"%\")\n",
        "print(\"Precision: \", precision_score(y_test2, Y_pred2_multi)*100, \"%\")\n",
        "print(\"Recall: \", recall_score(y_test2, Y_pred2_multi)*100, \"%\")\n",
        "print(\"F1 Score: \", f1_score(y_test2, Y_pred2_multi)*100, \"%\")"
      ]
    },
    {
      "cell_type": "code",
      "source": [
        "print(\"Confusion Matrix\")\n",
        "print(confusion_matrix(y_test2, Y_pred2_multi))\n",
        "tn, fp, fn, tp = confusion_matrix(y_test2, Y_pred2_multi).ravel()\n",
        "print('TN: ', tn)\n",
        "print('FP: ', fp)\n",
        "print('FN: ', fn)\n",
        "print('TP: ', tp)"
      ],
      "metadata": {
        "id": "bAM8-lhHQuLL",
        "colab": {
          "base_uri": "https://localhost:8080/"
        },
        "outputId": "1dfcbae7-f128-427b-c02d-f2a5cab67f13"
      },
      "execution_count": null,
      "outputs": [
        {
          "output_type": "stream",
          "name": "stdout",
          "text": [
            "Confusion Matrix\n",
            "[[2301 1221]\n",
            " [ 781 2745]]\n",
            "TN:  2301\n",
            "FP:  1221\n",
            "FN:  781\n",
            "TP:  2745\n"
          ]
        }
      ]
    },
    {
      "cell_type": "code",
      "source": [
        "print(\"Classification report\")\n",
        "print(classification_report(y_test2, Y_pred2_multi))"
      ],
      "metadata": {
        "id": "EFiUFRG1QuLL",
        "colab": {
          "base_uri": "https://localhost:8080/"
        },
        "outputId": "97095b71-5570-477f-8f5d-560cd5528f47"
      },
      "execution_count": null,
      "outputs": [
        {
          "output_type": "stream",
          "name": "stdout",
          "text": [
            "Classification report\n",
            "              precision    recall  f1-score   support\n",
            "\n",
            "           0       0.75      0.65      0.70      3522\n",
            "           1       0.69      0.78      0.73      3526\n",
            "\n",
            "    accuracy                           0.72      7048\n",
            "   macro avg       0.72      0.72      0.71      7048\n",
            "weighted avg       0.72      0.72      0.71      7048\n",
            "\n"
          ]
        }
      ]
    },
    {
      "cell_type": "markdown",
      "source": [
        "### Export data"
      ],
      "metadata": {
        "id": "z_w4ZwJahWC6"
      }
    },
    {
      "cell_type": "code",
      "source": [
        "data_train_ex2_multi = data_train2.assign(sentiment_pred = pred2_multi)"
      ],
      "metadata": {
        "id": "zgMRCmzFhWC7"
      },
      "execution_count": null,
      "outputs": []
    },
    {
      "cell_type": "code",
      "source": [
        "data_train_ex2_multi.to_csv('drive/My Drive/TUGAS AKHIR/DATASET_2/Final Dataset/data_train_multinomial_100_pred_nostem.csv')"
      ],
      "metadata": {
        "id": "PSoAd_-HhWC7"
      },
      "execution_count": null,
      "outputs": []
    },
    {
      "cell_type": "code",
      "source": [
        "data_test_ex2_multi = data_test2.assign(sentiment_pred = Y_pred2_multi)"
      ],
      "metadata": {
        "id": "fXUTUkSDhWC8"
      },
      "execution_count": null,
      "outputs": []
    },
    {
      "cell_type": "code",
      "source": [
        "data_test_ex2_multi.to_csv('drive/My Drive/TUGAS AKHIR/DATASET_2/Final Dataset/data_test_multinomial_100_pred_nostem.csv')"
      ],
      "metadata": {
        "id": "69bAqy87hWC8"
      },
      "execution_count": null,
      "outputs": []
    }
  ],
  "metadata": {
    "colab": {
      "collapsed_sections": [
        "eQVrEWX9myde"
      ],
      "name": "TA sul2(modeling no stem).ipynb",
      "provenance": [],
      "toc_visible": true
    },
    "kernelspec": {
      "display_name": "Python 3",
      "name": "python3"
    },
    "language_info": {
      "name": "python"
    }
  },
  "nbformat": 4,
  "nbformat_minor": 0
}